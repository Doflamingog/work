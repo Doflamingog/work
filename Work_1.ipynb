{
  "cells": [
    {
      "cell_type": "markdown",
      "source": [
        "# **ПЕРВАЯ ЧАСТЬ**"
      ],
      "metadata": {
        "id": "ODIEFDqy6ZuI"
      }
    },
    {
      "cell_type": "code",
      "execution_count": null,
      "metadata": {
        "id": "16YXO6-SzjcE"
      },
      "outputs": [],
      "source": [
        "import pandas as pd\n",
        "import numpy as np"
      ]
    },
    {
      "cell_type": "code",
      "execution_count": null,
      "metadata": {
        "colab": {
          "base_uri": "https://localhost:8080/"
        },
        "id": "MrTEHU4kzjcF",
        "outputId": "f39d2486-d7c9-48fe-d807-7bde6f9ad1fa"
      },
      "outputs": [
        {
          "output_type": "stream",
          "name": "stdout",
          "text": [
            "dz\t     test_additional_data.csv  train_additional_data.csv\n",
            "sample_data  test_main_data.csv        train_main_data.csv\n"
          ]
        }
      ],
      "source": [
        "!ls"
      ]
    },
    {
      "cell_type": "code",
      "execution_count": null,
      "metadata": {
        "id": "RelJ8Qa2zjcG"
      },
      "outputs": [],
      "source": [
        "train_main_df = pd.read_csv('train_main_data.csv')\n",
        "train_additional_df = pd.read_csv('train_additional_data.csv')"
      ]
    },
    {
      "cell_type": "code",
      "execution_count": null,
      "metadata": {
        "id": "KAm4eLAhzjcG"
      },
      "outputs": [],
      "source": [
        "test_main_df = pd.read_csv('test_main_data.csv')\n",
        "test_additional_df = pd.read_csv('test_additional_data.csv')"
      ]
    },
    {
      "cell_type": "code",
      "execution_count": null,
      "metadata": {
        "colab": {
          "base_uri": "https://localhost:8080/"
        },
        "id": "R4STybhZzjcG",
        "outputId": "1962f0b0-057c-4f33-d496-52bf3edc9371"
      },
      "outputs": [
        {
          "output_type": "execute_result",
          "data": {
            "text/plain": [
              "(29000, 13)"
            ]
          },
          "metadata": {},
          "execution_count": 269
        }
      ],
      "source": [
        "train_main_df.shape"
      ]
    },
    {
      "cell_type": "code",
      "execution_count": null,
      "metadata": {
        "colab": {
          "base_uri": "https://localhost:8080/",
          "height": 204
        },
        "id": "04wlZJ5OzjcH",
        "outputId": "0e78f3bf-0784-4918-9ef8-b83605fee65e"
      },
      "outputs": [
        {
          "output_type": "execute_result",
          "data": {
            "text/plain": [
              "      id   timestamp  full_sq  life_sq  floor  max_floor  material  \\\n",
              "0  81237  2014-09-23       50     28.0   11.0       12.0       1.0   \n",
              "1  96765  2014-07-31       42     28.0    1.0        5.0       2.0   \n",
              "2  64804  2015-06-11       62      NaN    9.0       17.0       1.0   \n",
              "3  27439  2013-11-17       45     45.0    9.0       25.0       1.0   \n",
              "4  17258  2014-02-10       57     38.0    2.0        9.0       1.0   \n",
              "\n",
              "   build_year  num_room  kitch_sq  apartment condition  sub_area         price  \n",
              "0      1984.0       2.0       8.0                  NaN        77  8.908240e+06  \n",
              "1      1961.0       2.0       6.0                  2.0        15  4.616088e+06  \n",
              "2         NaN       2.0       0.0                  NaN       103  5.826177e+06  \n",
              "3         1.0       3.0       1.0                  1.0       102  4.053249e+06  \n",
              "4      1968.0       3.0       6.0                  3.0        15  2.024600e+06  "
            ],
            "text/html": [
              "\n",
              "  <div id=\"df-3401fc9e-31da-46d6-9584-f5ec344b568a\">\n",
              "    <div class=\"colab-df-container\">\n",
              "      <div>\n",
              "<style scoped>\n",
              "    .dataframe tbody tr th:only-of-type {\n",
              "        vertical-align: middle;\n",
              "    }\n",
              "\n",
              "    .dataframe tbody tr th {\n",
              "        vertical-align: top;\n",
              "    }\n",
              "\n",
              "    .dataframe thead th {\n",
              "        text-align: right;\n",
              "    }\n",
              "</style>\n",
              "<table border=\"1\" class=\"dataframe\">\n",
              "  <thead>\n",
              "    <tr style=\"text-align: right;\">\n",
              "      <th></th>\n",
              "      <th>id</th>\n",
              "      <th>timestamp</th>\n",
              "      <th>full_sq</th>\n",
              "      <th>life_sq</th>\n",
              "      <th>floor</th>\n",
              "      <th>max_floor</th>\n",
              "      <th>material</th>\n",
              "      <th>build_year</th>\n",
              "      <th>num_room</th>\n",
              "      <th>kitch_sq</th>\n",
              "      <th>apartment condition</th>\n",
              "      <th>sub_area</th>\n",
              "      <th>price</th>\n",
              "    </tr>\n",
              "  </thead>\n",
              "  <tbody>\n",
              "    <tr>\n",
              "      <th>0</th>\n",
              "      <td>81237</td>\n",
              "      <td>2014-09-23</td>\n",
              "      <td>50</td>\n",
              "      <td>28.0</td>\n",
              "      <td>11.0</td>\n",
              "      <td>12.0</td>\n",
              "      <td>1.0</td>\n",
              "      <td>1984.0</td>\n",
              "      <td>2.0</td>\n",
              "      <td>8.0</td>\n",
              "      <td>NaN</td>\n",
              "      <td>77</td>\n",
              "      <td>8.908240e+06</td>\n",
              "    </tr>\n",
              "    <tr>\n",
              "      <th>1</th>\n",
              "      <td>96765</td>\n",
              "      <td>2014-07-31</td>\n",
              "      <td>42</td>\n",
              "      <td>28.0</td>\n",
              "      <td>1.0</td>\n",
              "      <td>5.0</td>\n",
              "      <td>2.0</td>\n",
              "      <td>1961.0</td>\n",
              "      <td>2.0</td>\n",
              "      <td>6.0</td>\n",
              "      <td>2.0</td>\n",
              "      <td>15</td>\n",
              "      <td>4.616088e+06</td>\n",
              "    </tr>\n",
              "    <tr>\n",
              "      <th>2</th>\n",
              "      <td>64804</td>\n",
              "      <td>2015-06-11</td>\n",
              "      <td>62</td>\n",
              "      <td>NaN</td>\n",
              "      <td>9.0</td>\n",
              "      <td>17.0</td>\n",
              "      <td>1.0</td>\n",
              "      <td>NaN</td>\n",
              "      <td>2.0</td>\n",
              "      <td>0.0</td>\n",
              "      <td>NaN</td>\n",
              "      <td>103</td>\n",
              "      <td>5.826177e+06</td>\n",
              "    </tr>\n",
              "    <tr>\n",
              "      <th>3</th>\n",
              "      <td>27439</td>\n",
              "      <td>2013-11-17</td>\n",
              "      <td>45</td>\n",
              "      <td>45.0</td>\n",
              "      <td>9.0</td>\n",
              "      <td>25.0</td>\n",
              "      <td>1.0</td>\n",
              "      <td>1.0</td>\n",
              "      <td>3.0</td>\n",
              "      <td>1.0</td>\n",
              "      <td>1.0</td>\n",
              "      <td>102</td>\n",
              "      <td>4.053249e+06</td>\n",
              "    </tr>\n",
              "    <tr>\n",
              "      <th>4</th>\n",
              "      <td>17258</td>\n",
              "      <td>2014-02-10</td>\n",
              "      <td>57</td>\n",
              "      <td>38.0</td>\n",
              "      <td>2.0</td>\n",
              "      <td>9.0</td>\n",
              "      <td>1.0</td>\n",
              "      <td>1968.0</td>\n",
              "      <td>3.0</td>\n",
              "      <td>6.0</td>\n",
              "      <td>3.0</td>\n",
              "      <td>15</td>\n",
              "      <td>2.024600e+06</td>\n",
              "    </tr>\n",
              "  </tbody>\n",
              "</table>\n",
              "</div>\n",
              "      <button class=\"colab-df-convert\" onclick=\"convertToInteractive('df-3401fc9e-31da-46d6-9584-f5ec344b568a')\"\n",
              "              title=\"Convert this dataframe to an interactive table.\"\n",
              "              style=\"display:none;\">\n",
              "        \n",
              "  <svg xmlns=\"http://www.w3.org/2000/svg\" height=\"24px\"viewBox=\"0 0 24 24\"\n",
              "       width=\"24px\">\n",
              "    <path d=\"M0 0h24v24H0V0z\" fill=\"none\"/>\n",
              "    <path d=\"M18.56 5.44l.94 2.06.94-2.06 2.06-.94-2.06-.94-.94-2.06-.94 2.06-2.06.94zm-11 1L8.5 8.5l.94-2.06 2.06-.94-2.06-.94L8.5 2.5l-.94 2.06-2.06.94zm10 10l.94 2.06.94-2.06 2.06-.94-2.06-.94-.94-2.06-.94 2.06-2.06.94z\"/><path d=\"M17.41 7.96l-1.37-1.37c-.4-.4-.92-.59-1.43-.59-.52 0-1.04.2-1.43.59L10.3 9.45l-7.72 7.72c-.78.78-.78 2.05 0 2.83L4 21.41c.39.39.9.59 1.41.59.51 0 1.02-.2 1.41-.59l7.78-7.78 2.81-2.81c.8-.78.8-2.07 0-2.86zM5.41 20L4 18.59l7.72-7.72 1.47 1.35L5.41 20z\"/>\n",
              "  </svg>\n",
              "      </button>\n",
              "      \n",
              "  <style>\n",
              "    .colab-df-container {\n",
              "      display:flex;\n",
              "      flex-wrap:wrap;\n",
              "      gap: 12px;\n",
              "    }\n",
              "\n",
              "    .colab-df-convert {\n",
              "      background-color: #E8F0FE;\n",
              "      border: none;\n",
              "      border-radius: 50%;\n",
              "      cursor: pointer;\n",
              "      display: none;\n",
              "      fill: #1967D2;\n",
              "      height: 32px;\n",
              "      padding: 0 0 0 0;\n",
              "      width: 32px;\n",
              "    }\n",
              "\n",
              "    .colab-df-convert:hover {\n",
              "      background-color: #E2EBFA;\n",
              "      box-shadow: 0px 1px 2px rgba(60, 64, 67, 0.3), 0px 1px 3px 1px rgba(60, 64, 67, 0.15);\n",
              "      fill: #174EA6;\n",
              "    }\n",
              "\n",
              "    [theme=dark] .colab-df-convert {\n",
              "      background-color: #3B4455;\n",
              "      fill: #D2E3FC;\n",
              "    }\n",
              "\n",
              "    [theme=dark] .colab-df-convert:hover {\n",
              "      background-color: #434B5C;\n",
              "      box-shadow: 0px 1px 3px 1px rgba(0, 0, 0, 0.15);\n",
              "      filter: drop-shadow(0px 1px 2px rgba(0, 0, 0, 0.3));\n",
              "      fill: #FFFFFF;\n",
              "    }\n",
              "  </style>\n",
              "\n",
              "      <script>\n",
              "        const buttonEl =\n",
              "          document.querySelector('#df-3401fc9e-31da-46d6-9584-f5ec344b568a button.colab-df-convert');\n",
              "        buttonEl.style.display =\n",
              "          google.colab.kernel.accessAllowed ? 'block' : 'none';\n",
              "\n",
              "        async function convertToInteractive(key) {\n",
              "          const element = document.querySelector('#df-3401fc9e-31da-46d6-9584-f5ec344b568a');\n",
              "          const dataTable =\n",
              "            await google.colab.kernel.invokeFunction('convertToInteractive',\n",
              "                                                     [key], {});\n",
              "          if (!dataTable) return;\n",
              "\n",
              "          const docLinkHtml = 'Like what you see? Visit the ' +\n",
              "            '<a target=\"_blank\" href=https://colab.research.google.com/notebooks/data_table.ipynb>data table notebook</a>'\n",
              "            + ' to learn more about interactive tables.';\n",
              "          element.innerHTML = '';\n",
              "          dataTable['output_type'] = 'display_data';\n",
              "          await google.colab.output.renderOutput(dataTable, element);\n",
              "          const docLink = document.createElement('div');\n",
              "          docLink.innerHTML = docLinkHtml;\n",
              "          element.appendChild(docLink);\n",
              "        }\n",
              "      </script>\n",
              "    </div>\n",
              "  </div>\n",
              "  "
            ]
          },
          "metadata": {},
          "execution_count": 270
        }
      ],
      "source": [
        "train_main_df.head()"
      ]
    },
    {
      "cell_type": "code",
      "execution_count": null,
      "metadata": {
        "colab": {
          "base_uri": "https://localhost:8080/",
          "height": 268
        },
        "id": "cvjVlE5ezjcH",
        "outputId": "331eab73-5add-443b-c42b-90a63311b51a"
      },
      "outputs": [
        {
          "output_type": "execute_result",
          "data": {
            "text/plain": [
              "      id  population  indust_part  preschool_facilities  school_facilities  \\\n",
              "0  81237       78616     0.093443                     6                  8   \n",
              "1  96765      125354     0.265089                     4                  5   \n",
              "2  64804        4001     0.007122                     0                  0   \n",
              "3  27439        9553     0.072158                     0                  0   \n",
              "4  17258      125354     0.265089                     4                  5   \n",
              "\n",
              "   hospital_beds_raion  healthcare_facilities  university_num  \\\n",
              "0               3300.0                      2               1   \n",
              "1               1937.0                      3               0   \n",
              "2                  NaN                      0               0   \n",
              "3                  NaN                      0               0   \n",
              "4               1937.0                      3               0   \n",
              "\n",
              "   sport_objects_facilities  additional_education_facilities  \\\n",
              "0                        11                                1   \n",
              "1                         6                                4   \n",
              "2                         0                                0   \n",
              "3                         1                                0   \n",
              "4                         6                                4   \n",
              "\n",
              "   culture_objects_facilities  shopping_centers_facilities  office_num  \\\n",
              "0                           0                            4           5   \n",
              "1                           0                            2           0   \n",
              "2                           0                            1           0   \n",
              "3                           0                            0           1   \n",
              "4                           0                            2           0   \n",
              "\n",
              "   green_part  prom_part  cafe_count  church_facilities  mosque  \\\n",
              "0       16.06       2.68           2                  0       1   \n",
              "1        3.24       0.00           2                  0       0   \n",
              "2        3.33       3.70           2                  0       0   \n",
              "3        0.00      14.00           0                  1       0   \n",
              "4        6.64       0.00           1                  0       0   \n",
              "\n",
              "   leisure_facilities  \n",
              "0                   0  \n",
              "1                   0  \n",
              "2                   0  \n",
              "3                   0  \n",
              "4                   0  "
            ],
            "text/html": [
              "\n",
              "  <div id=\"df-b1324d33-ecd2-4125-b9bf-6800963d6365\">\n",
              "    <div class=\"colab-df-container\">\n",
              "      <div>\n",
              "<style scoped>\n",
              "    .dataframe tbody tr th:only-of-type {\n",
              "        vertical-align: middle;\n",
              "    }\n",
              "\n",
              "    .dataframe tbody tr th {\n",
              "        vertical-align: top;\n",
              "    }\n",
              "\n",
              "    .dataframe thead th {\n",
              "        text-align: right;\n",
              "    }\n",
              "</style>\n",
              "<table border=\"1\" class=\"dataframe\">\n",
              "  <thead>\n",
              "    <tr style=\"text-align: right;\">\n",
              "      <th></th>\n",
              "      <th>id</th>\n",
              "      <th>population</th>\n",
              "      <th>indust_part</th>\n",
              "      <th>preschool_facilities</th>\n",
              "      <th>school_facilities</th>\n",
              "      <th>hospital_beds_raion</th>\n",
              "      <th>healthcare_facilities</th>\n",
              "      <th>university_num</th>\n",
              "      <th>sport_objects_facilities</th>\n",
              "      <th>additional_education_facilities</th>\n",
              "      <th>culture_objects_facilities</th>\n",
              "      <th>shopping_centers_facilities</th>\n",
              "      <th>office_num</th>\n",
              "      <th>green_part</th>\n",
              "      <th>prom_part</th>\n",
              "      <th>cafe_count</th>\n",
              "      <th>church_facilities</th>\n",
              "      <th>mosque</th>\n",
              "      <th>leisure_facilities</th>\n",
              "    </tr>\n",
              "  </thead>\n",
              "  <tbody>\n",
              "    <tr>\n",
              "      <th>0</th>\n",
              "      <td>81237</td>\n",
              "      <td>78616</td>\n",
              "      <td>0.093443</td>\n",
              "      <td>6</td>\n",
              "      <td>8</td>\n",
              "      <td>3300.0</td>\n",
              "      <td>2</td>\n",
              "      <td>1</td>\n",
              "      <td>11</td>\n",
              "      <td>1</td>\n",
              "      <td>0</td>\n",
              "      <td>4</td>\n",
              "      <td>5</td>\n",
              "      <td>16.06</td>\n",
              "      <td>2.68</td>\n",
              "      <td>2</td>\n",
              "      <td>0</td>\n",
              "      <td>1</td>\n",
              "      <td>0</td>\n",
              "    </tr>\n",
              "    <tr>\n",
              "      <th>1</th>\n",
              "      <td>96765</td>\n",
              "      <td>125354</td>\n",
              "      <td>0.265089</td>\n",
              "      <td>4</td>\n",
              "      <td>5</td>\n",
              "      <td>1937.0</td>\n",
              "      <td>3</td>\n",
              "      <td>0</td>\n",
              "      <td>6</td>\n",
              "      <td>4</td>\n",
              "      <td>0</td>\n",
              "      <td>2</td>\n",
              "      <td>0</td>\n",
              "      <td>3.24</td>\n",
              "      <td>0.00</td>\n",
              "      <td>2</td>\n",
              "      <td>0</td>\n",
              "      <td>0</td>\n",
              "      <td>0</td>\n",
              "    </tr>\n",
              "    <tr>\n",
              "      <th>2</th>\n",
              "      <td>64804</td>\n",
              "      <td>4001</td>\n",
              "      <td>0.007122</td>\n",
              "      <td>0</td>\n",
              "      <td>0</td>\n",
              "      <td>NaN</td>\n",
              "      <td>0</td>\n",
              "      <td>0</td>\n",
              "      <td>0</td>\n",
              "      <td>0</td>\n",
              "      <td>0</td>\n",
              "      <td>1</td>\n",
              "      <td>0</td>\n",
              "      <td>3.33</td>\n",
              "      <td>3.70</td>\n",
              "      <td>2</td>\n",
              "      <td>0</td>\n",
              "      <td>0</td>\n",
              "      <td>0</td>\n",
              "    </tr>\n",
              "    <tr>\n",
              "      <th>3</th>\n",
              "      <td>27439</td>\n",
              "      <td>9553</td>\n",
              "      <td>0.072158</td>\n",
              "      <td>0</td>\n",
              "      <td>0</td>\n",
              "      <td>NaN</td>\n",
              "      <td>0</td>\n",
              "      <td>0</td>\n",
              "      <td>1</td>\n",
              "      <td>0</td>\n",
              "      <td>0</td>\n",
              "      <td>0</td>\n",
              "      <td>1</td>\n",
              "      <td>0.00</td>\n",
              "      <td>14.00</td>\n",
              "      <td>0</td>\n",
              "      <td>1</td>\n",
              "      <td>0</td>\n",
              "      <td>0</td>\n",
              "    </tr>\n",
              "    <tr>\n",
              "      <th>4</th>\n",
              "      <td>17258</td>\n",
              "      <td>125354</td>\n",
              "      <td>0.265089</td>\n",
              "      <td>4</td>\n",
              "      <td>5</td>\n",
              "      <td>1937.0</td>\n",
              "      <td>3</td>\n",
              "      <td>0</td>\n",
              "      <td>6</td>\n",
              "      <td>4</td>\n",
              "      <td>0</td>\n",
              "      <td>2</td>\n",
              "      <td>0</td>\n",
              "      <td>6.64</td>\n",
              "      <td>0.00</td>\n",
              "      <td>1</td>\n",
              "      <td>0</td>\n",
              "      <td>0</td>\n",
              "      <td>0</td>\n",
              "    </tr>\n",
              "  </tbody>\n",
              "</table>\n",
              "</div>\n",
              "      <button class=\"colab-df-convert\" onclick=\"convertToInteractive('df-b1324d33-ecd2-4125-b9bf-6800963d6365')\"\n",
              "              title=\"Convert this dataframe to an interactive table.\"\n",
              "              style=\"display:none;\">\n",
              "        \n",
              "  <svg xmlns=\"http://www.w3.org/2000/svg\" height=\"24px\"viewBox=\"0 0 24 24\"\n",
              "       width=\"24px\">\n",
              "    <path d=\"M0 0h24v24H0V0z\" fill=\"none\"/>\n",
              "    <path d=\"M18.56 5.44l.94 2.06.94-2.06 2.06-.94-2.06-.94-.94-2.06-.94 2.06-2.06.94zm-11 1L8.5 8.5l.94-2.06 2.06-.94-2.06-.94L8.5 2.5l-.94 2.06-2.06.94zm10 10l.94 2.06.94-2.06 2.06-.94-2.06-.94-.94-2.06-.94 2.06-2.06.94z\"/><path d=\"M17.41 7.96l-1.37-1.37c-.4-.4-.92-.59-1.43-.59-.52 0-1.04.2-1.43.59L10.3 9.45l-7.72 7.72c-.78.78-.78 2.05 0 2.83L4 21.41c.39.39.9.59 1.41.59.51 0 1.02-.2 1.41-.59l7.78-7.78 2.81-2.81c.8-.78.8-2.07 0-2.86zM5.41 20L4 18.59l7.72-7.72 1.47 1.35L5.41 20z\"/>\n",
              "  </svg>\n",
              "      </button>\n",
              "      \n",
              "  <style>\n",
              "    .colab-df-container {\n",
              "      display:flex;\n",
              "      flex-wrap:wrap;\n",
              "      gap: 12px;\n",
              "    }\n",
              "\n",
              "    .colab-df-convert {\n",
              "      background-color: #E8F0FE;\n",
              "      border: none;\n",
              "      border-radius: 50%;\n",
              "      cursor: pointer;\n",
              "      display: none;\n",
              "      fill: #1967D2;\n",
              "      height: 32px;\n",
              "      padding: 0 0 0 0;\n",
              "      width: 32px;\n",
              "    }\n",
              "\n",
              "    .colab-df-convert:hover {\n",
              "      background-color: #E2EBFA;\n",
              "      box-shadow: 0px 1px 2px rgba(60, 64, 67, 0.3), 0px 1px 3px 1px rgba(60, 64, 67, 0.15);\n",
              "      fill: #174EA6;\n",
              "    }\n",
              "\n",
              "    [theme=dark] .colab-df-convert {\n",
              "      background-color: #3B4455;\n",
              "      fill: #D2E3FC;\n",
              "    }\n",
              "\n",
              "    [theme=dark] .colab-df-convert:hover {\n",
              "      background-color: #434B5C;\n",
              "      box-shadow: 0px 1px 3px 1px rgba(0, 0, 0, 0.15);\n",
              "      filter: drop-shadow(0px 1px 2px rgba(0, 0, 0, 0.3));\n",
              "      fill: #FFFFFF;\n",
              "    }\n",
              "  </style>\n",
              "\n",
              "      <script>\n",
              "        const buttonEl =\n",
              "          document.querySelector('#df-b1324d33-ecd2-4125-b9bf-6800963d6365 button.colab-df-convert');\n",
              "        buttonEl.style.display =\n",
              "          google.colab.kernel.accessAllowed ? 'block' : 'none';\n",
              "\n",
              "        async function convertToInteractive(key) {\n",
              "          const element = document.querySelector('#df-b1324d33-ecd2-4125-b9bf-6800963d6365');\n",
              "          const dataTable =\n",
              "            await google.colab.kernel.invokeFunction('convertToInteractive',\n",
              "                                                     [key], {});\n",
              "          if (!dataTable) return;\n",
              "\n",
              "          const docLinkHtml = 'Like what you see? Visit the ' +\n",
              "            '<a target=\"_blank\" href=https://colab.research.google.com/notebooks/data_table.ipynb>data table notebook</a>'\n",
              "            + ' to learn more about interactive tables.';\n",
              "          element.innerHTML = '';\n",
              "          dataTable['output_type'] = 'display_data';\n",
              "          await google.colab.output.renderOutput(dataTable, element);\n",
              "          const docLink = document.createElement('div');\n",
              "          docLink.innerHTML = docLinkHtml;\n",
              "          element.appendChild(docLink);\n",
              "        }\n",
              "      </script>\n",
              "    </div>\n",
              "  </div>\n",
              "  "
            ]
          },
          "metadata": {},
          "execution_count": 271
        }
      ],
      "source": [
        "train_additional_df.head()"
      ]
    },
    {
      "cell_type": "code",
      "execution_count": null,
      "metadata": {
        "colab": {
          "base_uri": "https://localhost:8080/"
        },
        "id": "oqUp2JWbzjcH",
        "outputId": "31058aae-abd4-47dd-cbe7-1962d9a98913"
      },
      "outputs": [
        {
          "output_type": "execute_result",
          "data": {
            "text/plain": [
              "(29000, 19)"
            ]
          },
          "metadata": {},
          "execution_count": 272
        }
      ],
      "source": [
        "train_additional_df.shape"
      ]
    },
    {
      "cell_type": "markdown",
      "metadata": {
        "id": "rMLBl8lPzjcI"
      },
      "source": [
        "# EDA"
      ]
    },
    {
      "cell_type": "code",
      "execution_count": null,
      "metadata": {
        "colab": {
          "base_uri": "https://localhost:8080/"
        },
        "id": "XCj5ro8MzjcI",
        "outputId": "bcbfa706-b60b-4bae-b03a-fa2975155ca4"
      },
      "outputs": [
        {
          "output_type": "stream",
          "name": "stdout",
          "text": [
            "<class 'pandas.core.frame.DataFrame'>\n",
            "RangeIndex: 29000 entries, 0 to 28999\n",
            "Data columns (total 13 columns):\n",
            " #   Column               Non-Null Count  Dtype  \n",
            "---  ------               --------------  -----  \n",
            " 0   id                   29000 non-null  int64  \n",
            " 1   timestamp            29000 non-null  object \n",
            " 2   full_sq              29000 non-null  int64  \n",
            " 3   life_sq              22924 non-null  float64\n",
            " 4   floor                28839 non-null  float64\n",
            " 5   max_floor            19881 non-null  float64\n",
            " 6   material             19881 non-null  float64\n",
            " 7   build_year           16051 non-null  float64\n",
            " 8   num_room             19881 non-null  float64\n",
            " 9   kitch_sq             19881 non-null  float64\n",
            " 10  apartment condition  16096 non-null  float64\n",
            " 11  sub_area             29000 non-null  int64  \n",
            " 12  price                29000 non-null  float64\n",
            "dtypes: float64(9), int64(3), object(1)\n",
            "memory usage: 2.9+ MB\n"
          ]
        }
      ],
      "source": [
        "train_main_df.info()"
      ]
    },
    {
      "cell_type": "code",
      "execution_count": null,
      "metadata": {
        "colab": {
          "base_uri": "https://localhost:8080/",
          "height": 297
        },
        "id": "yy9Y2wHgzjcJ",
        "outputId": "e90c702b-fa12-4e59-9e85-c2fb8a4df70b"
      },
      "outputs": [
        {
          "output_type": "execute_result",
          "data": {
            "text/plain": [
              "                 id       full_sq       life_sq         floor     max_floor  \\\n",
              "count  29000.000000  29000.000000  22924.000000  28839.000000  19881.000000   \n",
              "mean   55032.038069     54.228000     34.418644      7.674954     12.536744   \n",
              "std    25909.100401     38.553717     53.387672      5.319167      6.767270   \n",
              "min    10017.000000      0.000000      0.000000      0.000000      0.000000   \n",
              "25%    32786.750000     38.000000     20.000000      3.000000      9.000000   \n",
              "50%    55005.000000     49.000000     30.000000      7.000000     12.000000   \n",
              "75%    77421.250000     63.000000     43.000000     11.000000     17.000000   \n",
              "max    99993.000000   5326.000000   7478.000000     77.000000    117.000000   \n",
              "\n",
              "           material    build_year      num_room      kitch_sq  \\\n",
              "count  19881.000000  1.605100e+04  19881.000000  19881.000000   \n",
              "mean       1.825210  3.127933e+03      1.910920      6.415070   \n",
              "std        1.478001  1.582588e+05      0.853365     28.953382   \n",
              "min        1.000000  0.000000e+00      0.000000      0.000000   \n",
              "25%        1.000000  1.966000e+03      1.000000      1.000000   \n",
              "50%        1.000000  1.979000e+03      2.000000      6.000000   \n",
              "75%        2.000000  2.005000e+03      2.000000      9.000000   \n",
              "max        6.000000  2.005201e+07     19.000000   2014.000000   \n",
              "\n",
              "       apartment condition      sub_area         price  \n",
              "count         16096.000000  29000.000000  2.900000e+04  \n",
              "mean              2.106921     76.503172  5.772016e+06  \n",
              "std               0.882152     39.199563  3.867065e+06  \n",
              "min               1.000000      0.000000  8.098400e+04  \n",
              "25%               1.000000     45.000000  3.838643e+06  \n",
              "50%               2.000000     77.000000  5.088820e+06  \n",
              "75%               3.000000    105.000000  6.721672e+06  \n",
              "max              33.000000    145.000000  8.998222e+07  "
            ],
            "text/html": [
              "\n",
              "  <div id=\"df-e4c2fc59-8656-4f94-a246-35ba5975e2b4\">\n",
              "    <div class=\"colab-df-container\">\n",
              "      <div>\n",
              "<style scoped>\n",
              "    .dataframe tbody tr th:only-of-type {\n",
              "        vertical-align: middle;\n",
              "    }\n",
              "\n",
              "    .dataframe tbody tr th {\n",
              "        vertical-align: top;\n",
              "    }\n",
              "\n",
              "    .dataframe thead th {\n",
              "        text-align: right;\n",
              "    }\n",
              "</style>\n",
              "<table border=\"1\" class=\"dataframe\">\n",
              "  <thead>\n",
              "    <tr style=\"text-align: right;\">\n",
              "      <th></th>\n",
              "      <th>id</th>\n",
              "      <th>full_sq</th>\n",
              "      <th>life_sq</th>\n",
              "      <th>floor</th>\n",
              "      <th>max_floor</th>\n",
              "      <th>material</th>\n",
              "      <th>build_year</th>\n",
              "      <th>num_room</th>\n",
              "      <th>kitch_sq</th>\n",
              "      <th>apartment condition</th>\n",
              "      <th>sub_area</th>\n",
              "      <th>price</th>\n",
              "    </tr>\n",
              "  </thead>\n",
              "  <tbody>\n",
              "    <tr>\n",
              "      <th>count</th>\n",
              "      <td>29000.000000</td>\n",
              "      <td>29000.000000</td>\n",
              "      <td>22924.000000</td>\n",
              "      <td>28839.000000</td>\n",
              "      <td>19881.000000</td>\n",
              "      <td>19881.000000</td>\n",
              "      <td>1.605100e+04</td>\n",
              "      <td>19881.000000</td>\n",
              "      <td>19881.000000</td>\n",
              "      <td>16096.000000</td>\n",
              "      <td>29000.000000</td>\n",
              "      <td>2.900000e+04</td>\n",
              "    </tr>\n",
              "    <tr>\n",
              "      <th>mean</th>\n",
              "      <td>55032.038069</td>\n",
              "      <td>54.228000</td>\n",
              "      <td>34.418644</td>\n",
              "      <td>7.674954</td>\n",
              "      <td>12.536744</td>\n",
              "      <td>1.825210</td>\n",
              "      <td>3.127933e+03</td>\n",
              "      <td>1.910920</td>\n",
              "      <td>6.415070</td>\n",
              "      <td>2.106921</td>\n",
              "      <td>76.503172</td>\n",
              "      <td>5.772016e+06</td>\n",
              "    </tr>\n",
              "    <tr>\n",
              "      <th>std</th>\n",
              "      <td>25909.100401</td>\n",
              "      <td>38.553717</td>\n",
              "      <td>53.387672</td>\n",
              "      <td>5.319167</td>\n",
              "      <td>6.767270</td>\n",
              "      <td>1.478001</td>\n",
              "      <td>1.582588e+05</td>\n",
              "      <td>0.853365</td>\n",
              "      <td>28.953382</td>\n",
              "      <td>0.882152</td>\n",
              "      <td>39.199563</td>\n",
              "      <td>3.867065e+06</td>\n",
              "    </tr>\n",
              "    <tr>\n",
              "      <th>min</th>\n",
              "      <td>10017.000000</td>\n",
              "      <td>0.000000</td>\n",
              "      <td>0.000000</td>\n",
              "      <td>0.000000</td>\n",
              "      <td>0.000000</td>\n",
              "      <td>1.000000</td>\n",
              "      <td>0.000000e+00</td>\n",
              "      <td>0.000000</td>\n",
              "      <td>0.000000</td>\n",
              "      <td>1.000000</td>\n",
              "      <td>0.000000</td>\n",
              "      <td>8.098400e+04</td>\n",
              "    </tr>\n",
              "    <tr>\n",
              "      <th>25%</th>\n",
              "      <td>32786.750000</td>\n",
              "      <td>38.000000</td>\n",
              "      <td>20.000000</td>\n",
              "      <td>3.000000</td>\n",
              "      <td>9.000000</td>\n",
              "      <td>1.000000</td>\n",
              "      <td>1.966000e+03</td>\n",
              "      <td>1.000000</td>\n",
              "      <td>1.000000</td>\n",
              "      <td>1.000000</td>\n",
              "      <td>45.000000</td>\n",
              "      <td>3.838643e+06</td>\n",
              "    </tr>\n",
              "    <tr>\n",
              "      <th>50%</th>\n",
              "      <td>55005.000000</td>\n",
              "      <td>49.000000</td>\n",
              "      <td>30.000000</td>\n",
              "      <td>7.000000</td>\n",
              "      <td>12.000000</td>\n",
              "      <td>1.000000</td>\n",
              "      <td>1.979000e+03</td>\n",
              "      <td>2.000000</td>\n",
              "      <td>6.000000</td>\n",
              "      <td>2.000000</td>\n",
              "      <td>77.000000</td>\n",
              "      <td>5.088820e+06</td>\n",
              "    </tr>\n",
              "    <tr>\n",
              "      <th>75%</th>\n",
              "      <td>77421.250000</td>\n",
              "      <td>63.000000</td>\n",
              "      <td>43.000000</td>\n",
              "      <td>11.000000</td>\n",
              "      <td>17.000000</td>\n",
              "      <td>2.000000</td>\n",
              "      <td>2.005000e+03</td>\n",
              "      <td>2.000000</td>\n",
              "      <td>9.000000</td>\n",
              "      <td>3.000000</td>\n",
              "      <td>105.000000</td>\n",
              "      <td>6.721672e+06</td>\n",
              "    </tr>\n",
              "    <tr>\n",
              "      <th>max</th>\n",
              "      <td>99993.000000</td>\n",
              "      <td>5326.000000</td>\n",
              "      <td>7478.000000</td>\n",
              "      <td>77.000000</td>\n",
              "      <td>117.000000</td>\n",
              "      <td>6.000000</td>\n",
              "      <td>2.005201e+07</td>\n",
              "      <td>19.000000</td>\n",
              "      <td>2014.000000</td>\n",
              "      <td>33.000000</td>\n",
              "      <td>145.000000</td>\n",
              "      <td>8.998222e+07</td>\n",
              "    </tr>\n",
              "  </tbody>\n",
              "</table>\n",
              "</div>\n",
              "      <button class=\"colab-df-convert\" onclick=\"convertToInteractive('df-e4c2fc59-8656-4f94-a246-35ba5975e2b4')\"\n",
              "              title=\"Convert this dataframe to an interactive table.\"\n",
              "              style=\"display:none;\">\n",
              "        \n",
              "  <svg xmlns=\"http://www.w3.org/2000/svg\" height=\"24px\"viewBox=\"0 0 24 24\"\n",
              "       width=\"24px\">\n",
              "    <path d=\"M0 0h24v24H0V0z\" fill=\"none\"/>\n",
              "    <path d=\"M18.56 5.44l.94 2.06.94-2.06 2.06-.94-2.06-.94-.94-2.06-.94 2.06-2.06.94zm-11 1L8.5 8.5l.94-2.06 2.06-.94-2.06-.94L8.5 2.5l-.94 2.06-2.06.94zm10 10l.94 2.06.94-2.06 2.06-.94-2.06-.94-.94-2.06-.94 2.06-2.06.94z\"/><path d=\"M17.41 7.96l-1.37-1.37c-.4-.4-.92-.59-1.43-.59-.52 0-1.04.2-1.43.59L10.3 9.45l-7.72 7.72c-.78.78-.78 2.05 0 2.83L4 21.41c.39.39.9.59 1.41.59.51 0 1.02-.2 1.41-.59l7.78-7.78 2.81-2.81c.8-.78.8-2.07 0-2.86zM5.41 20L4 18.59l7.72-7.72 1.47 1.35L5.41 20z\"/>\n",
              "  </svg>\n",
              "      </button>\n",
              "      \n",
              "  <style>\n",
              "    .colab-df-container {\n",
              "      display:flex;\n",
              "      flex-wrap:wrap;\n",
              "      gap: 12px;\n",
              "    }\n",
              "\n",
              "    .colab-df-convert {\n",
              "      background-color: #E8F0FE;\n",
              "      border: none;\n",
              "      border-radius: 50%;\n",
              "      cursor: pointer;\n",
              "      display: none;\n",
              "      fill: #1967D2;\n",
              "      height: 32px;\n",
              "      padding: 0 0 0 0;\n",
              "      width: 32px;\n",
              "    }\n",
              "\n",
              "    .colab-df-convert:hover {\n",
              "      background-color: #E2EBFA;\n",
              "      box-shadow: 0px 1px 2px rgba(60, 64, 67, 0.3), 0px 1px 3px 1px rgba(60, 64, 67, 0.15);\n",
              "      fill: #174EA6;\n",
              "    }\n",
              "\n",
              "    [theme=dark] .colab-df-convert {\n",
              "      background-color: #3B4455;\n",
              "      fill: #D2E3FC;\n",
              "    }\n",
              "\n",
              "    [theme=dark] .colab-df-convert:hover {\n",
              "      background-color: #434B5C;\n",
              "      box-shadow: 0px 1px 3px 1px rgba(0, 0, 0, 0.15);\n",
              "      filter: drop-shadow(0px 1px 2px rgba(0, 0, 0, 0.3));\n",
              "      fill: #FFFFFF;\n",
              "    }\n",
              "  </style>\n",
              "\n",
              "      <script>\n",
              "        const buttonEl =\n",
              "          document.querySelector('#df-e4c2fc59-8656-4f94-a246-35ba5975e2b4 button.colab-df-convert');\n",
              "        buttonEl.style.display =\n",
              "          google.colab.kernel.accessAllowed ? 'block' : 'none';\n",
              "\n",
              "        async function convertToInteractive(key) {\n",
              "          const element = document.querySelector('#df-e4c2fc59-8656-4f94-a246-35ba5975e2b4');\n",
              "          const dataTable =\n",
              "            await google.colab.kernel.invokeFunction('convertToInteractive',\n",
              "                                                     [key], {});\n",
              "          if (!dataTable) return;\n",
              "\n",
              "          const docLinkHtml = 'Like what you see? Visit the ' +\n",
              "            '<a target=\"_blank\" href=https://colab.research.google.com/notebooks/data_table.ipynb>data table notebook</a>'\n",
              "            + ' to learn more about interactive tables.';\n",
              "          element.innerHTML = '';\n",
              "          dataTable['output_type'] = 'display_data';\n",
              "          await google.colab.output.renderOutput(dataTable, element);\n",
              "          const docLink = document.createElement('div');\n",
              "          docLink.innerHTML = docLinkHtml;\n",
              "          element.appendChild(docLink);\n",
              "        }\n",
              "      </script>\n",
              "    </div>\n",
              "  </div>\n",
              "  "
            ]
          },
          "metadata": {},
          "execution_count": 274
        }
      ],
      "source": [
        "train_main_df.describe()"
      ]
    },
    {
      "cell_type": "code",
      "execution_count": null,
      "metadata": {
        "id": "_vIGlIWZzjcJ"
      },
      "outputs": [],
      "source": [
        "train_main_df['timestamp'] = pd.to_datetime(train_main_df['timestamp'])"
      ]
    },
    {
      "cell_type": "code",
      "execution_count": null,
      "metadata": {
        "id": "JrkzLD_vzjcJ"
      },
      "outputs": [],
      "source": [
        "import matplotlib.pyplot as plt\n",
        "import seaborn as sns\n",
        "color = sns.color_palette()\n",
        "\n",
        "%matplotlib inline"
      ]
    },
    {
      "cell_type": "code",
      "execution_count": null,
      "metadata": {
        "colab": {
          "base_uri": "https://localhost:8080/",
          "height": 402
        },
        "id": "djXaNjifzjcJ",
        "outputId": "46aa3fbc-d0be-432b-d1e8-339bc24136c5"
      },
      "outputs": [
        {
          "output_type": "display_data",
          "data": {
            "text/plain": [
              "<Figure size 864x432 with 1 Axes>"
            ],
            "image/png": "[encoded data removed]"
          },
          "metadata": {
            "needs_background": "light"
          }
        }
      ],
      "source": [
        "plt.figure(figsize=(12, 6))\n",
        "plt.scatter(train_main_df.timestamp, train_main_df.price)\n",
        "plt.xlabel('timestamp', fontsize=12)\n",
        "plt.ylabel('price', fontsize=12)\n",
        "plt.show()"
      ]
    },
    {
      "cell_type": "code",
      "execution_count": null,
      "metadata": {
        "colab": {
          "base_uri": "https://localhost:8080/",
          "height": 562
        },
        "id": "4V4aNib8zjcJ",
        "outputId": "417bb361-e13d-42de-9f19-481818da4fe1"
      },
      "outputs": [
        {
          "output_type": "stream",
          "name": "stderr",
          "text": [
            "/usr/local/lib/python3.7/dist-packages/seaborn/distributions.py:2619: FutureWarning: `distplot` is a deprecated function and will be removed in a future version. Please adapt your code to use either `displot` (a figure-level function with similar flexibility) or `histplot` (an axes-level function for histograms).\n",
            "  warnings.warn(msg, FutureWarning)\n"
          ]
        },
        {
          "output_type": "display_data",
          "data": {
            "text/plain": [
              "<Figure size 864x576 with 1 Axes>"
            ],
            "image/png": "[encoded data removed]"
          },
          "metadata": {
            "needs_background": "light"
          }
        }
      ],
      "source": [
        "plt.figure(figsize=(12, 8))\n",
        "sns.distplot(train_main_df.price.values, bins=50, kde=True)\n",
        "plt.xlabel('price')\n",
        "plt.show()"
      ]
    },
    {
      "cell_type": "code",
      "execution_count": null,
      "metadata": {
        "colab": {
          "base_uri": "https://localhost:8080/",
          "height": 523
        },
        "id": "nlJKSnwlzjcK",
        "outputId": "6d0d7bc7-8493-4a34-cb95-52aa22570776"
      },
      "outputs": [
        {
          "output_type": "display_data",
          "data": {
            "text/plain": [
              "<Figure size 864x576 with 1 Axes>"
            ],
            "image/png": "[encoded data removed]"
          },
          "metadata": {
            "needs_background": "light"
          }
        }
      ],
      "source": [
        "plt.figure(figsize=(12, 8))\n",
        "sns.boxplot(x='num_room', y='price', data=train_main_df)\n",
        "plt.ylabel('price', fontsize=12)\n",
        "plt.xlabel('num_room', fontsize=12)\n",
        "plt.xticks(rotation='vertical')\n",
        "plt.show()"
      ]
    },
    {
      "cell_type": "code",
      "execution_count": null,
      "metadata": {
        "colab": {
          "base_uri": "https://localhost:8080/",
          "height": 529
        },
        "id": "P98ivZm3zjcK",
        "outputId": "55689e93-2068-4cf6-a7ec-86a170a61d93"
      },
      "outputs": [
        {
          "output_type": "display_data",
          "data": {
            "text/plain": [
              "<Figure size 864x576 with 1 Axes>"
            ],
            "image/png": "[encoded data removed]"
          },
          "metadata": {
            "needs_background": "light"
          }
        }
      ],
      "source": [
        "plt.figure(figsize=(12,8))\n",
        "sns.boxplot(x='max_floor', y='price', data=train_main_df)\n",
        "plt.ylabel('price', fontsize=12)\n",
        "plt.xlabel('max_floor', fontsize=12)\n",
        "plt.xticks(rotation='vertical')\n",
        "plt.show()"
      ]
    },
    {
      "cell_type": "code",
      "execution_count": null,
      "metadata": {
        "colab": {
          "base_uri": "https://localhost:8080/",
          "height": 523
        },
        "id": "PVWmJZAKzjcK",
        "outputId": "ed2c904c-a326-435e-f7da-0ce46818bd04"
      },
      "outputs": [
        {
          "output_type": "display_data",
          "data": {
            "text/plain": [
              "<Figure size 864x576 with 1 Axes>"
            ],
            "image/png": "[encoded data removed]"
          },
          "metadata": {
            "needs_background": "light"
          }
        }
      ],
      "source": [
        "plt.figure(figsize=(12,8))\n",
        "sns.boxplot(x='floor', y='price', data=train_main_df)\n",
        "plt.ylabel('price', fontsize=12)\n",
        "plt.xlabel('floor', fontsize=12)\n",
        "plt.xticks(rotation='vertical')\n",
        "plt.show()"
      ]
    },
    {
      "cell_type": "code",
      "execution_count": null,
      "metadata": {
        "colab": {
          "base_uri": "https://localhost:8080/",
          "height": 526
        },
        "id": "NEGCjH-9zjcL",
        "outputId": "e1c06be4-803a-4be1-a6f7-4aa67c67fba2"
      },
      "outputs": [
        {
          "output_type": "display_data",
          "data": {
            "text/plain": [
              "<Figure size 864x576 with 1 Axes>"
            ],
            "image/png": "[encoded data removed]"
          },
          "metadata": {
            "needs_background": "light"
          }
        }
      ],
      "source": [
        "plt.figure(figsize=(12,8))\n",
        "sns.boxplot(x='full_sq', y='price', data=train_main_df)\n",
        "plt.ylabel('price', fontsize=12)\n",
        "plt.xlabel('full_sq', fontsize=12)\n",
        "plt.xticks(rotation='vertical')\n",
        "plt.show()"
      ]
    },
    {
      "cell_type": "code",
      "execution_count": null,
      "metadata": {
        "colab": {
          "base_uri": "https://localhost:8080/",
          "height": 282
        },
        "id": "vo7gY0nAzjcL",
        "outputId": "bb4b996f-035d-4d58-c7c2-06f974cb9d1c"
      },
      "outputs": [
        {
          "output_type": "execute_result",
          "data": {
            "text/plain": [
              "<matplotlib.axes._subplots.AxesSubplot at 0x7f4cae6dfa90>"
            ]
          },
          "metadata": {},
          "execution_count": 283
        },
        {
          "output_type": "display_data",
          "data": {
            "text/plain": [
              "<Figure size 432x288 with 1 Axes>"
            ],
            "image/png": "[encoded data removed]"
          },
          "metadata": {
            "needs_background": "light"
          }
        }
      ],
      "source": [
        "train_main_df[train_main_df.full_sq < 1000].full_sq.hist(bins=50)"
      ]
    },
    {
      "cell_type": "code",
      "execution_count": null,
      "metadata": {
        "scrolled": true,
        "id": "VDEZJY-KzjcL"
      },
      "outputs": [],
      "source": [
        "bins = [0, 30, 40, 50, 60, 70, 80, 90, 100, 200, 5326]\n",
        "train_main_df['full_sq_bins'] = np.searchsorted(bins, train_main_df.full_sq.values)"
      ]
    },
    {
      "cell_type": "code",
      "execution_count": null,
      "metadata": {
        "colab": {
          "base_uri": "https://localhost:8080/",
          "height": 513
        },
        "id": "ML95t5MkzjcL",
        "outputId": "d7063d9a-9f40-47ec-89cf-4471d9d3db17"
      },
      "outputs": [
        {
          "output_type": "display_data",
          "data": {
            "text/plain": [
              "<Figure size 864x576 with 1 Axes>"
            ],
            "image/png": "[encoded data removed]"
          },
          "metadata": {
            "needs_background": "light"
          }
        }
      ],
      "source": [
        "plt.figure(figsize=(12, 8))\n",
        "sns.boxplot(x='full_sq_bins', y='price', data=train_main_df)\n",
        "plt.ylabel('price', fontsize=12)\n",
        "plt.xlabel('full_sq_bins', fontsize=12)\n",
        "plt.xticks(rotation='vertical')\n",
        "plt.show()"
      ]
    },
    {
      "cell_type": "code",
      "execution_count": null,
      "metadata": {
        "id": "9YFSglLSzjcM"
      },
      "outputs": [],
      "source": [
        "whole_train_df = train_main_df.merge(train_additional_df, how='left', on='id')"
      ]
    },
    {
      "cell_type": "code",
      "execution_count": null,
      "metadata": {
        "colab": {
          "base_uri": "https://localhost:8080/",
          "height": 513
        },
        "id": "28leUa1yzjcM",
        "outputId": "20587170-c8ae-4e10-ac09-b3ccad336fe9"
      },
      "outputs": [
        {
          "output_type": "display_data",
          "data": {
            "text/plain": [
              "<Figure size 864x576 with 1 Axes>"
            ],
            "image/png": "[encoded data removed]"
          },
          "metadata": {
            "needs_background": "light"
          }
        }
      ],
      "source": [
        "plt.figure(figsize=(12, 8))\n",
        "sns.boxplot(x='culture_objects_facilities', y='price', data=whole_train_df)\n",
        "plt.ylabel('price', fontsize=12)\n",
        "plt.xlabel('cultural_objects_facilities', fontsize=12)\n",
        "plt.xticks(rotation='vertical')\n",
        "plt.show()"
      ]
    },
    {
      "cell_type": "code",
      "execution_count": null,
      "metadata": {
        "colab": {
          "base_uri": "https://localhost:8080/",
          "height": 507
        },
        "id": "vKoz7cKvzjcM",
        "outputId": "707df6ca-edb7-4b95-8b8e-e7d016a067c9"
      },
      "outputs": [
        {
          "output_type": "display_data",
          "data": {
            "text/plain": [
              "<Figure size 864x576 with 1 Axes>"
            ],
            "image/png": "[encoded data removed]"
          },
          "metadata": {
            "needs_background": "light"
          }
        }
      ],
      "source": [
        "plt.figure(figsize=(12, 8))\n",
        "sns.boxplot(x='healthcare_facilities', y='price', data=whole_train_df)\n",
        "plt.ylabel('price', fontsize=12)\n",
        "plt.xlabel('healthcare_facilities', fontsize=12)\n",
        "plt.xticks(rotation='vertical')\n",
        "plt.show()"
      ]
    },
    {
      "cell_type": "code",
      "execution_count": null,
      "metadata": {
        "colab": {
          "base_uri": "https://localhost:8080/",
          "height": 507
        },
        "id": "Y247L4wezjcM",
        "outputId": "fee091bf-2938-40ed-c24e-67196cb6e539"
      },
      "outputs": [
        {
          "output_type": "display_data",
          "data": {
            "text/plain": [
              "<Figure size 864x576 with 1 Axes>"
            ],
            "image/png": "[encoded data removed]"
          },
          "metadata": {
            "needs_background": "light"
          }
        }
      ],
      "source": [
        "plt.figure(figsize=(12, 8))\n",
        "sns.boxplot(x='university_num', y='price', data=whole_train_df)\n",
        "plt.ylabel('price', fontsize=12)\n",
        "plt.xlabel('university_num', fontsize=12)\n",
        "plt.xticks(rotation='vertical')\n",
        "plt.show()"
      ]
    },
    {
      "cell_type": "code",
      "execution_count": null,
      "metadata": {
        "colab": {
          "base_uri": "https://localhost:8080/",
          "height": 1000
        },
        "id": "wWpz1FM_zjcN",
        "outputId": "bc8a7a79-39eb-4ab5-dcd2-03e2e175c594"
      },
      "outputs": [
        {
          "output_type": "display_data",
          "data": {
            "text/plain": [
              "<Figure size 864x1296 with 1 Axes>"
            ],
            "image/png": "[encoded data removed]"
          },
          "metadata": {
            "needs_background": "light"
          }
        }
      ],
      "source": [
        "missing_df = whole_train_df.isnull().sum(axis=0).reset_index()\n",
        "missing_df.columns = ['column_name', 'missing_count']\n",
        "missing_df = missing_df.loc[(missing_df['missing_count'] > 0), :]\n",
        "missing_df = missing_df.sort_values(by='missing_count')\n",
        "ind = range(missing_df.shape[0])\n",
        "\n",
        "fig, ax = plt.subplots(figsize=(12,18))\n",
        "rects = ax.barh(ind, missing_df['missing_count'], color=\"blue\")\n",
        "ax.set_yticks(ind)\n",
        "ax.set_yticklabels(missing_df.column_name.values, rotation='horizontal')\n",
        "ax.set_xlabel(\"Count of missing values\")\n",
        "ax.set_title(\"Number of missing values in each column\")\n",
        "plt.show()"
      ]
    },
    {
      "cell_type": "markdown",
      "metadata": {
        "id": "ZmZCpCz-zjcO"
      },
      "source": [
        "# Data preparation"
      ]
    },
    {
      "cell_type": "code",
      "execution_count": null,
      "metadata": {
        "colab": {
          "base_uri": "https://localhost:8080/"
        },
        "id": "bvkVVm-xzjcO",
        "outputId": "9bd641ec-f2e2-450c-98c3-a8e5e47b88f6"
      },
      "outputs": [
        {
          "output_type": "stream",
          "name": "stdout",
          "text": [
            "<class 'pandas.core.frame.DataFrame'>\n",
            "RangeIndex: 29000 entries, 0 to 28999\n",
            "Data columns (total 14 columns):\n",
            " #   Column               Non-Null Count  Dtype         \n",
            "---  ------               --------------  -----         \n",
            " 0   id                   29000 non-null  int64         \n",
            " 1   timestamp            29000 non-null  datetime64[ns]\n",
            " 2   full_sq              29000 non-null  int64         \n",
            " 3   life_sq              22924 non-null  float64       \n",
            " 4   floor                28839 non-null  float64       \n",
            " 5   max_floor            19881 non-null  float64       \n",
            " 6   material             19881 non-null  float64       \n",
            " 7   build_year           16051 non-null  float64       \n",
            " 8   num_room             19881 non-null  float64       \n",
            " 9   kitch_sq             19881 non-null  float64       \n",
            " 10  apartment condition  16096 non-null  float64       \n",
            " 11  sub_area             29000 non-null  int64         \n",
            " 12  price                29000 non-null  float64       \n",
            " 13  full_sq_bins         29000 non-null  int64         \n",
            "dtypes: datetime64[ns](1), float64(9), int64(4)\n",
            "memory usage: 3.1 MB\n"
          ]
        }
      ],
      "source": [
        "train_main_df.info()"
      ]
    },
    {
      "cell_type": "code",
      "execution_count": null,
      "metadata": {
        "colab": {
          "base_uri": "https://localhost:8080/",
          "height": 483
        },
        "id": "7aeCFrjnzjcO",
        "outputId": "3c8e7da9-c8cd-40b7-dc2f-6c22f50b5da0"
      },
      "outputs": [
        {
          "output_type": "execute_result",
          "data": {
            "text/plain": [
              "          id  timestamp  full_sq  life_sq  floor  max_floor  material  \\\n",
              "0      81237 2014-09-23       50     28.0   11.0       12.0       1.0   \n",
              "1      96765 2014-07-31       42     28.0    1.0        5.0       2.0   \n",
              "2      64804 2015-06-11       62      NaN    9.0       17.0       1.0   \n",
              "3      27439 2013-11-17       45     45.0    9.0       25.0       1.0   \n",
              "4      17258 2014-02-10       57     38.0    2.0        9.0       1.0   \n",
              "...      ...        ...      ...      ...    ...        ...       ...   \n",
              "28995  96637 2014-09-13       65     64.0    6.0       18.0       2.0   \n",
              "28996  91710 2014-04-11       42     26.0    4.0        5.0       1.0   \n",
              "28997  71492 2014-02-13       44     27.0    7.0        9.0       1.0   \n",
              "28998  41071 2014-02-13       50     29.0    4.0        5.0       2.0   \n",
              "28999  41674 2013-09-17       42     26.0    2.0        5.0       5.0   \n",
              "\n",
              "       build_year  num_room  kitch_sq  ...  additional_education_facilities  \\\n",
              "0          1984.0       2.0       8.0  ...                                1   \n",
              "1          1961.0       2.0       6.0  ...                                4   \n",
              "2             NaN       2.0       0.0  ...                                0   \n",
              "3             1.0       3.0       1.0  ...                                0   \n",
              "4          1968.0       3.0       6.0  ...                                4   \n",
              "...           ...       ...       ...  ...                              ...   \n",
              "28995      2017.0       3.0       1.0  ...                                0   \n",
              "28996      1963.0       2.0       5.0  ...                                0   \n",
              "28997      1968.0       2.0       5.0  ...                                3   \n",
              "28998      1956.0       2.0       7.0  ...                                1   \n",
              "28999      1961.0       2.0       5.0  ...                                4   \n",
              "\n",
              "       culture_objects_facilities  shopping_centers_facilities  office_num  \\\n",
              "0                               0                            4           5   \n",
              "1                               0                            2           0   \n",
              "2                               0                            1           0   \n",
              "3                               0                            0           1   \n",
              "4                               0                            2           0   \n",
              "...                           ...                          ...         ...   \n",
              "28995                           0                            0           0   \n",
              "28996                           0                            0           1   \n",
              "28997                           0                           10          11   \n",
              "28998                           0                            4           3   \n",
              "28999                           0                            2           4   \n",
              "\n",
              "       green_part  prom_part  cafe_count  church_facilities  mosque  \\\n",
              "0           16.06       2.68           2                  0       1   \n",
              "1            3.24       0.00           2                  0       0   \n",
              "2            3.33       3.70           2                  0       0   \n",
              "3            0.00      14.00           0                  1       0   \n",
              "4            6.64       0.00           1                  0       0   \n",
              "...           ...        ...         ...                ...     ...   \n",
              "28995       16.86       2.72           0                  0       0   \n",
              "28996        0.00      18.07           0                  0       0   \n",
              "28997        1.11       3.82           2                  0       0   \n",
              "28998        2.18       0.00           0                  0       0   \n",
              "28999        7.43       0.00           0                  1       0   \n",
              "\n",
              "       leisure_facilities  \n",
              "0                       0  \n",
              "1                       0  \n",
              "2                       0  \n",
              "3                       0  \n",
              "4                       0  \n",
              "...                   ...  \n",
              "28995                   0  \n",
              "28996                   0  \n",
              "28997                   0  \n",
              "28998                   0  \n",
              "28999                   0  \n",
              "\n",
              "[29000 rows x 32 columns]"
            ],
            "text/html": [
              "\n",
              "  <div id=\"df-620b6b4b-e45f-45d1-9479-3c28bee77535\">\n",
              "    <div class=\"colab-df-container\">\n",
              "      <div>\n",
              "<style scoped>\n",
              "    .dataframe tbody tr th:only-of-type {\n",
              "        vertical-align: middle;\n",
              "    }\n",
              "\n",
              "    .dataframe tbody tr th {\n",
              "        vertical-align: top;\n",
              "    }\n",
              "\n",
              "    .dataframe thead th {\n",
              "        text-align: right;\n",
              "    }\n",
              "</style>\n",
              "<table border=\"1\" class=\"dataframe\">\n",
              "  <thead>\n",
              "    <tr style=\"text-align: right;\">\n",
              "      <th></th>\n",
              "      <th>id</th>\n",
              "      <th>timestamp</th>\n",
              "      <th>full_sq</th>\n",
              "      <th>life_sq</th>\n",
              "      <th>floor</th>\n",
              "      <th>max_floor</th>\n",
              "      <th>material</th>\n",
              "      <th>build_year</th>\n",
              "      <th>num_room</th>\n",
              "      <th>kitch_sq</th>\n",
              "      <th>...</th>\n",
              "      <th>additional_education_facilities</th>\n",
              "      <th>culture_objects_facilities</th>\n",
              "      <th>shopping_centers_facilities</th>\n",
              "      <th>office_num</th>\n",
              "      <th>green_part</th>\n",
              "      <th>prom_part</th>\n",
              "      <th>cafe_count</th>\n",
              "      <th>church_facilities</th>\n",
              "      <th>mosque</th>\n",
              "      <th>leisure_facilities</th>\n",
              "    </tr>\n",
              "  </thead>\n",
              "  <tbody>\n",
              "    <tr>\n",
              "      <th>0</th>\n",
              "      <td>81237</td>\n",
              "      <td>2014-09-23</td>\n",
              "      <td>50</td>\n",
              "      <td>28.0</td>\n",
              "      <td>11.0</td>\n",
              "      <td>12.0</td>\n",
              "      <td>1.0</td>\n",
              "      <td>1984.0</td>\n",
              "      <td>2.0</td>\n",
              "      <td>8.0</td>\n",
              "      <td>...</td>\n",
              "      <td>1</td>\n",
              "      <td>0</td>\n",
              "      <td>4</td>\n",
              "      <td>5</td>\n",
              "      <td>16.06</td>\n",
              "      <td>2.68</td>\n",
              "      <td>2</td>\n",
              "      <td>0</td>\n",
              "      <td>1</td>\n",
              "      <td>0</td>\n",
              "    </tr>\n",
              "    <tr>\n",
              "      <th>1</th>\n",
              "      <td>96765</td>\n",
              "      <td>2014-07-31</td>\n",
              "      <td>42</td>\n",
              "      <td>28.0</td>\n",
              "      <td>1.0</td>\n",
              "      <td>5.0</td>\n",
              "      <td>2.0</td>\n",
              "      <td>1961.0</td>\n",
              "      <td>2.0</td>\n",
              "      <td>6.0</td>\n",
              "      <td>...</td>\n",
              "      <td>4</td>\n",
              "      <td>0</td>\n",
              "      <td>2</td>\n",
              "      <td>0</td>\n",
              "      <td>3.24</td>\n",
              "      <td>0.00</td>\n",
              "      <td>2</td>\n",
              "      <td>0</td>\n",
              "      <td>0</td>\n",
              "      <td>0</td>\n",
              "    </tr>\n",
              "    <tr>\n",
              "      <th>2</th>\n",
              "      <td>64804</td>\n",
              "      <td>2015-06-11</td>\n",
              "      <td>62</td>\n",
              "      <td>NaN</td>\n",
              "      <td>9.0</td>\n",
              "      <td>17.0</td>\n",
              "      <td>1.0</td>\n",
              "      <td>NaN</td>\n",
              "      <td>2.0</td>\n",
              "      <td>0.0</td>\n",
              "      <td>...</td>\n",
              "      <td>0</td>\n",
              "      <td>0</td>\n",
              "      <td>1</td>\n",
              "      <td>0</td>\n",
              "      <td>3.33</td>\n",
              "      <td>3.70</td>\n",
              "      <td>2</td>\n",
              "      <td>0</td>\n",
              "      <td>0</td>\n",
              "      <td>0</td>\n",
              "    </tr>\n",
              "    <tr>\n",
              "      <th>3</th>\n",
              "      <td>27439</td>\n",
              "      <td>2013-11-17</td>\n",
              "      <td>45</td>\n",
              "      <td>45.0</td>\n",
              "      <td>9.0</td>\n",
              "      <td>25.0</td>\n",
              "      <td>1.0</td>\n",
              "      <td>1.0</td>\n",
              "      <td>3.0</td>\n",
              "      <td>1.0</td>\n",
              "      <td>...</td>\n",
              "      <td>0</td>\n",
              "      <td>0</td>\n",
              "      <td>0</td>\n",
              "      <td>1</td>\n",
              "      <td>0.00</td>\n",
              "      <td>14.00</td>\n",
              "      <td>0</td>\n",
              "      <td>1</td>\n",
              "      <td>0</td>\n",
              "      <td>0</td>\n",
              "    </tr>\n",
              "    <tr>\n",
              "      <th>4</th>\n",
              "      <td>17258</td>\n",
              "      <td>2014-02-10</td>\n",
              "      <td>57</td>\n",
              "      <td>38.0</td>\n",
              "      <td>2.0</td>\n",
              "      <td>9.0</td>\n",
              "      <td>1.0</td>\n",
              "      <td>1968.0</td>\n",
              "      <td>3.0</td>\n",
              "      <td>6.0</td>\n",
              "      <td>...</td>\n",
              "      <td>4</td>\n",
              "      <td>0</td>\n",
              "      <td>2</td>\n",
              "      <td>0</td>\n",
              "      <td>6.64</td>\n",
              "      <td>0.00</td>\n",
              "      <td>1</td>\n",
              "      <td>0</td>\n",
              "      <td>0</td>\n",
              "      <td>0</td>\n",
              "    </tr>\n",
              "    <tr>\n",
              "      <th>...</th>\n",
              "      <td>...</td>\n",
              "      <td>...</td>\n",
              "      <td>...</td>\n",
              "      <td>...</td>\n",
              "      <td>...</td>\n",
              "      <td>...</td>\n",
              "      <td>...</td>\n",
              "      <td>...</td>\n",
              "      <td>...</td>\n",
              "      <td>...</td>\n",
              "      <td>...</td>\n",
              "      <td>...</td>\n",
              "      <td>...</td>\n",
              "      <td>...</td>\n",
              "      <td>...</td>\n",
              "      <td>...</td>\n",
              "      <td>...</td>\n",
              "      <td>...</td>\n",
              "      <td>...</td>\n",
              "      <td>...</td>\n",
              "      <td>...</td>\n",
              "    </tr>\n",
              "    <tr>\n",
              "      <th>28995</th>\n",
              "      <td>96637</td>\n",
              "      <td>2014-09-13</td>\n",
              "      <td>65</td>\n",
              "      <td>64.0</td>\n",
              "      <td>6.0</td>\n",
              "      <td>18.0</td>\n",
              "      <td>2.0</td>\n",
              "      <td>2017.0</td>\n",
              "      <td>3.0</td>\n",
              "      <td>1.0</td>\n",
              "      <td>...</td>\n",
              "      <td>0</td>\n",
              "      <td>0</td>\n",
              "      <td>0</td>\n",
              "      <td>0</td>\n",
              "      <td>16.86</td>\n",
              "      <td>2.72</td>\n",
              "      <td>0</td>\n",
              "      <td>0</td>\n",
              "      <td>0</td>\n",
              "      <td>0</td>\n",
              "    </tr>\n",
              "    <tr>\n",
              "      <th>28996</th>\n",
              "      <td>91710</td>\n",
              "      <td>2014-04-11</td>\n",
              "      <td>42</td>\n",
              "      <td>26.0</td>\n",
              "      <td>4.0</td>\n",
              "      <td>5.0</td>\n",
              "      <td>1.0</td>\n",
              "      <td>1963.0</td>\n",
              "      <td>2.0</td>\n",
              "      <td>5.0</td>\n",
              "      <td>...</td>\n",
              "      <td>0</td>\n",
              "      <td>0</td>\n",
              "      <td>0</td>\n",
              "      <td>1</td>\n",
              "      <td>0.00</td>\n",
              "      <td>18.07</td>\n",
              "      <td>0</td>\n",
              "      <td>0</td>\n",
              "      <td>0</td>\n",
              "      <td>0</td>\n",
              "    </tr>\n",
              "    <tr>\n",
              "      <th>28997</th>\n",
              "      <td>71492</td>\n",
              "      <td>2014-02-13</td>\n",
              "      <td>44</td>\n",
              "      <td>27.0</td>\n",
              "      <td>7.0</td>\n",
              "      <td>9.0</td>\n",
              "      <td>1.0</td>\n",
              "      <td>1968.0</td>\n",
              "      <td>2.0</td>\n",
              "      <td>5.0</td>\n",
              "      <td>...</td>\n",
              "      <td>3</td>\n",
              "      <td>0</td>\n",
              "      <td>10</td>\n",
              "      <td>11</td>\n",
              "      <td>1.11</td>\n",
              "      <td>3.82</td>\n",
              "      <td>2</td>\n",
              "      <td>0</td>\n",
              "      <td>0</td>\n",
              "      <td>0</td>\n",
              "    </tr>\n",
              "    <tr>\n",
              "      <th>28998</th>\n",
              "      <td>41071</td>\n",
              "      <td>2014-02-13</td>\n",
              "      <td>50</td>\n",
              "      <td>29.0</td>\n",
              "      <td>4.0</td>\n",
              "      <td>5.0</td>\n",
              "      <td>2.0</td>\n",
              "      <td>1956.0</td>\n",
              "      <td>2.0</td>\n",
              "      <td>7.0</td>\n",
              "      <td>...</td>\n",
              "      <td>1</td>\n",
              "      <td>0</td>\n",
              "      <td>4</td>\n",
              "      <td>3</td>\n",
              "      <td>2.18</td>\n",
              "      <td>0.00</td>\n",
              "      <td>0</td>\n",
              "      <td>0</td>\n",
              "      <td>0</td>\n",
              "      <td>0</td>\n",
              "    </tr>\n",
              "    <tr>\n",
              "      <th>28999</th>\n",
              "      <td>41674</td>\n",
              "      <td>2013-09-17</td>\n",
              "      <td>42</td>\n",
              "      <td>26.0</td>\n",
              "      <td>2.0</td>\n",
              "      <td>5.0</td>\n",
              "      <td>5.0</td>\n",
              "      <td>1961.0</td>\n",
              "      <td>2.0</td>\n",
              "      <td>5.0</td>\n",
              "      <td>...</td>\n",
              "      <td>4</td>\n",
              "      <td>0</td>\n",
              "      <td>2</td>\n",
              "      <td>4</td>\n",
              "      <td>7.43</td>\n",
              "      <td>0.00</td>\n",
              "      <td>0</td>\n",
              "      <td>1</td>\n",
              "      <td>0</td>\n",
              "      <td>0</td>\n",
              "    </tr>\n",
              "  </tbody>\n",
              "</table>\n",
              "<p>29000 rows × 32 columns</p>\n",
              "</div>\n",
              "      <button class=\"colab-df-convert\" onclick=\"convertToInteractive('df-620b6b4b-e45f-45d1-9479-3c28bee77535')\"\n",
              "              title=\"Convert this dataframe to an interactive table.\"\n",
              "              style=\"display:none;\">\n",
              "        \n",
              "  <svg xmlns=\"http://www.w3.org/2000/svg\" height=\"24px\"viewBox=\"0 0 24 24\"\n",
              "       width=\"24px\">\n",
              "    <path d=\"M0 0h24v24H0V0z\" fill=\"none\"/>\n",
              "    <path d=\"M18.56 5.44l.94 2.06.94-2.06 2.06-.94-2.06-.94-.94-2.06-.94 2.06-2.06.94zm-11 1L8.5 8.5l.94-2.06 2.06-.94-2.06-.94L8.5 2.5l-.94 2.06-2.06.94zm10 10l.94 2.06.94-2.06 2.06-.94-2.06-.94-.94-2.06-.94 2.06-2.06.94z\"/><path d=\"M17.41 7.96l-1.37-1.37c-.4-.4-.92-.59-1.43-.59-.52 0-1.04.2-1.43.59L10.3 9.45l-7.72 7.72c-.78.78-.78 2.05 0 2.83L4 21.41c.39.39.9.59 1.41.59.51 0 1.02-.2 1.41-.59l7.78-7.78 2.81-2.81c.8-.78.8-2.07 0-2.86zM5.41 20L4 18.59l7.72-7.72 1.47 1.35L5.41 20z\"/>\n",
              "  </svg>\n",
              "      </button>\n",
              "      \n",
              "  <style>\n",
              "    .colab-df-container {\n",
              "      display:flex;\n",
              "      flex-wrap:wrap;\n",
              "      gap: 12px;\n",
              "    }\n",
              "\n",
              "    .colab-df-convert {\n",
              "      background-color: #E8F0FE;\n",
              "      border: none;\n",
              "      border-radius: 50%;\n",
              "      cursor: pointer;\n",
              "      display: none;\n",
              "      fill: #1967D2;\n",
              "      height: 32px;\n",
              "      padding: 0 0 0 0;\n",
              "      width: 32px;\n",
              "    }\n",
              "\n",
              "    .colab-df-convert:hover {\n",
              "      background-color: #E2EBFA;\n",
              "      box-shadow: 0px 1px 2px rgba(60, 64, 67, 0.3), 0px 1px 3px 1px rgba(60, 64, 67, 0.15);\n",
              "      fill: #174EA6;\n",
              "    }\n",
              "\n",
              "    [theme=dark] .colab-df-convert {\n",
              "      background-color: #3B4455;\n",
              "      fill: #D2E3FC;\n",
              "    }\n",
              "\n",
              "    [theme=dark] .colab-df-convert:hover {\n",
              "      background-color: #434B5C;\n",
              "      box-shadow: 0px 1px 3px 1px rgba(0, 0, 0, 0.15);\n",
              "      filter: drop-shadow(0px 1px 2px rgba(0, 0, 0, 0.3));\n",
              "      fill: #FFFFFF;\n",
              "    }\n",
              "  </style>\n",
              "\n",
              "      <script>\n",
              "        const buttonEl =\n",
              "          document.querySelector('#df-620b6b4b-e45f-45d1-9479-3c28bee77535 button.colab-df-convert');\n",
              "        buttonEl.style.display =\n",
              "          google.colab.kernel.accessAllowed ? 'block' : 'none';\n",
              "\n",
              "        async function convertToInteractive(key) {\n",
              "          const element = document.querySelector('#df-620b6b4b-e45f-45d1-9479-3c28bee77535');\n",
              "          const dataTable =\n",
              "            await google.colab.kernel.invokeFunction('convertToInteractive',\n",
              "                                                     [key], {});\n",
              "          if (!dataTable) return;\n",
              "\n",
              "          const docLinkHtml = 'Like what you see? Visit the ' +\n",
              "            '<a target=\"_blank\" href=https://colab.research.google.com/notebooks/data_table.ipynb>data table notebook</a>'\n",
              "            + ' to learn more about interactive tables.';\n",
              "          element.innerHTML = '';\n",
              "          dataTable['output_type'] = 'display_data';\n",
              "          await google.colab.output.renderOutput(dataTable, element);\n",
              "          const docLink = document.createElement('div');\n",
              "          docLink.innerHTML = docLinkHtml;\n",
              "          element.appendChild(docLink);\n",
              "        }\n",
              "      </script>\n",
              "    </div>\n",
              "  </div>\n",
              "  "
            ]
          },
          "metadata": {},
          "execution_count": 298
        }
      ],
      "source": [
        "whole_train_df"
      ]
    },
    {
      "cell_type": "code",
      "execution_count": null,
      "metadata": {
        "colab": {
          "base_uri": "https://localhost:8080/"
        },
        "id": "jLeVIIGNzjcO",
        "outputId": "af5aef21-6681-4d05-fb0a-63b32a9c8910"
      },
      "outputs": [
        {
          "output_type": "stream",
          "name": "stderr",
          "text": [
            "/usr/local/lib/python3.7/dist-packages/ipykernel_launcher.py:10: FutureWarning: Series.dt.weekofyear and Series.dt.week have been deprecated.  Please use Series.dt.isocalendar().week instead.\n",
            "  # Remove the CWD from sys.path while we load stuff.\n",
            "/usr/local/lib/python3.7/dist-packages/ipykernel_launcher.py:15: FutureWarning: casting datetime64[ns] values to int64 with .astype(...) is deprecated and will raise in a future version. Use .view(...) instead.\n",
            "  from ipykernel import kernelapp as app\n"
          ]
        }
      ],
      "source": [
        "whole_train_df['year'] = whole_train_df.timestamp.dt.year\n",
        "whole_train_df['month'] = whole_train_df.timestamp.dt.month\n",
        "whole_train_df['week_of_year'] = whole_train_df.timestamp.dt.weekofyear\n",
        "whole_train_df['day_of_week'] = whole_train_df.timestamp.dt.weekday\n",
        "whole_train_df['timestamp_int'] = whole_train_df.timestamp.astype(int)\n"
      ]
    },
    {
      "cell_type": "code",
      "execution_count": null,
      "metadata": {
        "id": "MMYIpahLzjcP"
      },
      "outputs": [],
      "source": [
        "whole_train_df['year_month'] = whole_train_df['year'].astype(str) + '_' + whole_train_df['month'].astype(str)"
      ]
    },
    {
      "cell_type": "code",
      "execution_count": null,
      "metadata": {
        "id": "rHjlkS3RzjcP"
      },
      "outputs": [],
      "source": [
        "whole_train_df.fillna(-99, inplace=True)"
      ]
    },
    {
      "cell_type": "code",
      "execution_count": null,
      "metadata": {
        "id": "aoWzIl1XzjcP"
      },
      "outputs": [],
      "source": [
        "whole_train_df[\"ratio_life_dash_full_sq\"] = whole_train_df[\"life_sq\"] / whole_train_df[\"full_sq\"]\n",
        "whole_train_df[\"ration_kitchen_dash_full_sq\"] = whole_train_df[\"kitch_sq\"] / whole_train_df[\"full_sq\"]\n",
        "whole_train_df['age'] = whole_train_df[\"build_year\"] - whole_train_df['year']\n",
        "whole_train_df['some_extra_sqr'] = whole_train_df[\"full_sq\"] - whole_train_df[\"life_sq\"]\n"
      ]
    },
    {
      "cell_type": "code",
      "execution_count": null,
      "metadata": {
        "colab": {
          "base_uri": "https://localhost:8080/"
        },
        "id": "rRLWOBb0zjcP",
        "outputId": "9f8c0e54-8699-486f-a7e4-a687d86dceb3"
      },
      "outputs": [
        {
          "output_type": "stream",
          "name": "stdout",
          "text": [
            "<class 'pandas.core.frame.DataFrame'>\n",
            "Int64Index: 29000 entries, 0 to 28999\n",
            "Data columns (total 42 columns):\n",
            " #   Column                           Non-Null Count  Dtype         \n",
            "---  ------                           --------------  -----         \n",
            " 0   id                               29000 non-null  int64         \n",
            " 1   timestamp                        29000 non-null  datetime64[ns]\n",
            " 2   full_sq                          29000 non-null  int64         \n",
            " 3   life_sq                          29000 non-null  float64       \n",
            " 4   floor                            29000 non-null  float64       \n",
            " 5   max_floor                        29000 non-null  float64       \n",
            " 6   material                         29000 non-null  float64       \n",
            " 7   build_year                       29000 non-null  float64       \n",
            " 8   num_room                         29000 non-null  float64       \n",
            " 9   kitch_sq                         29000 non-null  float64       \n",
            " 10  apartment condition              29000 non-null  float64       \n",
            " 11  sub_area                         29000 non-null  int64         \n",
            " 12  price                            29000 non-null  float64       \n",
            " 13  full_sq_bins                     29000 non-null  int64         \n",
            " 14  population                       29000 non-null  int64         \n",
            " 15  indust_part                      29000 non-null  float64       \n",
            " 16  preschool_facilities             29000 non-null  int64         \n",
            " 17  school_facilities                29000 non-null  int64         \n",
            " 18  hospital_beds_raion              29000 non-null  float64       \n",
            " 19  healthcare_facilities            29000 non-null  int64         \n",
            " 20  university_num                   29000 non-null  int64         \n",
            " 21  sport_objects_facilities         29000 non-null  int64         \n",
            " 22  additional_education_facilities  29000 non-null  int64         \n",
            " 23  culture_objects_facilities       29000 non-null  int64         \n",
            " 24  shopping_centers_facilities      29000 non-null  int64         \n",
            " 25  office_num                       29000 non-null  int64         \n",
            " 26  green_part                       29000 non-null  float64       \n",
            " 27  prom_part                        29000 non-null  float64       \n",
            " 28  cafe_count                       29000 non-null  int64         \n",
            " 29  church_facilities                29000 non-null  int64         \n",
            " 30  mosque                           29000 non-null  int64         \n",
            " 31  leisure_facilities               29000 non-null  int64         \n",
            " 32  year                             29000 non-null  int64         \n",
            " 33  month                            29000 non-null  int64         \n",
            " 34  week_of_year                     29000 non-null  int64         \n",
            " 35  day_of_week                      29000 non-null  int64         \n",
            " 36  timestamp_int                    29000 non-null  int64         \n",
            " 37  year_month                       29000 non-null  object        \n",
            " 38  ratio_life_dash_full_sq          28999 non-null  float64       \n",
            " 39  ration_kitchen_dash_full_sq      28998 non-null  float64       \n",
            " 40  age                              29000 non-null  float64       \n",
            " 41  some_extra_sqr                   29000 non-null  float64       \n",
            "dtypes: datetime64[ns](1), float64(17), int64(23), object(1)\n",
            "memory usage: 10.5+ MB\n"
          ]
        }
      ],
      "source": [
        "whole_train_df.info()"
      ]
    },
    {
      "cell_type": "code",
      "execution_count": null,
      "metadata": {
        "id": "Y1T4ZdAJzjcP"
      },
      "outputs": [],
      "source": [
        "test_main_df.timestamp = pd.to_datetime(test_main_df.timestamp)"
      ]
    },
    {
      "cell_type": "code",
      "execution_count": null,
      "metadata": {
        "colab": {
          "base_uri": "https://localhost:8080/"
        },
        "id": "omoLmxKyzjcP",
        "outputId": "cf6f3039-2d4b-4a29-88f6-ed3546d18125"
      },
      "outputs": [
        {
          "output_type": "stream",
          "name": "stderr",
          "text": [
            "/usr/local/lib/python3.7/dist-packages/ipykernel_launcher.py:1: FutureWarning: Treating datetime data as categorical rather than numeric in `.describe` is deprecated and will be removed in a future version of pandas. Specify `datetime_is_numeric=True` to silence this warning and adopt the future behavior now.\n",
            "  \"\"\"Entry point for launching an IPython kernel.\n"
          ]
        },
        {
          "output_type": "execute_result",
          "data": {
            "text/plain": [
              "count                    1000\n",
              "unique                    682\n",
              "top       2014-12-26 00:00:00\n",
              "freq                        5\n",
              "first     2011-11-01 00:00:00\n",
              "last      2015-07-21 00:00:00\n",
              "Name: timestamp, dtype: object"
            ]
          },
          "metadata": {},
          "execution_count": 305
        }
      ],
      "source": [
        "test_main_df.timestamp.describe()"
      ]
    },
    {
      "cell_type": "code",
      "execution_count": null,
      "metadata": {
        "colab": {
          "base_uri": "https://localhost:8080/"
        },
        "id": "KZ4ZoXWNzjcQ",
        "outputId": "3ce7847a-e368-4b79-afc7-563298f39c2d"
      },
      "outputs": [
        {
          "output_type": "stream",
          "name": "stderr",
          "text": [
            "/usr/local/lib/python3.7/dist-packages/ipykernel_launcher.py:1: FutureWarning: Treating datetime data as categorical rather than numeric in `.describe` is deprecated and will be removed in a future version of pandas. Specify `datetime_is_numeric=True` to silence this warning and adopt the future behavior now.\n",
            "  \"\"\"Entry point for launching an IPython kernel.\n"
          ]
        },
        {
          "output_type": "execute_result",
          "data": {
            "text/plain": [
              "count                   29000\n",
              "unique                   1416\n",
              "top       2014-12-19 00:00:00\n",
              "freq                       68\n",
              "first     2011-09-18 00:00:00\n",
              "last      2015-08-10 00:00:00\n",
              "Name: timestamp, dtype: object"
            ]
          },
          "metadata": {},
          "execution_count": 306
        }
      ],
      "source": [
        "whole_train_df.timestamp.describe()"
      ]
    },
    {
      "cell_type": "code",
      "execution_count": null,
      "metadata": {
        "id": "GgkUf_2vzjcQ"
      },
      "outputs": [],
      "source": []
    },
    {
      "cell_type": "code",
      "execution_count": null,
      "metadata": {
        "id": "zntTf5l9zjcQ"
      },
      "outputs": [],
      "source": []
    },
    {
      "cell_type": "markdown",
      "metadata": {
        "id": "7F0MnV7NzjcQ"
      },
      "source": [
        "# Modeling"
      ]
    },
    {
      "cell_type": "code",
      "execution_count": null,
      "metadata": {
        "id": "1joi0MpKzjcQ"
      },
      "outputs": [],
      "source": [
        "import xgboost as xgb"
      ]
    },
    {
      "cell_type": "code",
      "execution_count": null,
      "metadata": {
        "id": "_yu60GZvzjcQ"
      },
      "outputs": [],
      "source": [
        "xgb_params = {\n",
        "    'eta': 0.05,\n",
        "    'max_depth': 4,\n",
        "    'subsample': 0.7,\n",
        "    'colsample_bytree': 0.7,\n",
        "    'objective': 'reg:linear',\n",
        "    'eval_metric': 'rmse',\n",
        "    'min_child_weight':1,\n",
        "    'silent': 1,\n",
        "    'seed':0\n",
        "}"
      ]
    },
    {
      "cell_type": "code",
      "execution_count": null,
      "metadata": {
        "id": "htjw4xWtzjcQ"
      },
      "outputs": [],
      "source": [
        "\n",
        "train_X = whole_train_df[whole_train_df.timestamp < pd.to_datetime('2015-05-01')]\n",
        "train_y = whole_train_df[whole_train_df.timestamp < pd.to_datetime('2015-05-01')].price\n",
        "val_X = whole_train_df.drop(['price','timestamp'], axis=1)[whole_train_df.timestamp >= pd.to_datetime('2015-05-01')]\n",
        "val_y = whole_train_df[whole_train_df.timestamp >= pd.to_datetime('2015-05-01')].price"
      ]
    },
    {
      "cell_type": "code",
      "execution_count": null,
      "metadata": {
        "id": "xD7iMrwizjcQ"
      },
      "outputs": [],
      "source": [
        "col_list = ['full_sq', 'life_sq', 'floor', 'max_floor',\n",
        "       'material', 'build_year', 'num_room', 'kitch_sq', 'apartment condition',\n",
        "       'sub_area', 'full_sq_bins', 'population', 'indust_part',\n",
        "       'preschool_facilities', 'school_facilities', 'hospital_beds_raion',\n",
        "       'healthcare_facilities', 'university_num', 'sport_objects_facilities',\n",
        "       'additional_education_facilities', 'culture_objects_facilities',\n",
        "       'shopping_centers_facilities', 'office_num', 'green_part', 'prom_part',\n",
        "       'cafe_count', 'church_facilities', 'mosque', 'leisure_facilities',\n",
        "       'year', 'month', 'week_of_year', 'day_of_week', 'timestamp_int',\n",
        "       'ratio_life_dash_full_sq', 'ration_kitchen_dash_full_sq',\n",
        "       'age', 'some_extra_sqr']"
      ]
    },
    {
      "cell_type": "code",
      "execution_count": null,
      "metadata": {
        "id": "GRD2jBkwzjcR"
      },
      "outputs": [],
      "source": []
    },
    {
      "cell_type": "code",
      "execution_count": null,
      "metadata": {
        "id": "F-2um0dkzjcR"
      },
      "outputs": [],
      "source": [
        "xgb_train = xgb.DMatrix(train_X[col_list], train_y, feature_names = col_list)\n",
        "xgb_test = xgb.DMatrix(val_X[col_list], val_y, feature_names = col_list)"
      ]
    },
    {
      "cell_type": "code",
      "execution_count": null,
      "metadata": {
        "id": "SKbWMgFrzjcR"
      },
      "outputs": [],
      "source": [
        "evallist = [(xgb_test, 'eval'), (xgb_train, 'train')]"
      ]
    },
    {
      "cell_type": "code",
      "execution_count": null,
      "metadata": {
        "colab": {
          "base_uri": "https://localhost:8080/"
        },
        "id": "9pA8w6nPzjcR",
        "outputId": "2afcea22-ff59-4b90-f63f-44a22d079f22"
      },
      "outputs": [
        {
          "output_type": "stream",
          "name": "stdout",
          "text": [
            "[0]\teval-rmse:7.47463e+06\ttrain-rmse:6.61173e+06\n",
            "Multiple eval metrics have been passed: 'train-rmse' will be used for early stopping.\n",
            "\n",
            "Will train until train-rmse hasn't improved in 10 rounds.\n",
            "[10]\teval-rmse:5.1801e+06\ttrain-rmse:4.47068e+06\n",
            "[20]\teval-rmse:3.93103e+06\ttrain-rmse:3.3339e+06\n",
            "[30]\teval-rmse:3.23954e+06\ttrain-rmse:2.75798e+06\n",
            "[40]\teval-rmse:2.88754e+06\ttrain-rmse:2.48702e+06\n",
            "[50]\teval-rmse:2.66792e+06\ttrain-rmse:2.34191e+06\n",
            "[60]\teval-rmse:2.53096e+06\ttrain-rmse:2.25807e+06\n",
            "[70]\teval-rmse:2.44949e+06\ttrain-rmse:2.20202e+06\n",
            "[80]\teval-rmse:2.39544e+06\ttrain-rmse:2.1613e+06\n",
            "[90]\teval-rmse:2.36172e+06\ttrain-rmse:2.13207e+06\n",
            "[100]\teval-rmse:2.33272e+06\ttrain-rmse:2.10799e+06\n",
            "[110]\teval-rmse:2.3007e+06\ttrain-rmse:2.08656e+06\n",
            "[120]\teval-rmse:2.27533e+06\ttrain-rmse:2.06767e+06\n",
            "[130]\teval-rmse:2.26486e+06\ttrain-rmse:2.05143e+06\n",
            "[140]\teval-rmse:2.24913e+06\ttrain-rmse:2.03691e+06\n",
            "[150]\teval-rmse:2.23387e+06\ttrain-rmse:2.02064e+06\n",
            "[160]\teval-rmse:2.21971e+06\ttrain-rmse:2.00753e+06\n",
            "[170]\teval-rmse:2.20713e+06\ttrain-rmse:1.9935e+06\n",
            "[180]\teval-rmse:2.19584e+06\ttrain-rmse:1.97922e+06\n",
            "[190]\teval-rmse:2.18691e+06\ttrain-rmse:1.96719e+06\n",
            "[200]\teval-rmse:2.17482e+06\ttrain-rmse:1.95636e+06\n",
            "[210]\teval-rmse:2.17134e+06\ttrain-rmse:1.94605e+06\n",
            "[220]\teval-rmse:2.172e+06\ttrain-rmse:1.93827e+06\n",
            "[230]\teval-rmse:2.1663e+06\ttrain-rmse:1.92818e+06\n",
            "[240]\teval-rmse:2.15274e+06\ttrain-rmse:1.91781e+06\n",
            "[250]\teval-rmse:2.14911e+06\ttrain-rmse:1.90853e+06\n",
            "[260]\teval-rmse:2.14325e+06\ttrain-rmse:1.90105e+06\n",
            "[270]\teval-rmse:2.13643e+06\ttrain-rmse:1.89462e+06\n",
            "[280]\teval-rmse:2.13492e+06\ttrain-rmse:1.88738e+06\n",
            "[290]\teval-rmse:2.13097e+06\ttrain-rmse:1.87831e+06\n",
            "[299]\teval-rmse:2.13216e+06\ttrain-rmse:1.87156e+06\n"
          ]
        }
      ],
      "source": [
        "model = xgb.train(params = xgb_params,\n",
        "                  dtrain = xgb_train, \n",
        "                  num_boost_round = 300, \n",
        "                  evals = evallist, \n",
        "                  early_stopping_rounds = 10, \n",
        "                  verbose_eval = 10)"
      ]
    },
    {
      "cell_type": "code",
      "execution_count": null,
      "metadata": {
        "id": "OTpZXx7izjcR"
      },
      "outputs": [],
      "source": []
    },
    {
      "cell_type": "code",
      "execution_count": null,
      "metadata": {
        "id": "_XgyAzCZzjcR"
      },
      "outputs": [],
      "source": [
        "from sklearn.model_selection import train_test_split"
      ]
    },
    {
      "cell_type": "code",
      "execution_count": null,
      "metadata": {
        "scrolled": true,
        "id": "HBlymKhWzjcR"
      },
      "outputs": [],
      "source": [
        "X_train, X_test, y_train, y_test = train_test_split(\n",
        "    whole_train_df[col_list],\n",
        "    whole_train_df.price, test_size=1425, random_state=42)"
      ]
    },
    {
      "cell_type": "code",
      "execution_count": null,
      "metadata": {
        "id": "oq1V_DkEzjcR"
      },
      "outputs": [],
      "source": [
        "xgb_params = {\n",
        "    'eta': 0.05,\n",
        "    'max_depth': 4,\n",
        "    'subsample': 0.7,\n",
        "    'colsample_bytree': 0.7,\n",
        "    'objective': 'reg:linear',\n",
        "    'eval_metric': 'mae',\n",
        "    'min_child_weight':1,\n",
        "    'silent': 1,\n",
        "    'seed':0\n",
        "}"
      ]
    },
    {
      "cell_type": "code",
      "execution_count": null,
      "metadata": {
        "id": "yPxR5jilzjcS"
      },
      "outputs": [],
      "source": [
        "xgb_train = xgb.DMatrix(X_train, y_train, feature_names = col_list)\n",
        "xgb_test = xgb.DMatrix(X_test, y_test, feature_names = col_list)"
      ]
    },
    {
      "cell_type": "code",
      "execution_count": null,
      "metadata": {
        "id": "0LDi2AEAzjcS"
      },
      "outputs": [],
      "source": [
        "evallist = [(xgb_test, 'eval'), (xgb_train, 'train')]"
      ]
    },
    {
      "cell_type": "code",
      "execution_count": null,
      "metadata": {
        "colab": {
          "base_uri": "https://localhost:8080/"
        },
        "id": "WU80y7I4zjcS",
        "outputId": "203d81d2-7d23-4d42-c783-c88459504bdb"
      },
      "outputs": [
        {
          "output_type": "stream",
          "name": "stdout",
          "text": [
            "[0]\teval-mae:5.64121e+06\ttrain-mae:5.47647e+06\n",
            "Multiple eval metrics have been passed: 'train-mae' will be used for early stopping.\n",
            "\n",
            "Will train until train-mae hasn't improved in 10 rounds.\n",
            "[10]\teval-mae:3.62406e+06\ttrain-mae:3.46952e+06\n",
            "[20]\teval-mae:2.58909e+06\ttrain-mae:2.43214e+06\n",
            "[30]\teval-mae:2.04327e+06\ttrain-mae:1.88092e+06\n",
            "[40]\teval-mae:1.75265e+06\ttrain-mae:1.59303e+06\n",
            "[50]\teval-mae:1.60348e+06\ttrain-mae:1.44664e+06\n",
            "[60]\teval-mae:1.5173e+06\ttrain-mae:1.36798e+06\n",
            "[70]\teval-mae:1.46714e+06\ttrain-mae:1.31862e+06\n",
            "[80]\teval-mae:1.43303e+06\ttrain-mae:1.28786e+06\n",
            "[90]\teval-mae:1.41094e+06\ttrain-mae:1.26777e+06\n",
            "[100]\teval-mae:1.39003e+06\ttrain-mae:1.24878e+06\n",
            "[110]\teval-mae:1.37204e+06\ttrain-mae:1.23086e+06\n",
            "[120]\teval-mae:1.36225e+06\ttrain-mae:1.21915e+06\n",
            "[130]\teval-mae:1.35e+06\ttrain-mae:1.20709e+06\n",
            "[140]\teval-mae:1.3422e+06\ttrain-mae:1.19677e+06\n",
            "[150]\teval-mae:1.33682e+06\ttrain-mae:1.1888e+06\n",
            "[160]\teval-mae:1.33044e+06\ttrain-mae:1.18007e+06\n",
            "[170]\teval-mae:1.32554e+06\ttrain-mae:1.17255e+06\n",
            "[180]\teval-mae:1.31983e+06\ttrain-mae:1.16435e+06\n",
            "[190]\teval-mae:1.31646e+06\ttrain-mae:1.15823e+06\n",
            "[200]\teval-mae:1.31358e+06\ttrain-mae:1.15359e+06\n",
            "[210]\teval-mae:1.30869e+06\ttrain-mae:1.14702e+06\n",
            "[220]\teval-mae:1.30168e+06\ttrain-mae:1.13973e+06\n",
            "[230]\teval-mae:1.29755e+06\ttrain-mae:1.13298e+06\n",
            "[240]\teval-mae:1.29544e+06\ttrain-mae:1.12862e+06\n",
            "[250]\teval-mae:1.29069e+06\ttrain-mae:1.1228e+06\n",
            "[260]\teval-mae:1.28916e+06\ttrain-mae:1.11764e+06\n",
            "[270]\teval-mae:1.28487e+06\ttrain-mae:1.1125e+06\n",
            "[280]\teval-mae:1.28253e+06\ttrain-mae:1.10917e+06\n",
            "[290]\teval-mae:1.28005e+06\ttrain-mae:1.10447e+06\n",
            "[299]\teval-mae:1.27679e+06\ttrain-mae:1.09954e+06\n"
          ]
        }
      ],
      "source": [
        "model_2 = xgb.train(params = xgb_params, \n",
        "                    dtrain = xgb_train, \n",
        "                    num_boost_round = 300, \n",
        "                    evals = evallist, \n",
        "                    early_stopping_rounds = 10, \n",
        "                    verbose_eval = 10)"
      ]
    },
    {
      "cell_type": "code",
      "execution_count": null,
      "metadata": {
        "id": "nfKRNOqezjcS"
      },
      "outputs": [],
      "source": []
    },
    {
      "cell_type": "code",
      "execution_count": null,
      "metadata": {
        "id": "XG8-xXq_zjcS"
      },
      "outputs": [],
      "source": []
    },
    {
      "cell_type": "code",
      "execution_count": null,
      "metadata": {
        "id": "z27VyJj3zjcS"
      },
      "outputs": [],
      "source": []
    },
    {
      "cell_type": "markdown",
      "metadata": {
        "id": "gM0LN2x9zjcT"
      },
      "source": [
        "# Post analysis "
      ]
    },
    {
      "cell_type": "code",
      "execution_count": null,
      "metadata": {
        "id": "-pLiR-0mzjcT"
      },
      "outputs": [],
      "source": [
        "from xgboost import plot_importance"
      ]
    },
    {
      "cell_type": "code",
      "execution_count": null,
      "metadata": {
        "scrolled": false,
        "colab": {
          "base_uri": "https://localhost:8080/",
          "height": 139
        },
        "id": "lIika2wpzjcT",
        "outputId": "1e9ddbf0-536e-4e37-c389-bdb0f9ce34e5"
      },
      "outputs": [
        {
          "output_type": "execute_result",
          "data": {
            "text/plain": [
              "<matplotlib.axes._subplots.AxesSubplot at 0x7f4cb0371790>"
            ]
          },
          "metadata": {},
          "execution_count": 322
        },
        {
          "output_type": "display_data",
          "data": {
            "text/plain": [
              "<Figure size 432x288 with 1 Axes>"
            ],
            "image/png": "[encoded data removed]"
          },
          "metadata": {
            "needs_background": "light"
          }
        }
      ],
      "source": [
        "plot_importance(model_2,max_num_features=15, height=0.9)"
      ]
    },
    {
      "cell_type": "code",
      "execution_count": null,
      "metadata": {
        "id": "QqsrgIkNzjcT"
      },
      "outputs": [],
      "source": [
        "scores = pd.DataFrame(val_y)"
      ]
    },
    {
      "cell_type": "code",
      "execution_count": null,
      "metadata": {
        "id": "o1RVmDJHzjcT"
      },
      "outputs": [],
      "source": [
        "scores['predicted'] = model.predict(xgb_test)"
      ]
    },
    {
      "cell_type": "code",
      "execution_count": null,
      "metadata": {
        "id": "C7VH0qEGzjcT"
      },
      "outputs": [],
      "source": [
        "scores['error'] = scores.price - scores.predicted"
      ]
    },
    {
      "cell_type": "code",
      "execution_count": null,
      "metadata": {
        "colab": {
          "base_uri": "https://localhost:8080/",
          "height": 483
        },
        "id": "2IBgzQfUzjcT",
        "outputId": "91d4f699-7789-4547-eed0-8082806897dd"
      },
      "outputs": [
        {
          "output_type": "execute_result",
          "data": {
            "text/plain": [
              "              price   predicted         error\n",
              "2      5.826177e+06  8185364.50 -2.359188e+06\n",
              "50     2.073190e+06  5457472.00 -3.384282e+06\n",
              "107    4.656580e+06  4072528.00  5.840520e+05\n",
              "144    8.098400e+05  4203023.00 -3.393183e+06\n",
              "151    9.521222e+06  6285848.00  3.235374e+06\n",
              "...             ...         ...           ...\n",
              "28897  5.506912e+06  3709084.25  1.797828e+06\n",
              "28940  1.077087e+07  4950797.50  5.820074e+06\n",
              "28948  6.990122e+06  7929919.50 -9.397977e+05\n",
              "28970  7.936432e+06  7070230.00  8.662020e+05\n",
              "28973  2.935216e+06  5154653.50 -2.219437e+06\n",
              "\n",
              "[1425 rows x 3 columns]"
            ],
            "text/html": [
              "\n",
              "  <div id=\"df-460fff18-3db0-4ac1-9403-021713c6cfaa\">\n",
              "    <div class=\"colab-df-container\">\n",
              "      <div>\n",
              "<style scoped>\n",
              "    .dataframe tbody tr th:only-of-type {\n",
              "        vertical-align: middle;\n",
              "    }\n",
              "\n",
              "    .dataframe tbody tr th {\n",
              "        vertical-align: top;\n",
              "    }\n",
              "\n",
              "    .dataframe thead th {\n",
              "        text-align: right;\n",
              "    }\n",
              "</style>\n",
              "<table border=\"1\" class=\"dataframe\">\n",
              "  <thead>\n",
              "    <tr style=\"text-align: right;\">\n",
              "      <th></th>\n",
              "      <th>price</th>\n",
              "      <th>predicted</th>\n",
              "      <th>error</th>\n",
              "    </tr>\n",
              "  </thead>\n",
              "  <tbody>\n",
              "    <tr>\n",
              "      <th>2</th>\n",
              "      <td>5.826177e+06</td>\n",
              "      <td>8185364.50</td>\n",
              "      <td>-2.359188e+06</td>\n",
              "    </tr>\n",
              "    <tr>\n",
              "      <th>50</th>\n",
              "      <td>2.073190e+06</td>\n",
              "      <td>5457472.00</td>\n",
              "      <td>-3.384282e+06</td>\n",
              "    </tr>\n",
              "    <tr>\n",
              "      <th>107</th>\n",
              "      <td>4.656580e+06</td>\n",
              "      <td>4072528.00</td>\n",
              "      <td>5.840520e+05</td>\n",
              "    </tr>\n",
              "    <tr>\n",
              "      <th>144</th>\n",
              "      <td>8.098400e+05</td>\n",
              "      <td>4203023.00</td>\n",
              "      <td>-3.393183e+06</td>\n",
              "    </tr>\n",
              "    <tr>\n",
              "      <th>151</th>\n",
              "      <td>9.521222e+06</td>\n",
              "      <td>6285848.00</td>\n",
              "      <td>3.235374e+06</td>\n",
              "    </tr>\n",
              "    <tr>\n",
              "      <th>...</th>\n",
              "      <td>...</td>\n",
              "      <td>...</td>\n",
              "      <td>...</td>\n",
              "    </tr>\n",
              "    <tr>\n",
              "      <th>28897</th>\n",
              "      <td>5.506912e+06</td>\n",
              "      <td>3709084.25</td>\n",
              "      <td>1.797828e+06</td>\n",
              "    </tr>\n",
              "    <tr>\n",
              "      <th>28940</th>\n",
              "      <td>1.077087e+07</td>\n",
              "      <td>4950797.50</td>\n",
              "      <td>5.820074e+06</td>\n",
              "    </tr>\n",
              "    <tr>\n",
              "      <th>28948</th>\n",
              "      <td>6.990122e+06</td>\n",
              "      <td>7929919.50</td>\n",
              "      <td>-9.397977e+05</td>\n",
              "    </tr>\n",
              "    <tr>\n",
              "      <th>28970</th>\n",
              "      <td>7.936432e+06</td>\n",
              "      <td>7070230.00</td>\n",
              "      <td>8.662020e+05</td>\n",
              "    </tr>\n",
              "    <tr>\n",
              "      <th>28973</th>\n",
              "      <td>2.935216e+06</td>\n",
              "      <td>5154653.50</td>\n",
              "      <td>-2.219437e+06</td>\n",
              "    </tr>\n",
              "  </tbody>\n",
              "</table>\n",
              "<p>1425 rows × 3 columns</p>\n",
              "</div>\n",
              "      <button class=\"colab-df-convert\" onclick=\"convertToInteractive('df-460fff18-3db0-4ac1-9403-021713c6cfaa')\"\n",
              "              title=\"Convert this dataframe to an interactive table.\"\n",
              "              style=\"display:none;\">\n",
              "        \n",
              "  <svg xmlns=\"http://www.w3.org/2000/svg\" height=\"24px\"viewBox=\"0 0 24 24\"\n",
              "       width=\"24px\">\n",
              "    <path d=\"M0 0h24v24H0V0z\" fill=\"none\"/>\n",
              "    <path d=\"M18.56 5.44l.94 2.06.94-2.06 2.06-.94-2.06-.94-.94-2.06-.94 2.06-2.06.94zm-11 1L8.5 8.5l.94-2.06 2.06-.94-2.06-.94L8.5 2.5l-.94 2.06-2.06.94zm10 10l.94 2.06.94-2.06 2.06-.94-2.06-.94-.94-2.06-.94 2.06-2.06.94z\"/><path d=\"M17.41 7.96l-1.37-1.37c-.4-.4-.92-.59-1.43-.59-.52 0-1.04.2-1.43.59L10.3 9.45l-7.72 7.72c-.78.78-.78 2.05 0 2.83L4 21.41c.39.39.9.59 1.41.59.51 0 1.02-.2 1.41-.59l7.78-7.78 2.81-2.81c.8-.78.8-2.07 0-2.86zM5.41 20L4 18.59l7.72-7.72 1.47 1.35L5.41 20z\"/>\n",
              "  </svg>\n",
              "      </button>\n",
              "      \n",
              "  <style>\n",
              "    .colab-df-container {\n",
              "      display:flex;\n",
              "      flex-wrap:wrap;\n",
              "      gap: 12px;\n",
              "    }\n",
              "\n",
              "    .colab-df-convert {\n",
              "      background-color: #E8F0FE;\n",
              "      border: none;\n",
              "      border-radius: 50%;\n",
              "      cursor: pointer;\n",
              "      display: none;\n",
              "      fill: #1967D2;\n",
              "      height: 32px;\n",
              "      padding: 0 0 0 0;\n",
              "      width: 32px;\n",
              "    }\n",
              "\n",
              "    .colab-df-convert:hover {\n",
              "      background-color: #E2EBFA;\n",
              "      box-shadow: 0px 1px 2px rgba(60, 64, 67, 0.3), 0px 1px 3px 1px rgba(60, 64, 67, 0.15);\n",
              "      fill: #174EA6;\n",
              "    }\n",
              "\n",
              "    [theme=dark] .colab-df-convert {\n",
              "      background-color: #3B4455;\n",
              "      fill: #D2E3FC;\n",
              "    }\n",
              "\n",
              "    [theme=dark] .colab-df-convert:hover {\n",
              "      background-color: #434B5C;\n",
              "      box-shadow: 0px 1px 3px 1px rgba(0, 0, 0, 0.15);\n",
              "      filter: drop-shadow(0px 1px 2px rgba(0, 0, 0, 0.3));\n",
              "      fill: #FFFFFF;\n",
              "    }\n",
              "  </style>\n",
              "\n",
              "      <script>\n",
              "        const buttonEl =\n",
              "          document.querySelector('#df-460fff18-3db0-4ac1-9403-021713c6cfaa button.colab-df-convert');\n",
              "        buttonEl.style.display =\n",
              "          google.colab.kernel.accessAllowed ? 'block' : 'none';\n",
              "\n",
              "        async function convertToInteractive(key) {\n",
              "          const element = document.querySelector('#df-460fff18-3db0-4ac1-9403-021713c6cfaa');\n",
              "          const dataTable =\n",
              "            await google.colab.kernel.invokeFunction('convertToInteractive',\n",
              "                                                     [key], {});\n",
              "          if (!dataTable) return;\n",
              "\n",
              "          const docLinkHtml = 'Like what you see? Visit the ' +\n",
              "            '<a target=\"_blank\" href=https://colab.research.google.com/notebooks/data_table.ipynb>data table notebook</a>'\n",
              "            + ' to learn more about interactive tables.';\n",
              "          element.innerHTML = '';\n",
              "          dataTable['output_type'] = 'display_data';\n",
              "          await google.colab.output.renderOutput(dataTable, element);\n",
              "          const docLink = document.createElement('div');\n",
              "          docLink.innerHTML = docLinkHtml;\n",
              "          element.appendChild(docLink);\n",
              "        }\n",
              "      </script>\n",
              "    </div>\n",
              "  </div>\n",
              "  "
            ]
          },
          "metadata": {},
          "execution_count": 326
        }
      ],
      "source": [
        "scores"
      ]
    },
    {
      "cell_type": "code",
      "execution_count": null,
      "metadata": {
        "colab": {
          "base_uri": "https://localhost:8080/"
        },
        "id": "z3B4u48qzjcT",
        "outputId": "326f6d56-9e26-4879-ecb2-5b8610289f13"
      },
      "outputs": [
        {
          "output_type": "execute_result",
          "data": {
            "text/plain": [
              "count    1.425000e+03\n",
              "mean     5.817975e+05\n",
              "std      5.661028e+06\n",
              "min     -6.540370e+07\n",
              "25%     -1.754145e+06\n",
              "50%      4.843880e+05\n",
              "75%      2.740956e+06\n",
              "max      5.280897e+07\n",
              "Name: error, dtype: float64"
            ]
          },
          "metadata": {},
          "execution_count": 327
        }
      ],
      "source": [
        "scores['error'].describe()"
      ]
    },
    {
      "cell_type": "code",
      "execution_count": null,
      "metadata": {
        "id": "VGMTKupCzjcT"
      },
      "outputs": [],
      "source": []
    },
    {
      "cell_type": "code",
      "source": [],
      "metadata": {
        "id": "4uECfdcV6p9y"
      },
      "execution_count": null,
      "outputs": []
    },
    {
      "cell_type": "markdown",
      "source": [
        "# ВТОРАЯ ЧАСТЬ\n"
      ],
      "metadata": {
        "id": "o43yUZ7E6rR_"
      }
    },
    {
      "cell_type": "code",
      "source": [
        "df_train.sort_values(by = 'price',ascending = False).head(10).id.tolist()"
      ],
      "metadata": {
        "colab": {
          "base_uri": "https://localhost:8080/"
        },
        "id": "S6TPqL7S7b39",
        "outputId": "68922290-44e2-48e6-aef6-9ee07dd2e020"
      },
      "execution_count": null,
      "outputs": [
        {
          "output_type": "execute_result",
          "data": {
            "text/plain": [
              "[85073, 14154, 88100, 78059, 91175, 45584, 95572, 63901, 92747, 40136]"
            ]
          },
          "metadata": {},
          "execution_count": 333
        }
      ]
    },
    {
      "cell_type": "code",
      "source": [
        "df_train[\"year\"] = df_train.timestamp.dt.year"
      ],
      "metadata": {
        "id": "N2QsR6KD8YHr"
      },
      "execution_count": null,
      "outputs": []
    },
    {
      "cell_type": "code",
      "source": [
        "df_train[\"year_month\"] = df_train.year.astype(str) + \"_\" + df_train.timestamp.dt.month.astype(str)"
      ],
      "metadata": {
        "id": "LPZbtLWL8wCK"
      },
      "execution_count": null,
      "outputs": []
    },
    {
      "cell_type": "code",
      "source": [
        "df_train"
      ],
      "metadata": {
        "colab": {
          "base_uri": "https://localhost:8080/",
          "height": 500
        },
        "id": "TRJqnO0W9R7h",
        "outputId": "c967e77e-6c07-4c1e-8e3a-d6f5c6497e29"
      },
      "execution_count": null,
      "outputs": [
        {
          "output_type": "execute_result",
          "data": {
            "text/plain": [
              "          id  timestamp  full_sq  life_sq  floor  max_floor  material  \\\n",
              "0      30392 2014-12-30       60     36.0    6.0        9.0       1.0   \n",
              "1      36540 2013-06-28       44     29.0    9.0        NaN       NaN   \n",
              "2      94669 2013-09-15       62     60.0    4.0        NaN       NaN   \n",
              "3      17531 2013-12-13       33     18.0    4.0        9.0       1.0   \n",
              "4      32159 2014-02-13       37     14.0    1.0       17.0       1.0   \n",
              "...      ...        ...      ...      ...    ...        ...       ...   \n",
              "28995  85589 2013-05-08       58      NaN    2.0        NaN       NaN   \n",
              "28996  11345 2014-04-12       38      NaN    9.0       17.0       1.0   \n",
              "28997  55519 2013-09-23       55     30.0    9.0       16.0       1.0   \n",
              "28998  17196 2013-11-19       37     19.0    3.0       16.0       5.0   \n",
              "28999  97330 2014-05-03       45     20.0   12.0       17.0       6.0   \n",
              "\n",
              "       build_year  num_room  kitch_sq  apartment condition  sub_area  \\\n",
              "0          1974.0       3.0       5.0                  3.0         9   \n",
              "1             NaN       NaN       NaN                  NaN        19   \n",
              "2             NaN       NaN       NaN                  NaN        80   \n",
              "3          1970.0       1.0       6.0                  2.0        15   \n",
              "4          1991.0       1.0       1.0                  2.0        74   \n",
              "...           ...       ...       ...                  ...       ...   \n",
              "28995         NaN       NaN       NaN                  NaN       101   \n",
              "28996         NaN       1.0       1.0                  NaN       134   \n",
              "28997      2002.0       2.0       8.0                  3.0        38   \n",
              "28998      1979.0       1.0       9.0                  3.0        43   \n",
              "28999      2011.0       1.0      10.0                  1.0       101   \n",
              "\n",
              "           price  year year_month  \n",
              "0      9711800.0  2014    2014_12  \n",
              "1      6643200.0  2013     2013_6  \n",
              "2      5698300.0  2013     2013_9  \n",
              "3      5055000.0  2013    2013_12  \n",
              "4      5425000.0  2014     2014_2  \n",
              "...          ...   ...        ...  \n",
              "28995  4330300.0  2013     2013_5  \n",
              "28996  4779900.0  2014     2014_4  \n",
              "28997  7260000.0  2013     2013_9  \n",
              "28998  6018000.0  2013    2013_11  \n",
              "28999  2389000.0  2014     2014_5  \n",
              "\n",
              "[29000 rows x 15 columns]"
            ],
            "text/html": [
              "\n",
              "  <div id=\"df-1c5a5d6a-9ca3-483b-b7dc-0cd3a38082a0\">\n",
              "    <div class=\"colab-df-container\">\n",
              "      <div>\n",
              "<style scoped>\n",
              "    .dataframe tbody tr th:only-of-type {\n",
              "        vertical-align: middle;\n",
              "    }\n",
              "\n",
              "    .dataframe tbody tr th {\n",
              "        vertical-align: top;\n",
              "    }\n",
              "\n",
              "    .dataframe thead th {\n",
              "        text-align: right;\n",
              "    }\n",
              "</style>\n",
              "<table border=\"1\" class=\"dataframe\">\n",
              "  <thead>\n",
              "    <tr style=\"text-align: right;\">\n",
              "      <th></th>\n",
              "      <th>id</th>\n",
              "      <th>timestamp</th>\n",
              "      <th>full_sq</th>\n",
              "      <th>life_sq</th>\n",
              "      <th>floor</th>\n",
              "      <th>max_floor</th>\n",
              "      <th>material</th>\n",
              "      <th>build_year</th>\n",
              "      <th>num_room</th>\n",
              "      <th>kitch_sq</th>\n",
              "      <th>apartment condition</th>\n",
              "      <th>sub_area</th>\n",
              "      <th>price</th>\n",
              "      <th>year</th>\n",
              "      <th>year_month</th>\n",
              "    </tr>\n",
              "  </thead>\n",
              "  <tbody>\n",
              "    <tr>\n",
              "      <th>0</th>\n",
              "      <td>30392</td>\n",
              "      <td>2014-12-30</td>\n",
              "      <td>60</td>\n",
              "      <td>36.0</td>\n",
              "      <td>6.0</td>\n",
              "      <td>9.0</td>\n",
              "      <td>1.0</td>\n",
              "      <td>1974.0</td>\n",
              "      <td>3.0</td>\n",
              "      <td>5.0</td>\n",
              "      <td>3.0</td>\n",
              "      <td>9</td>\n",
              "      <td>9711800.0</td>\n",
              "      <td>2014</td>\n",
              "      <td>2014_12</td>\n",
              "    </tr>\n",
              "    <tr>\n",
              "      <th>1</th>\n",
              "      <td>36540</td>\n",
              "      <td>2013-06-28</td>\n",
              "      <td>44</td>\n",
              "      <td>29.0</td>\n",
              "      <td>9.0</td>\n",
              "      <td>NaN</td>\n",
              "      <td>NaN</td>\n",
              "      <td>NaN</td>\n",
              "      <td>NaN</td>\n",
              "      <td>NaN</td>\n",
              "      <td>NaN</td>\n",
              "      <td>19</td>\n",
              "      <td>6643200.0</td>\n",
              "      <td>2013</td>\n",
              "      <td>2013_6</td>\n",
              "    </tr>\n",
              "    <tr>\n",
              "      <th>2</th>\n",
              "      <td>94669</td>\n",
              "      <td>2013-09-15</td>\n",
              "      <td>62</td>\n",
              "      <td>60.0</td>\n",
              "      <td>4.0</td>\n",
              "      <td>NaN</td>\n",
              "      <td>NaN</td>\n",
              "      <td>NaN</td>\n",
              "      <td>NaN</td>\n",
              "      <td>NaN</td>\n",
              "      <td>NaN</td>\n",
              "      <td>80</td>\n",
              "      <td>5698300.0</td>\n",
              "      <td>2013</td>\n",
              "      <td>2013_9</td>\n",
              "    </tr>\n",
              "    <tr>\n",
              "      <th>3</th>\n",
              "      <td>17531</td>\n",
              "      <td>2013-12-13</td>\n",
              "      <td>33</td>\n",
              "      <td>18.0</td>\n",
              "      <td>4.0</td>\n",
              "      <td>9.0</td>\n",
              "      <td>1.0</td>\n",
              "      <td>1970.0</td>\n",
              "      <td>1.0</td>\n",
              "      <td>6.0</td>\n",
              "      <td>2.0</td>\n",
              "      <td>15</td>\n",
              "      <td>5055000.0</td>\n",
              "      <td>2013</td>\n",
              "      <td>2013_12</td>\n",
              "    </tr>\n",
              "    <tr>\n",
              "      <th>4</th>\n",
              "      <td>32159</td>\n",
              "      <td>2014-02-13</td>\n",
              "      <td>37</td>\n",
              "      <td>14.0</td>\n",
              "      <td>1.0</td>\n",
              "      <td>17.0</td>\n",
              "      <td>1.0</td>\n",
              "      <td>1991.0</td>\n",
              "      <td>1.0</td>\n",
              "      <td>1.0</td>\n",
              "      <td>2.0</td>\n",
              "      <td>74</td>\n",
              "      <td>5425000.0</td>\n",
              "      <td>2014</td>\n",
              "      <td>2014_2</td>\n",
              "    </tr>\n",
              "    <tr>\n",
              "      <th>...</th>\n",
              "      <td>...</td>\n",
              "      <td>...</td>\n",
              "      <td>...</td>\n",
              "      <td>...</td>\n",
              "      <td>...</td>\n",
              "      <td>...</td>\n",
              "      <td>...</td>\n",
              "      <td>...</td>\n",
              "      <td>...</td>\n",
              "      <td>...</td>\n",
              "      <td>...</td>\n",
              "      <td>...</td>\n",
              "      <td>...</td>\n",
              "      <td>...</td>\n",
              "      <td>...</td>\n",
              "    </tr>\n",
              "    <tr>\n",
              "      <th>28995</th>\n",
              "      <td>85589</td>\n",
              "      <td>2013-05-08</td>\n",
              "      <td>58</td>\n",
              "      <td>NaN</td>\n",
              "      <td>2.0</td>\n",
              "      <td>NaN</td>\n",
              "      <td>NaN</td>\n",
              "      <td>NaN</td>\n",
              "      <td>NaN</td>\n",
              "      <td>NaN</td>\n",
              "      <td>NaN</td>\n",
              "      <td>101</td>\n",
              "      <td>4330300.0</td>\n",
              "      <td>2013</td>\n",
              "      <td>2013_5</td>\n",
              "    </tr>\n",
              "    <tr>\n",
              "      <th>28996</th>\n",
              "      <td>11345</td>\n",
              "      <td>2014-04-12</td>\n",
              "      <td>38</td>\n",
              "      <td>NaN</td>\n",
              "      <td>9.0</td>\n",
              "      <td>17.0</td>\n",
              "      <td>1.0</td>\n",
              "      <td>NaN</td>\n",
              "      <td>1.0</td>\n",
              "      <td>1.0</td>\n",
              "      <td>NaN</td>\n",
              "      <td>134</td>\n",
              "      <td>4779900.0</td>\n",
              "      <td>2014</td>\n",
              "      <td>2014_4</td>\n",
              "    </tr>\n",
              "    <tr>\n",
              "      <th>28997</th>\n",
              "      <td>55519</td>\n",
              "      <td>2013-09-23</td>\n",
              "      <td>55</td>\n",
              "      <td>30.0</td>\n",
              "      <td>9.0</td>\n",
              "      <td>16.0</td>\n",
              "      <td>1.0</td>\n",
              "      <td>2002.0</td>\n",
              "      <td>2.0</td>\n",
              "      <td>8.0</td>\n",
              "      <td>3.0</td>\n",
              "      <td>38</td>\n",
              "      <td>7260000.0</td>\n",
              "      <td>2013</td>\n",
              "      <td>2013_9</td>\n",
              "    </tr>\n",
              "    <tr>\n",
              "      <th>28998</th>\n",
              "      <td>17196</td>\n",
              "      <td>2013-11-19</td>\n",
              "      <td>37</td>\n",
              "      <td>19.0</td>\n",
              "      <td>3.0</td>\n",
              "      <td>16.0</td>\n",
              "      <td>5.0</td>\n",
              "      <td>1979.0</td>\n",
              "      <td>1.0</td>\n",
              "      <td>9.0</td>\n",
              "      <td>3.0</td>\n",
              "      <td>43</td>\n",
              "      <td>6018000.0</td>\n",
              "      <td>2013</td>\n",
              "      <td>2013_11</td>\n",
              "    </tr>\n",
              "    <tr>\n",
              "      <th>28999</th>\n",
              "      <td>97330</td>\n",
              "      <td>2014-05-03</td>\n",
              "      <td>45</td>\n",
              "      <td>20.0</td>\n",
              "      <td>12.0</td>\n",
              "      <td>17.0</td>\n",
              "      <td>6.0</td>\n",
              "      <td>2011.0</td>\n",
              "      <td>1.0</td>\n",
              "      <td>10.0</td>\n",
              "      <td>1.0</td>\n",
              "      <td>101</td>\n",
              "      <td>2389000.0</td>\n",
              "      <td>2014</td>\n",
              "      <td>2014_5</td>\n",
              "    </tr>\n",
              "  </tbody>\n",
              "</table>\n",
              "<p>29000 rows × 15 columns</p>\n",
              "</div>\n",
              "      <button class=\"colab-df-convert\" onclick=\"convertToInteractive('df-1c5a5d6a-9ca3-483b-b7dc-0cd3a38082a0')\"\n",
              "              title=\"Convert this dataframe to an interactive table.\"\n",
              "              style=\"display:none;\">\n",
              "        \n",
              "  <svg xmlns=\"http://www.w3.org/2000/svg\" height=\"24px\"viewBox=\"0 0 24 24\"\n",
              "       width=\"24px\">\n",
              "    <path d=\"M0 0h24v24H0V0z\" fill=\"none\"/>\n",
              "    <path d=\"M18.56 5.44l.94 2.06.94-2.06 2.06-.94-2.06-.94-.94-2.06-.94 2.06-2.06.94zm-11 1L8.5 8.5l.94-2.06 2.06-.94-2.06-.94L8.5 2.5l-.94 2.06-2.06.94zm10 10l.94 2.06.94-2.06 2.06-.94-2.06-.94-.94-2.06-.94 2.06-2.06.94z\"/><path d=\"M17.41 7.96l-1.37-1.37c-.4-.4-.92-.59-1.43-.59-.52 0-1.04.2-1.43.59L10.3 9.45l-7.72 7.72c-.78.78-.78 2.05 0 2.83L4 21.41c.39.39.9.59 1.41.59.51 0 1.02-.2 1.41-.59l7.78-7.78 2.81-2.81c.8-.78.8-2.07 0-2.86zM5.41 20L4 18.59l7.72-7.72 1.47 1.35L5.41 20z\"/>\n",
              "  </svg>\n",
              "      </button>\n",
              "      \n",
              "  <style>\n",
              "    .colab-df-container {\n",
              "      display:flex;\n",
              "      flex-wrap:wrap;\n",
              "      gap: 12px;\n",
              "    }\n",
              "\n",
              "    .colab-df-convert {\n",
              "      background-color: #E8F0FE;\n",
              "      border: none;\n",
              "      border-radius: 50%;\n",
              "      cursor: pointer;\n",
              "      display: none;\n",
              "      fill: #1967D2;\n",
              "      height: 32px;\n",
              "      padding: 0 0 0 0;\n",
              "      width: 32px;\n",
              "    }\n",
              "\n",
              "    .colab-df-convert:hover {\n",
              "      background-color: #E2EBFA;\n",
              "      box-shadow: 0px 1px 2px rgba(60, 64, 67, 0.3), 0px 1px 3px 1px rgba(60, 64, 67, 0.15);\n",
              "      fill: #174EA6;\n",
              "    }\n",
              "\n",
              "    [theme=dark] .colab-df-convert {\n",
              "      background-color: #3B4455;\n",
              "      fill: #D2E3FC;\n",
              "    }\n",
              "\n",
              "    [theme=dark] .colab-df-convert:hover {\n",
              "      background-color: #434B5C;\n",
              "      box-shadow: 0px 1px 3px 1px rgba(0, 0, 0, 0.15);\n",
              "      filter: drop-shadow(0px 1px 2px rgba(0, 0, 0, 0.3));\n",
              "      fill: #FFFFFF;\n",
              "    }\n",
              "  </style>\n",
              "\n",
              "      <script>\n",
              "        const buttonEl =\n",
              "          document.querySelector('#df-1c5a5d6a-9ca3-483b-b7dc-0cd3a38082a0 button.colab-df-convert');\n",
              "        buttonEl.style.display =\n",
              "          google.colab.kernel.accessAllowed ? 'block' : 'none';\n",
              "\n",
              "        async function convertToInteractive(key) {\n",
              "          const element = document.querySelector('#df-1c5a5d6a-9ca3-483b-b7dc-0cd3a38082a0');\n",
              "          const dataTable =\n",
              "            await google.colab.kernel.invokeFunction('convertToInteractive',\n",
              "                                                     [key], {});\n",
              "          if (!dataTable) return;\n",
              "\n",
              "          const docLinkHtml = 'Like what you see? Visit the ' +\n",
              "            '<a target=\"_blank\" href=https://colab.research.google.com/notebooks/data_table.ipynb>data table notebook</a>'\n",
              "            + ' to learn more about interactive tables.';\n",
              "          element.innerHTML = '';\n",
              "          dataTable['output_type'] = 'display_data';\n",
              "          await google.colab.output.renderOutput(dataTable, element);\n",
              "          const docLink = document.createElement('div');\n",
              "          docLink.innerHTML = docLinkHtml;\n",
              "          element.appendChild(docLink);\n",
              "        }\n",
              "      </script>\n",
              "    </div>\n",
              "  </div>\n",
              "  "
            ]
          },
          "metadata": {},
          "execution_count": 336
        }
      ]
    },
    {
      "cell_type": "code",
      "source": [
        "ex_2 = df_train.groupby(by = [\"year_month\"]).agg(\n",
        "    {\"price\":\"mean\"}\n",
        ").reset_index()"
      ],
      "metadata": {
        "id": "N3A43rsg-EKF"
      },
      "execution_count": null,
      "outputs": []
    },
    {
      "cell_type": "code",
      "source": [
        "ex_2"
      ],
      "metadata": {
        "colab": {
          "base_uri": "https://localhost:8080/",
          "height": 1000
        },
        "id": "ZYZy0YlY_KNZ",
        "outputId": "7659c02d-3239-43cd-c6d2-7acc27fb0902"
      },
      "execution_count": null,
      "outputs": [
        {
          "output_type": "execute_result",
          "data": {
            "text/plain": [
              "   year_month         price\n",
              "0     2011_10  5.942623e+06\n",
              "1     2011_11  6.044407e+06\n",
              "2     2011_12  6.459589e+06\n",
              "3      2011_9  7.001000e+06\n",
              "4      2012_1  6.396341e+06\n",
              "5     2012_10  6.318532e+06\n",
              "6     2012_11  6.109134e+06\n",
              "7     2012_12  5.988347e+06\n",
              "8      2012_2  7.216774e+06\n",
              "9      2012_3  6.997146e+06\n",
              "10     2012_4  7.259993e+06\n",
              "11     2012_5  7.444116e+06\n",
              "12     2012_6  7.591972e+06\n",
              "13     2012_7  7.024208e+06\n",
              "14     2012_8  6.700855e+06\n",
              "15     2012_9  6.571287e+06\n",
              "16     2013_1  5.937666e+06\n",
              "17    2013_10  7.052091e+06\n",
              "18    2013_11  7.307678e+06\n",
              "19    2013_12  7.295497e+06\n",
              "20     2013_2  6.688260e+06\n",
              "21     2013_3  6.824556e+06\n",
              "22     2013_4  6.845970e+06\n",
              "23     2013_5  6.796347e+06\n",
              "24     2013_6  6.630904e+06\n",
              "25     2013_7  7.065540e+06\n",
              "26     2013_8  7.130836e+06\n",
              "27     2013_9  7.135664e+06\n",
              "28     2014_1  7.437757e+06\n",
              "29    2014_10  7.765596e+06\n",
              "30    2014_11  7.848261e+06\n",
              "31    2014_12  7.892651e+06\n",
              "32     2014_2  7.499220e+06\n",
              "33     2014_3  7.484299e+06\n",
              "34     2014_4  7.784501e+06\n",
              "35     2014_5  7.962918e+06\n",
              "36     2014_6  7.926413e+06\n",
              "37     2014_7  7.441460e+06\n",
              "38     2014_8  7.750988e+06\n",
              "39     2014_9  8.454782e+06\n",
              "40     2015_1  8.112619e+06\n",
              "41     2015_2  8.868470e+06\n",
              "42     2015_3  8.775040e+06\n",
              "43     2015_4  8.480591e+06\n",
              "44     2015_5  8.512311e+06\n",
              "45     2015_6  8.655266e+06\n",
              "46     2015_7  8.359468e+06"
            ],
            "text/html": [
              "\n",
              "  <div id=\"df-c28a1f3d-b4b3-45ea-a625-86e55e0544de\">\n",
              "    <div class=\"colab-df-container\">\n",
              "      <div>\n",
              "<style scoped>\n",
              "    .dataframe tbody tr th:only-of-type {\n",
              "        vertical-align: middle;\n",
              "    }\n",
              "\n",
              "    .dataframe tbody tr th {\n",
              "        vertical-align: top;\n",
              "    }\n",
              "\n",
              "    .dataframe thead th {\n",
              "        text-align: right;\n",
              "    }\n",
              "</style>\n",
              "<table border=\"1\" class=\"dataframe\">\n",
              "  <thead>\n",
              "    <tr style=\"text-align: right;\">\n",
              "      <th></th>\n",
              "      <th>year_month</th>\n",
              "      <th>price</th>\n",
              "    </tr>\n",
              "  </thead>\n",
              "  <tbody>\n",
              "    <tr>\n",
              "      <th>0</th>\n",
              "      <td>2011_10</td>\n",
              "      <td>5.942623e+06</td>\n",
              "    </tr>\n",
              "    <tr>\n",
              "      <th>1</th>\n",
              "      <td>2011_11</td>\n",
              "      <td>6.044407e+06</td>\n",
              "    </tr>\n",
              "    <tr>\n",
              "      <th>2</th>\n",
              "      <td>2011_12</td>\n",
              "      <td>6.459589e+06</td>\n",
              "    </tr>\n",
              "    <tr>\n",
              "      <th>3</th>\n",
              "      <td>2011_9</td>\n",
              "      <td>7.001000e+06</td>\n",
              "    </tr>\n",
              "    <tr>\n",
              "      <th>4</th>\n",
              "      <td>2012_1</td>\n",
              "      <td>6.396341e+06</td>\n",
              "    </tr>\n",
              "    <tr>\n",
              "      <th>5</th>\n",
              "      <td>2012_10</td>\n",
              "      <td>6.318532e+06</td>\n",
              "    </tr>\n",
              "    <tr>\n",
              "      <th>6</th>\n",
              "      <td>2012_11</td>\n",
              "      <td>6.109134e+06</td>\n",
              "    </tr>\n",
              "    <tr>\n",
              "      <th>7</th>\n",
              "      <td>2012_12</td>\n",
              "      <td>5.988347e+06</td>\n",
              "    </tr>\n",
              "    <tr>\n",
              "      <th>8</th>\n",
              "      <td>2012_2</td>\n",
              "      <td>7.216774e+06</td>\n",
              "    </tr>\n",
              "    <tr>\n",
              "      <th>9</th>\n",
              "      <td>2012_3</td>\n",
              "      <td>6.997146e+06</td>\n",
              "    </tr>\n",
              "    <tr>\n",
              "      <th>10</th>\n",
              "      <td>2012_4</td>\n",
              "      <td>7.259993e+06</td>\n",
              "    </tr>\n",
              "    <tr>\n",
              "      <th>11</th>\n",
              "      <td>2012_5</td>\n",
              "      <td>7.444116e+06</td>\n",
              "    </tr>\n",
              "    <tr>\n",
              "      <th>12</th>\n",
              "      <td>2012_6</td>\n",
              "      <td>7.591972e+06</td>\n",
              "    </tr>\n",
              "    <tr>\n",
              "      <th>13</th>\n",
              "      <td>2012_7</td>\n",
              "      <td>7.024208e+06</td>\n",
              "    </tr>\n",
              "    <tr>\n",
              "      <th>14</th>\n",
              "      <td>2012_8</td>\n",
              "      <td>6.700855e+06</td>\n",
              "    </tr>\n",
              "    <tr>\n",
              "      <th>15</th>\n",
              "      <td>2012_9</td>\n",
              "      <td>6.571287e+06</td>\n",
              "    </tr>\n",
              "    <tr>\n",
              "      <th>16</th>\n",
              "      <td>2013_1</td>\n",
              "      <td>5.937666e+06</td>\n",
              "    </tr>\n",
              "    <tr>\n",
              "      <th>17</th>\n",
              "      <td>2013_10</td>\n",
              "      <td>7.052091e+06</td>\n",
              "    </tr>\n",
              "    <tr>\n",
              "      <th>18</th>\n",
              "      <td>2013_11</td>\n",
              "      <td>7.307678e+06</td>\n",
              "    </tr>\n",
              "    <tr>\n",
              "      <th>19</th>\n",
              "      <td>2013_12</td>\n",
              "      <td>7.295497e+06</td>\n",
              "    </tr>\n",
              "    <tr>\n",
              "      <th>20</th>\n",
              "      <td>2013_2</td>\n",
              "      <td>6.688260e+06</td>\n",
              "    </tr>\n",
              "    <tr>\n",
              "      <th>21</th>\n",
              "      <td>2013_3</td>\n",
              "      <td>6.824556e+06</td>\n",
              "    </tr>\n",
              "    <tr>\n",
              "      <th>22</th>\n",
              "      <td>2013_4</td>\n",
              "      <td>6.845970e+06</td>\n",
              "    </tr>\n",
              "    <tr>\n",
              "      <th>23</th>\n",
              "      <td>2013_5</td>\n",
              "      <td>6.796347e+06</td>\n",
              "    </tr>\n",
              "    <tr>\n",
              "      <th>24</th>\n",
              "      <td>2013_6</td>\n",
              "      <td>6.630904e+06</td>\n",
              "    </tr>\n",
              "    <tr>\n",
              "      <th>25</th>\n",
              "      <td>2013_7</td>\n",
              "      <td>7.065540e+06</td>\n",
              "    </tr>\n",
              "    <tr>\n",
              "      <th>26</th>\n",
              "      <td>2013_8</td>\n",
              "      <td>7.130836e+06</td>\n",
              "    </tr>\n",
              "    <tr>\n",
              "      <th>27</th>\n",
              "      <td>2013_9</td>\n",
              "      <td>7.135664e+06</td>\n",
              "    </tr>\n",
              "    <tr>\n",
              "      <th>28</th>\n",
              "      <td>2014_1</td>\n",
              "      <td>7.437757e+06</td>\n",
              "    </tr>\n",
              "    <tr>\n",
              "      <th>29</th>\n",
              "      <td>2014_10</td>\n",
              "      <td>7.765596e+06</td>\n",
              "    </tr>\n",
              "    <tr>\n",
              "      <th>30</th>\n",
              "      <td>2014_11</td>\n",
              "      <td>7.848261e+06</td>\n",
              "    </tr>\n",
              "    <tr>\n",
              "      <th>31</th>\n",
              "      <td>2014_12</td>\n",
              "      <td>7.892651e+06</td>\n",
              "    </tr>\n",
              "    <tr>\n",
              "      <th>32</th>\n",
              "      <td>2014_2</td>\n",
              "      <td>7.499220e+06</td>\n",
              "    </tr>\n",
              "    <tr>\n",
              "      <th>33</th>\n",
              "      <td>2014_3</td>\n",
              "      <td>7.484299e+06</td>\n",
              "    </tr>\n",
              "    <tr>\n",
              "      <th>34</th>\n",
              "      <td>2014_4</td>\n",
              "      <td>7.784501e+06</td>\n",
              "    </tr>\n",
              "    <tr>\n",
              "      <th>35</th>\n",
              "      <td>2014_5</td>\n",
              "      <td>7.962918e+06</td>\n",
              "    </tr>\n",
              "    <tr>\n",
              "      <th>36</th>\n",
              "      <td>2014_6</td>\n",
              "      <td>7.926413e+06</td>\n",
              "    </tr>\n",
              "    <tr>\n",
              "      <th>37</th>\n",
              "      <td>2014_7</td>\n",
              "      <td>7.441460e+06</td>\n",
              "    </tr>\n",
              "    <tr>\n",
              "      <th>38</th>\n",
              "      <td>2014_8</td>\n",
              "      <td>7.750988e+06</td>\n",
              "    </tr>\n",
              "    <tr>\n",
              "      <th>39</th>\n",
              "      <td>2014_9</td>\n",
              "      <td>8.454782e+06</td>\n",
              "    </tr>\n",
              "    <tr>\n",
              "      <th>40</th>\n",
              "      <td>2015_1</td>\n",
              "      <td>8.112619e+06</td>\n",
              "    </tr>\n",
              "    <tr>\n",
              "      <th>41</th>\n",
              "      <td>2015_2</td>\n",
              "      <td>8.868470e+06</td>\n",
              "    </tr>\n",
              "    <tr>\n",
              "      <th>42</th>\n",
              "      <td>2015_3</td>\n",
              "      <td>8.775040e+06</td>\n",
              "    </tr>\n",
              "    <tr>\n",
              "      <th>43</th>\n",
              "      <td>2015_4</td>\n",
              "      <td>8.480591e+06</td>\n",
              "    </tr>\n",
              "    <tr>\n",
              "      <th>44</th>\n",
              "      <td>2015_5</td>\n",
              "      <td>8.512311e+06</td>\n",
              "    </tr>\n",
              "    <tr>\n",
              "      <th>45</th>\n",
              "      <td>2015_6</td>\n",
              "      <td>8.655266e+06</td>\n",
              "    </tr>\n",
              "    <tr>\n",
              "      <th>46</th>\n",
              "      <td>2015_7</td>\n",
              "      <td>8.359468e+06</td>\n",
              "    </tr>\n",
              "  </tbody>\n",
              "</table>\n",
              "</div>\n",
              "      <button class=\"colab-df-convert\" onclick=\"convertToInteractive('df-c28a1f3d-b4b3-45ea-a625-86e55e0544de')\"\n",
              "              title=\"Convert this dataframe to an interactive table.\"\n",
              "              style=\"display:none;\">\n",
              "        \n",
              "  <svg xmlns=\"http://www.w3.org/2000/svg\" height=\"24px\"viewBox=\"0 0 24 24\"\n",
              "       width=\"24px\">\n",
              "    <path d=\"M0 0h24v24H0V0z\" fill=\"none\"/>\n",
              "    <path d=\"M18.56 5.44l.94 2.06.94-2.06 2.06-.94-2.06-.94-.94-2.06-.94 2.06-2.06.94zm-11 1L8.5 8.5l.94-2.06 2.06-.94-2.06-.94L8.5 2.5l-.94 2.06-2.06.94zm10 10l.94 2.06.94-2.06 2.06-.94-2.06-.94-.94-2.06-.94 2.06-2.06.94z\"/><path d=\"M17.41 7.96l-1.37-1.37c-.4-.4-.92-.59-1.43-.59-.52 0-1.04.2-1.43.59L10.3 9.45l-7.72 7.72c-.78.78-.78 2.05 0 2.83L4 21.41c.39.39.9.59 1.41.59.51 0 1.02-.2 1.41-.59l7.78-7.78 2.81-2.81c.8-.78.8-2.07 0-2.86zM5.41 20L4 18.59l7.72-7.72 1.47 1.35L5.41 20z\"/>\n",
              "  </svg>\n",
              "      </button>\n",
              "      \n",
              "  <style>\n",
              "    .colab-df-container {\n",
              "      display:flex;\n",
              "      flex-wrap:wrap;\n",
              "      gap: 12px;\n",
              "    }\n",
              "\n",
              "    .colab-df-convert {\n",
              "      background-color: #E8F0FE;\n",
              "      border: none;\n",
              "      border-radius: 50%;\n",
              "      cursor: pointer;\n",
              "      display: none;\n",
              "      fill: #1967D2;\n",
              "      height: 32px;\n",
              "      padding: 0 0 0 0;\n",
              "      width: 32px;\n",
              "    }\n",
              "\n",
              "    .colab-df-convert:hover {\n",
              "      background-color: #E2EBFA;\n",
              "      box-shadow: 0px 1px 2px rgba(60, 64, 67, 0.3), 0px 1px 3px 1px rgba(60, 64, 67, 0.15);\n",
              "      fill: #174EA6;\n",
              "    }\n",
              "\n",
              "    [theme=dark] .colab-df-convert {\n",
              "      background-color: #3B4455;\n",
              "      fill: #D2E3FC;\n",
              "    }\n",
              "\n",
              "    [theme=dark] .colab-df-convert:hover {\n",
              "      background-color: #434B5C;\n",
              "      box-shadow: 0px 1px 3px 1px rgba(0, 0, 0, 0.15);\n",
              "      filter: drop-shadow(0px 1px 2px rgba(0, 0, 0, 0.3));\n",
              "      fill: #FFFFFF;\n",
              "    }\n",
              "  </style>\n",
              "\n",
              "      <script>\n",
              "        const buttonEl =\n",
              "          document.querySelector('#df-c28a1f3d-b4b3-45ea-a625-86e55e0544de button.colab-df-convert');\n",
              "        buttonEl.style.display =\n",
              "          google.colab.kernel.accessAllowed ? 'block' : 'none';\n",
              "\n",
              "        async function convertToInteractive(key) {\n",
              "          const element = document.querySelector('#df-c28a1f3d-b4b3-45ea-a625-86e55e0544de');\n",
              "          const dataTable =\n",
              "            await google.colab.kernel.invokeFunction('convertToInteractive',\n",
              "                                                     [key], {});\n",
              "          if (!dataTable) return;\n",
              "\n",
              "          const docLinkHtml = 'Like what you see? Visit the ' +\n",
              "            '<a target=\"_blank\" href=https://colab.research.google.com/notebooks/data_table.ipynb>data table notebook</a>'\n",
              "            + ' to learn more about interactive tables.';\n",
              "          element.innerHTML = '';\n",
              "          dataTable['output_type'] = 'display_data';\n",
              "          await google.colab.output.renderOutput(dataTable, element);\n",
              "          const docLink = document.createElement('div');\n",
              "          docLink.innerHTML = docLinkHtml;\n",
              "          element.appendChild(docLink);\n",
              "        }\n",
              "      </script>\n",
              "    </div>\n",
              "  </div>\n",
              "  "
            ]
          },
          "metadata": {},
          "execution_count": 338
        }
      ]
    },
    {
      "cell_type": "code",
      "source": [
        "plt.figure(figsize = (24,12))\n",
        "plt.scatter(ex_2.year_month,ex_2.price)\n",
        "plt.xlabel(\"year_month\")\n",
        "plt.ylabel(\"price\")"
      ],
      "metadata": {
        "colab": {
          "base_uri": "https://localhost:8080/",
          "height": 139
        },
        "id": "UDJt5UHY-aGW",
        "outputId": "9d2f6a9e-5b8c-47d8-da25-0abdb7e4524f"
      },
      "execution_count": null,
      "outputs": [
        {
          "output_type": "execute_result",
          "data": {
            "text/plain": [
              "Text(0, 0.5, 'price')"
            ]
          },
          "metadata": {},
          "execution_count": 339
        },
        {
          "output_type": "display_data",
          "data": {
            "text/plain": [
              "<Figure size 1728x864 with 1 Axes>"
            ],
            "image/png": "[encoded data removed]"
          },
          "metadata": {
            "needs_background": "light"
          }
        }
      ]
    },
    {
      "cell_type": "code",
      "source": [
        "#Задание 3\n",
        "a = df_train.groupby(by = [\"year_month\"]).agg(\n",
        "    {\"price\":\"max\"}\n",
        ").price.tolist()"
      ],
      "metadata": {
        "id": "PRvABBR8_YMS"
      },
      "execution_count": null,
      "outputs": []
    },
    {
      "cell_type": "code",
      "source": [
        "b = df_train[\n",
        "    df_train.price.isin(a)\n",
        "].index.tolist()\n"
      ],
      "metadata": {
        "id": "A86bB4Jp_4x5"
      },
      "execution_count": null,
      "outputs": []
    },
    {
      "cell_type": "code",
      "source": [
        "b"
      ],
      "metadata": {
        "colab": {
          "base_uri": "https://localhost:8080/"
        },
        "id": "thRF-zv8DpCf",
        "outputId": "4209f6e3-a683-4bbc-a663-8a12d7315de8"
      },
      "execution_count": null,
      "outputs": [
        {
          "output_type": "execute_result",
          "data": {
            "text/plain": [
              "[1740,\n",
              " 2014,\n",
              " 2526,\n",
              " 3163,\n",
              " 3767,\n",
              " 5582,\n",
              " 5829,\n",
              " 5942,\n",
              " 6705,\n",
              " 6981,\n",
              " 7055,\n",
              " 7537,\n",
              " 7755,\n",
              " 8417,\n",
              " 8788,\n",
              " 9030,\n",
              " 9340,\n",
              " 10035,\n",
              " 10213,\n",
              " 12483,\n",
              " 12729,\n",
              " 13329,\n",
              " 14321,\n",
              " 14807,\n",
              " 15217,\n",
              " 15912,\n",
              " 16898,\n",
              " 18117,\n",
              " 18599,\n",
              " 20082,\n",
              " 20316,\n",
              " 20649,\n",
              " 20799,\n",
              " 22408,\n",
              " 24097,\n",
              " 24188,\n",
              " 25278,\n",
              " 26225,\n",
              " 26274,\n",
              " 26321,\n",
              " 26644,\n",
              " 27095,\n",
              " 27279,\n",
              " 27461,\n",
              " 28566,\n",
              " 28806,\n",
              " 28868]"
            ]
          },
          "metadata": {},
          "execution_count": 342
        }
      ]
    },
    {
      "cell_type": "code",
      "source": [
        "#Задание 4\n",
        "plt.figure(figsize = (12,6))\n",
        "sns.boxplot(x = \"year_month\",y = \"price\", data = df_train)"
      ],
      "metadata": {
        "colab": {
          "base_uri": "https://localhost:8080/",
          "height": 139
        },
        "id": "2OdpTh5CAOaQ",
        "outputId": "5859bbe3-b6ae-4fd3-882e-8b07029d7d57"
      },
      "execution_count": null,
      "outputs": [
        {
          "output_type": "execute_result",
          "data": {
            "text/plain": [
              "<matplotlib.axes._subplots.AxesSubplot at 0x7f4cadd00150>"
            ]
          },
          "metadata": {},
          "execution_count": 343
        },
        {
          "output_type": "display_data",
          "data": {
            "text/plain": [
              "<Figure size 864x432 with 1 Axes>"
            ],
            "image/png": "[encoded data removed]"
          },
          "metadata": {
            "needs_background": "light"
          }
        }
      ]
    },
    {
      "cell_type": "code",
      "source": [
        "df_train.columns"
      ],
      "metadata": {
        "colab": {
          "base_uri": "https://localhost:8080/"
        },
        "id": "y5-Aee25BcNt",
        "outputId": "94655b1f-7bd6-48dd-fd06-ae657a541694"
      },
      "execution_count": null,
      "outputs": [
        {
          "output_type": "execute_result",
          "data": {
            "text/plain": [
              "Index(['id', 'timestamp', 'full_sq', 'life_sq', 'floor', 'max_floor',\n",
              "       'material', 'build_year', 'num_room', 'kitch_sq', 'apartment condition',\n",
              "       'sub_area', 'price', 'year', 'year_month'],\n",
              "      dtype='object')"
            ]
          },
          "metadata": {},
          "execution_count": 344
        }
      ]
    },
    {
      "cell_type": "code",
      "source": [
        "df_train.sort_values(by = [\"full_sq\"],ascending= False).head(5).id.tolist()"
      ],
      "metadata": {
        "colab": {
          "base_uri": "https://localhost:8080/"
        },
        "id": "RCJd3GZ6BQjZ",
        "outputId": "5674250c-f98e-45a3-f86f-945c94d41fb8"
      },
      "execution_count": null,
      "outputs": [
        {
          "output_type": "execute_result",
          "data": {
            "text/plain": [
              "[95156, 95936, 32115, 49518, 41202]"
            ]
          },
          "metadata": {},
          "execution_count": 345
        }
      ]
    },
    {
      "cell_type": "code",
      "source": [
        "df_train[df_train.life_sq.isna()].shape[0]"
      ],
      "metadata": {
        "colab": {
          "base_uri": "https://localhost:8080/"
        },
        "id": "Gk1Fhw4UBpEq",
        "outputId": "99412aad-a274-430f-e242-71e7fc45f4fe"
      },
      "execution_count": null,
      "outputs": [
        {
          "output_type": "execute_result",
          "data": {
            "text/plain": [
              "6065"
            ]
          },
          "metadata": {},
          "execution_count": 346
        }
      ]
    },
    {
      "cell_type": "code",
      "source": [
        "df_train.life_sq.isna().sum()"
      ],
      "metadata": {
        "colab": {
          "base_uri": "https://localhost:8080/"
        },
        "id": "ay23vu9PCBTK",
        "outputId": "66a164bc-3af7-477b-a3be-8ba66d92537a"
      },
      "execution_count": null,
      "outputs": [
        {
          "output_type": "execute_result",
          "data": {
            "text/plain": [
              "6065"
            ]
          },
          "metadata": {},
          "execution_count": 347
        }
      ]
    },
    {
      "cell_type": "code",
      "source": [
        "df_train.life_sq.fillna(df_train.life_sq.mean()).isna().sum()"
      ],
      "metadata": {
        "colab": {
          "base_uri": "https://localhost:8080/"
        },
        "id": "lXNm_D7hCN5q",
        "outputId": "ec398c37-907e-4159-f230-02b19de4c692"
      },
      "execution_count": null,
      "outputs": [
        {
          "output_type": "execute_result",
          "data": {
            "text/plain": [
              "0"
            ]
          },
          "metadata": {},
          "execution_count": 348
        }
      ]
    },
    {
      "cell_type": "code",
      "source": [
        "print(df_train.corr()[\"price\"][\"full_sq\"])\n",
        "print(df_train.corr()[\"price\"][\"life_sq\"])"
      ],
      "metadata": {
        "colab": {
          "base_uri": "https://localhost:8080/"
        },
        "id": "Mj3sTgtlCeKb",
        "outputId": "bd5537b8-94e4-41e7-c2fb-2d5415f9e295"
      },
      "execution_count": null,
      "outputs": [
        {
          "output_type": "stream",
          "name": "stdout",
          "text": [
            "0.3371130874205802\n",
            "0.4152906993761476\n"
          ]
        }
      ]
    },
    {
      "cell_type": "code",
      "source": [
        "df_train"
      ],
      "metadata": {
        "colab": {
          "base_uri": "https://localhost:8080/",
          "height": 419
        },
        "id": "YUDEXMj1Ft8s",
        "outputId": "a0ec3d88-df4c-4eb8-f81c-722902856392"
      },
      "execution_count": null,
      "outputs": [
        {
          "output_type": "execute_result",
          "data": {
            "text/plain": [
              "          id  timestamp  full_sq  life_sq  floor  max_floor  material  \\\n",
              "0      30392 2014-12-30       60     36.0    6.0        9.0       1.0   \n",
              "1      36540 2013-06-28       44     29.0    9.0        NaN       NaN   \n",
              "2      94669 2013-09-15       62     60.0    4.0        NaN       NaN   \n",
              "3      17531 2013-12-13       33     18.0    4.0        9.0       1.0   \n",
              "4      32159 2014-02-13       37     14.0    1.0       17.0       1.0   \n",
              "...      ...        ...      ...      ...    ...        ...       ...   \n",
              "28995  85589 2013-05-08       58      NaN    2.0        NaN       NaN   \n",
              "28996  11345 2014-04-12       38      NaN    9.0       17.0       1.0   \n",
              "28997  55519 2013-09-23       55     30.0    9.0       16.0       1.0   \n",
              "28998  17196 2013-11-19       37     19.0    3.0       16.0       5.0   \n",
              "28999  97330 2014-05-03       45     20.0   12.0       17.0       6.0   \n",
              "\n",
              "       build_year  num_room  kitch_sq  apartment condition  sub_area  \\\n",
              "0          1974.0       3.0       5.0                  3.0         9   \n",
              "1             NaN       NaN       NaN                  NaN        19   \n",
              "2             NaN       NaN       NaN                  NaN        80   \n",
              "3          1970.0       1.0       6.0                  2.0        15   \n",
              "4          1991.0       1.0       1.0                  2.0        74   \n",
              "...           ...       ...       ...                  ...       ...   \n",
              "28995         NaN       NaN       NaN                  NaN       101   \n",
              "28996         NaN       1.0       1.0                  NaN       134   \n",
              "28997      2002.0       2.0       8.0                  3.0        38   \n",
              "28998      1979.0       1.0       9.0                  3.0        43   \n",
              "28999      2011.0       1.0      10.0                  1.0       101   \n",
              "\n",
              "           price  year year_month  \n",
              "0      9711800.0  2014    2014_12  \n",
              "1      6643200.0  2013     2013_6  \n",
              "2      5698300.0  2013     2013_9  \n",
              "3      5055000.0  2013    2013_12  \n",
              "4      5425000.0  2014     2014_2  \n",
              "...          ...   ...        ...  \n",
              "28995  4330300.0  2013     2013_5  \n",
              "28996  4779900.0  2014     2014_4  \n",
              "28997  7260000.0  2013     2013_9  \n",
              "28998  6018000.0  2013    2013_11  \n",
              "28999  2389000.0  2014     2014_5  \n",
              "\n",
              "[29000 rows x 15 columns]"
            ],
            "text/html": [
              "\n",
              "  <div id=\"df-b7feba7a-03dd-4615-9c12-550f6041c1e5\">\n",
              "    <div class=\"colab-df-container\">\n",
              "      <div>\n",
              "<style scoped>\n",
              "    .dataframe tbody tr th:only-of-type {\n",
              "        vertical-align: middle;\n",
              "    }\n",
              "\n",
              "    .dataframe tbody tr th {\n",
              "        vertical-align: top;\n",
              "    }\n",
              "\n",
              "    .dataframe thead th {\n",
              "        text-align: right;\n",
              "    }\n",
              "</style>\n",
              "<table border=\"1\" class=\"dataframe\">\n",
              "  <thead>\n",
              "    <tr style=\"text-align: right;\">\n",
              "      <th></th>\n",
              "      <th>id</th>\n",
              "      <th>timestamp</th>\n",
              "      <th>full_sq</th>\n",
              "      <th>life_sq</th>\n",
              "      <th>floor</th>\n",
              "      <th>max_floor</th>\n",
              "      <th>material</th>\n",
              "      <th>build_year</th>\n",
              "      <th>num_room</th>\n",
              "      <th>kitch_sq</th>\n",
              "      <th>apartment condition</th>\n",
              "      <th>sub_area</th>\n",
              "      <th>price</th>\n",
              "      <th>year</th>\n",
              "      <th>year_month</th>\n",
              "    </tr>\n",
              "  </thead>\n",
              "  <tbody>\n",
              "    <tr>\n",
              "      <th>0</th>\n",
              "      <td>30392</td>\n",
              "      <td>2014-12-30</td>\n",
              "      <td>60</td>\n",
              "      <td>36.0</td>\n",
              "      <td>6.0</td>\n",
              "      <td>9.0</td>\n",
              "      <td>1.0</td>\n",
              "      <td>1974.0</td>\n",
              "      <td>3.0</td>\n",
              "      <td>5.0</td>\n",
              "      <td>3.0</td>\n",
              "      <td>9</td>\n",
              "      <td>9711800.0</td>\n",
              "      <td>2014</td>\n",
              "      <td>2014_12</td>\n",
              "    </tr>\n",
              "    <tr>\n",
              "      <th>1</th>\n",
              "      <td>36540</td>\n",
              "      <td>2013-06-28</td>\n",
              "      <td>44</td>\n",
              "      <td>29.0</td>\n",
              "      <td>9.0</td>\n",
              "      <td>NaN</td>\n",
              "      <td>NaN</td>\n",
              "      <td>NaN</td>\n",
              "      <td>NaN</td>\n",
              "      <td>NaN</td>\n",
              "      <td>NaN</td>\n",
              "      <td>19</td>\n",
              "      <td>6643200.0</td>\n",
              "      <td>2013</td>\n",
              "      <td>2013_6</td>\n",
              "    </tr>\n",
              "    <tr>\n",
              "      <th>2</th>\n",
              "      <td>94669</td>\n",
              "      <td>2013-09-15</td>\n",
              "      <td>62</td>\n",
              "      <td>60.0</td>\n",
              "      <td>4.0</td>\n",
              "      <td>NaN</td>\n",
              "      <td>NaN</td>\n",
              "      <td>NaN</td>\n",
              "      <td>NaN</td>\n",
              "      <td>NaN</td>\n",
              "      <td>NaN</td>\n",
              "      <td>80</td>\n",
              "      <td>5698300.0</td>\n",
              "      <td>2013</td>\n",
              "      <td>2013_9</td>\n",
              "    </tr>\n",
              "    <tr>\n",
              "      <th>3</th>\n",
              "      <td>17531</td>\n",
              "      <td>2013-12-13</td>\n",
              "      <td>33</td>\n",
              "      <td>18.0</td>\n",
              "      <td>4.0</td>\n",
              "      <td>9.0</td>\n",
              "      <td>1.0</td>\n",
              "      <td>1970.0</td>\n",
              "      <td>1.0</td>\n",
              "      <td>6.0</td>\n",
              "      <td>2.0</td>\n",
              "      <td>15</td>\n",
              "      <td>5055000.0</td>\n",
              "      <td>2013</td>\n",
              "      <td>2013_12</td>\n",
              "    </tr>\n",
              "    <tr>\n",
              "      <th>4</th>\n",
              "      <td>32159</td>\n",
              "      <td>2014-02-13</td>\n",
              "      <td>37</td>\n",
              "      <td>14.0</td>\n",
              "      <td>1.0</td>\n",
              "      <td>17.0</td>\n",
              "      <td>1.0</td>\n",
              "      <td>1991.0</td>\n",
              "      <td>1.0</td>\n",
              "      <td>1.0</td>\n",
              "      <td>2.0</td>\n",
              "      <td>74</td>\n",
              "      <td>5425000.0</td>\n",
              "      <td>2014</td>\n",
              "      <td>2014_2</td>\n",
              "    </tr>\n",
              "    <tr>\n",
              "      <th>...</th>\n",
              "      <td>...</td>\n",
              "      <td>...</td>\n",
              "      <td>...</td>\n",
              "      <td>...</td>\n",
              "      <td>...</td>\n",
              "      <td>...</td>\n",
              "      <td>...</td>\n",
              "      <td>...</td>\n",
              "      <td>...</td>\n",
              "      <td>...</td>\n",
              "      <td>...</td>\n",
              "      <td>...</td>\n",
              "      <td>...</td>\n",
              "      <td>...</td>\n",
              "      <td>...</td>\n",
              "    </tr>\n",
              "    <tr>\n",
              "      <th>28995</th>\n",
              "      <td>85589</td>\n",
              "      <td>2013-05-08</td>\n",
              "      <td>58</td>\n",
              "      <td>NaN</td>\n",
              "      <td>2.0</td>\n",
              "      <td>NaN</td>\n",
              "      <td>NaN</td>\n",
              "      <td>NaN</td>\n",
              "      <td>NaN</td>\n",
              "      <td>NaN</td>\n",
              "      <td>NaN</td>\n",
              "      <td>101</td>\n",
              "      <td>4330300.0</td>\n",
              "      <td>2013</td>\n",
              "      <td>2013_5</td>\n",
              "    </tr>\n",
              "    <tr>\n",
              "      <th>28996</th>\n",
              "      <td>11345</td>\n",
              "      <td>2014-04-12</td>\n",
              "      <td>38</td>\n",
              "      <td>NaN</td>\n",
              "      <td>9.0</td>\n",
              "      <td>17.0</td>\n",
              "      <td>1.0</td>\n",
              "      <td>NaN</td>\n",
              "      <td>1.0</td>\n",
              "      <td>1.0</td>\n",
              "      <td>NaN</td>\n",
              "      <td>134</td>\n",
              "      <td>4779900.0</td>\n",
              "      <td>2014</td>\n",
              "      <td>2014_4</td>\n",
              "    </tr>\n",
              "    <tr>\n",
              "      <th>28997</th>\n",
              "      <td>55519</td>\n",
              "      <td>2013-09-23</td>\n",
              "      <td>55</td>\n",
              "      <td>30.0</td>\n",
              "      <td>9.0</td>\n",
              "      <td>16.0</td>\n",
              "      <td>1.0</td>\n",
              "      <td>2002.0</td>\n",
              "      <td>2.0</td>\n",
              "      <td>8.0</td>\n",
              "      <td>3.0</td>\n",
              "      <td>38</td>\n",
              "      <td>7260000.0</td>\n",
              "      <td>2013</td>\n",
              "      <td>2013_9</td>\n",
              "    </tr>\n",
              "    <tr>\n",
              "      <th>28998</th>\n",
              "      <td>17196</td>\n",
              "      <td>2013-11-19</td>\n",
              "      <td>37</td>\n",
              "      <td>19.0</td>\n",
              "      <td>3.0</td>\n",
              "      <td>16.0</td>\n",
              "      <td>5.0</td>\n",
              "      <td>1979.0</td>\n",
              "      <td>1.0</td>\n",
              "      <td>9.0</td>\n",
              "      <td>3.0</td>\n",
              "      <td>43</td>\n",
              "      <td>6018000.0</td>\n",
              "      <td>2013</td>\n",
              "      <td>2013_11</td>\n",
              "    </tr>\n",
              "    <tr>\n",
              "      <th>28999</th>\n",
              "      <td>97330</td>\n",
              "      <td>2014-05-03</td>\n",
              "      <td>45</td>\n",
              "      <td>20.0</td>\n",
              "      <td>12.0</td>\n",
              "      <td>17.0</td>\n",
              "      <td>6.0</td>\n",
              "      <td>2011.0</td>\n",
              "      <td>1.0</td>\n",
              "      <td>10.0</td>\n",
              "      <td>1.0</td>\n",
              "      <td>101</td>\n",
              "      <td>2389000.0</td>\n",
              "      <td>2014</td>\n",
              "      <td>2014_5</td>\n",
              "    </tr>\n",
              "  </tbody>\n",
              "</table>\n",
              "<p>29000 rows × 15 columns</p>\n",
              "</div>\n",
              "      <button class=\"colab-df-convert\" onclick=\"convertToInteractive('df-b7feba7a-03dd-4615-9c12-550f6041c1e5')\"\n",
              "              title=\"Convert this dataframe to an interactive table.\"\n",
              "              style=\"display:none;\">\n",
              "        \n",
              "  <svg xmlns=\"http://www.w3.org/2000/svg\" height=\"24px\"viewBox=\"0 0 24 24\"\n",
              "       width=\"24px\">\n",
              "    <path d=\"M0 0h24v24H0V0z\" fill=\"none\"/>\n",
              "    <path d=\"M18.56 5.44l.94 2.06.94-2.06 2.06-.94-2.06-.94-.94-2.06-.94 2.06-2.06.94zm-11 1L8.5 8.5l.94-2.06 2.06-.94-2.06-.94L8.5 2.5l-.94 2.06-2.06.94zm10 10l.94 2.06.94-2.06 2.06-.94-2.06-.94-.94-2.06-.94 2.06-2.06.94z\"/><path d=\"M17.41 7.96l-1.37-1.37c-.4-.4-.92-.59-1.43-.59-.52 0-1.04.2-1.43.59L10.3 9.45l-7.72 7.72c-.78.78-.78 2.05 0 2.83L4 21.41c.39.39.9.59 1.41.59.51 0 1.02-.2 1.41-.59l7.78-7.78 2.81-2.81c.8-.78.8-2.07 0-2.86zM5.41 20L4 18.59l7.72-7.72 1.47 1.35L5.41 20z\"/>\n",
              "  </svg>\n",
              "      </button>\n",
              "      \n",
              "  <style>\n",
              "    .colab-df-container {\n",
              "      display:flex;\n",
              "      flex-wrap:wrap;\n",
              "      gap: 12px;\n",
              "    }\n",
              "\n",
              "    .colab-df-convert {\n",
              "      background-color: #E8F0FE;\n",
              "      border: none;\n",
              "      border-radius: 50%;\n",
              "      cursor: pointer;\n",
              "      display: none;\n",
              "      fill: #1967D2;\n",
              "      height: 32px;\n",
              "      padding: 0 0 0 0;\n",
              "      width: 32px;\n",
              "    }\n",
              "\n",
              "    .colab-df-convert:hover {\n",
              "      background-color: #E2EBFA;\n",
              "      box-shadow: 0px 1px 2px rgba(60, 64, 67, 0.3), 0px 1px 3px 1px rgba(60, 64, 67, 0.15);\n",
              "      fill: #174EA6;\n",
              "    }\n",
              "\n",
              "    [theme=dark] .colab-df-convert {\n",
              "      background-color: #3B4455;\n",
              "      fill: #D2E3FC;\n",
              "    }\n",
              "\n",
              "    [theme=dark] .colab-df-convert:hover {\n",
              "      background-color: #434B5C;\n",
              "      box-shadow: 0px 1px 3px 1px rgba(0, 0, 0, 0.15);\n",
              "      filter: drop-shadow(0px 1px 2px rgba(0, 0, 0, 0.3));\n",
              "      fill: #FFFFFF;\n",
              "    }\n",
              "  </style>\n",
              "\n",
              "      <script>\n",
              "        const buttonEl =\n",
              "          document.querySelector('#df-b7feba7a-03dd-4615-9c12-550f6041c1e5 button.colab-df-convert');\n",
              "        buttonEl.style.display =\n",
              "          google.colab.kernel.accessAllowed ? 'block' : 'none';\n",
              "\n",
              "        async function convertToInteractive(key) {\n",
              "          const element = document.querySelector('#df-b7feba7a-03dd-4615-9c12-550f6041c1e5');\n",
              "          const dataTable =\n",
              "            await google.colab.kernel.invokeFunction('convertToInteractive',\n",
              "                                                     [key], {});\n",
              "          if (!dataTable) return;\n",
              "\n",
              "          const docLinkHtml = 'Like what you see? Visit the ' +\n",
              "            '<a target=\"_blank\" href=https://colab.research.google.com/notebooks/data_table.ipynb>data table notebook</a>'\n",
              "            + ' to learn more about interactive tables.';\n",
              "          element.innerHTML = '';\n",
              "          dataTable['output_type'] = 'display_data';\n",
              "          await google.colab.output.renderOutput(dataTable, element);\n",
              "          const docLink = document.createElement('div');\n",
              "          docLink.innerHTML = docLinkHtml;\n",
              "          element.appendChild(docLink);\n",
              "        }\n",
              "      </script>\n",
              "    </div>\n",
              "  </div>\n",
              "  "
            ]
          },
          "metadata": {},
          "execution_count": 350
        }
      ]
    },
    {
      "cell_type": "code",
      "source": [
        "df_train.describe()"
      ],
      "metadata": {
        "colab": {
          "base_uri": "https://localhost:8080/",
          "height": 297
        },
        "id": "1QGabWVAOnMn",
        "outputId": "c3a71b13-dc76-4841-d879-8509c22df35b"
      },
      "execution_count": null,
      "outputs": [
        {
          "output_type": "execute_result",
          "data": {
            "text/plain": [
              "                 id       full_sq       life_sq         floor     max_floor  \\\n",
              "count  29000.000000  29000.000000  22935.000000  28843.000000  19887.000000   \n",
              "mean   54932.809724     55.235345     34.103248      7.665326     12.560567   \n",
              "std    25981.968682     38.781299     20.911329      5.319891      6.775449   \n",
              "min    10001.000000      0.000000      0.000000      0.000000      0.000000   \n",
              "25%    32382.500000     40.000000     20.000000      3.000000      9.000000   \n",
              "50%    54984.500000     50.000000     30.000000      6.000000     12.000000   \n",
              "75%    77417.500000     64.000000     43.000000     11.000000     17.000000   \n",
              "max    99999.000000   5329.000000    802.000000     77.000000    117.000000   \n",
              "\n",
              "           material    build_year      num_room      kitch_sq  \\\n",
              "count  19887.000000  1.605900e+04  19887.000000  19887.000000   \n",
              "mean       1.821491  3.126422e+03      1.908282      6.424297   \n",
              "std        1.475440  1.582194e+05      0.853043     28.960510   \n",
              "min        1.000000  0.000000e+00      0.000000      0.000000   \n",
              "25%        1.000000  1.966000e+03      1.000000      1.000000   \n",
              "50%        1.000000  1.979000e+03      2.000000      6.000000   \n",
              "75%        2.000000  2.005000e+03      2.000000      9.000000   \n",
              "max        6.000000  2.005201e+07     19.000000   2014.000000   \n",
              "\n",
              "       apartment condition      sub_area         price          year  \n",
              "count         16088.000000  29000.000000  2.900000e+04  29000.000000  \n",
              "mean              2.108031     76.503931  7.472051e+06   2013.510414  \n",
              "std               0.882274     39.308253  5.056736e+06      0.971664  \n",
              "min               1.000000      0.000000  1.085000e+05   2011.000000  \n",
              "25%               1.000000     44.000000  4.957875e+06   2013.000000  \n",
              "50%               2.000000     78.000000  6.553400e+06   2014.000000  \n",
              "75%               3.000000    105.000000  8.674925e+06   2014.000000  \n",
              "max              33.000000    145.000000  1.124444e+08   2015.000000  "
            ],
            "text/html": [
              "\n",
              "  <div id=\"df-0d828b5d-2104-407d-a464-363c94d6247c\">\n",
              "    <div class=\"colab-df-container\">\n",
              "      <div>\n",
              "<style scoped>\n",
              "    .dataframe tbody tr th:only-of-type {\n",
              "        vertical-align: middle;\n",
              "    }\n",
              "\n",
              "    .dataframe tbody tr th {\n",
              "        vertical-align: top;\n",
              "    }\n",
              "\n",
              "    .dataframe thead th {\n",
              "        text-align: right;\n",
              "    }\n",
              "</style>\n",
              "<table border=\"1\" class=\"dataframe\">\n",
              "  <thead>\n",
              "    <tr style=\"text-align: right;\">\n",
              "      <th></th>\n",
              "      <th>id</th>\n",
              "      <th>full_sq</th>\n",
              "      <th>life_sq</th>\n",
              "      <th>floor</th>\n",
              "      <th>max_floor</th>\n",
              "      <th>material</th>\n",
              "      <th>build_year</th>\n",
              "      <th>num_room</th>\n",
              "      <th>kitch_sq</th>\n",
              "      <th>apartment condition</th>\n",
              "      <th>sub_area</th>\n",
              "      <th>price</th>\n",
              "      <th>year</th>\n",
              "    </tr>\n",
              "  </thead>\n",
              "  <tbody>\n",
              "    <tr>\n",
              "      <th>count</th>\n",
              "      <td>29000.000000</td>\n",
              "      <td>29000.000000</td>\n",
              "      <td>22935.000000</td>\n",
              "      <td>28843.000000</td>\n",
              "      <td>19887.000000</td>\n",
              "      <td>19887.000000</td>\n",
              "      <td>1.605900e+04</td>\n",
              "      <td>19887.000000</td>\n",
              "      <td>19887.000000</td>\n",
              "      <td>16088.000000</td>\n",
              "      <td>29000.000000</td>\n",
              "      <td>2.900000e+04</td>\n",
              "      <td>29000.000000</td>\n",
              "    </tr>\n",
              "    <tr>\n",
              "      <th>mean</th>\n",
              "      <td>54932.809724</td>\n",
              "      <td>55.235345</td>\n",
              "      <td>34.103248</td>\n",
              "      <td>7.665326</td>\n",
              "      <td>12.560567</td>\n",
              "      <td>1.821491</td>\n",
              "      <td>3.126422e+03</td>\n",
              "      <td>1.908282</td>\n",
              "      <td>6.424297</td>\n",
              "      <td>2.108031</td>\n",
              "      <td>76.503931</td>\n",
              "      <td>7.472051e+06</td>\n",
              "      <td>2013.510414</td>\n",
              "    </tr>\n",
              "    <tr>\n",
              "      <th>std</th>\n",
              "      <td>25981.968682</td>\n",
              "      <td>38.781299</td>\n",
              "      <td>20.911329</td>\n",
              "      <td>5.319891</td>\n",
              "      <td>6.775449</td>\n",
              "      <td>1.475440</td>\n",
              "      <td>1.582194e+05</td>\n",
              "      <td>0.853043</td>\n",
              "      <td>28.960510</td>\n",
              "      <td>0.882274</td>\n",
              "      <td>39.308253</td>\n",
              "      <td>5.056736e+06</td>\n",
              "      <td>0.971664</td>\n",
              "    </tr>\n",
              "    <tr>\n",
              "      <th>min</th>\n",
              "      <td>10001.000000</td>\n",
              "      <td>0.000000</td>\n",
              "      <td>0.000000</td>\n",
              "      <td>0.000000</td>\n",
              "      <td>0.000000</td>\n",
              "      <td>1.000000</td>\n",
              "      <td>0.000000e+00</td>\n",
              "      <td>0.000000</td>\n",
              "      <td>0.000000</td>\n",
              "      <td>1.000000</td>\n",
              "      <td>0.000000</td>\n",
              "      <td>1.085000e+05</td>\n",
              "      <td>2011.000000</td>\n",
              "    </tr>\n",
              "    <tr>\n",
              "      <th>25%</th>\n",
              "      <td>32382.500000</td>\n",
              "      <td>40.000000</td>\n",
              "      <td>20.000000</td>\n",
              "      <td>3.000000</td>\n",
              "      <td>9.000000</td>\n",
              "      <td>1.000000</td>\n",
              "      <td>1.966000e+03</td>\n",
              "      <td>1.000000</td>\n",
              "      <td>1.000000</td>\n",
              "      <td>1.000000</td>\n",
              "      <td>44.000000</td>\n",
              "      <td>4.957875e+06</td>\n",
              "      <td>2013.000000</td>\n",
              "    </tr>\n",
              "    <tr>\n",
              "      <th>50%</th>\n",
              "      <td>54984.500000</td>\n",
              "      <td>50.000000</td>\n",
              "      <td>30.000000</td>\n",
              "      <td>6.000000</td>\n",
              "      <td>12.000000</td>\n",
              "      <td>1.000000</td>\n",
              "      <td>1.979000e+03</td>\n",
              "      <td>2.000000</td>\n",
              "      <td>6.000000</td>\n",
              "      <td>2.000000</td>\n",
              "      <td>78.000000</td>\n",
              "      <td>6.553400e+06</td>\n",
              "      <td>2014.000000</td>\n",
              "    </tr>\n",
              "    <tr>\n",
              "      <th>75%</th>\n",
              "      <td>77417.500000</td>\n",
              "      <td>64.000000</td>\n",
              "      <td>43.000000</td>\n",
              "      <td>11.000000</td>\n",
              "      <td>17.000000</td>\n",
              "      <td>2.000000</td>\n",
              "      <td>2.005000e+03</td>\n",
              "      <td>2.000000</td>\n",
              "      <td>9.000000</td>\n",
              "      <td>3.000000</td>\n",
              "      <td>105.000000</td>\n",
              "      <td>8.674925e+06</td>\n",
              "      <td>2014.000000</td>\n",
              "    </tr>\n",
              "    <tr>\n",
              "      <th>max</th>\n",
              "      <td>99999.000000</td>\n",
              "      <td>5329.000000</td>\n",
              "      <td>802.000000</td>\n",
              "      <td>77.000000</td>\n",
              "      <td>117.000000</td>\n",
              "      <td>6.000000</td>\n",
              "      <td>2.005201e+07</td>\n",
              "      <td>19.000000</td>\n",
              "      <td>2014.000000</td>\n",
              "      <td>33.000000</td>\n",
              "      <td>145.000000</td>\n",
              "      <td>1.124444e+08</td>\n",
              "      <td>2015.000000</td>\n",
              "    </tr>\n",
              "  </tbody>\n",
              "</table>\n",
              "</div>\n",
              "      <button class=\"colab-df-convert\" onclick=\"convertToInteractive('df-0d828b5d-2104-407d-a464-363c94d6247c')\"\n",
              "              title=\"Convert this dataframe to an interactive table.\"\n",
              "              style=\"display:none;\">\n",
              "        \n",
              "  <svg xmlns=\"http://www.w3.org/2000/svg\" height=\"24px\"viewBox=\"0 0 24 24\"\n",
              "       width=\"24px\">\n",
              "    <path d=\"M0 0h24v24H0V0z\" fill=\"none\"/>\n",
              "    <path d=\"M18.56 5.44l.94 2.06.94-2.06 2.06-.94-2.06-.94-.94-2.06-.94 2.06-2.06.94zm-11 1L8.5 8.5l.94-2.06 2.06-.94-2.06-.94L8.5 2.5l-.94 2.06-2.06.94zm10 10l.94 2.06.94-2.06 2.06-.94-2.06-.94-.94-2.06-.94 2.06-2.06.94z\"/><path d=\"M17.41 7.96l-1.37-1.37c-.4-.4-.92-.59-1.43-.59-.52 0-1.04.2-1.43.59L10.3 9.45l-7.72 7.72c-.78.78-.78 2.05 0 2.83L4 21.41c.39.39.9.59 1.41.59.51 0 1.02-.2 1.41-.59l7.78-7.78 2.81-2.81c.8-.78.8-2.07 0-2.86zM5.41 20L4 18.59l7.72-7.72 1.47 1.35L5.41 20z\"/>\n",
              "  </svg>\n",
              "      </button>\n",
              "      \n",
              "  <style>\n",
              "    .colab-df-container {\n",
              "      display:flex;\n",
              "      flex-wrap:wrap;\n",
              "      gap: 12px;\n",
              "    }\n",
              "\n",
              "    .colab-df-convert {\n",
              "      background-color: #E8F0FE;\n",
              "      border: none;\n",
              "      border-radius: 50%;\n",
              "      cursor: pointer;\n",
              "      display: none;\n",
              "      fill: #1967D2;\n",
              "      height: 32px;\n",
              "      padding: 0 0 0 0;\n",
              "      width: 32px;\n",
              "    }\n",
              "\n",
              "    .colab-df-convert:hover {\n",
              "      background-color: #E2EBFA;\n",
              "      box-shadow: 0px 1px 2px rgba(60, 64, 67, 0.3), 0px 1px 3px 1px rgba(60, 64, 67, 0.15);\n",
              "      fill: #174EA6;\n",
              "    }\n",
              "\n",
              "    [theme=dark] .colab-df-convert {\n",
              "      background-color: #3B4455;\n",
              "      fill: #D2E3FC;\n",
              "    }\n",
              "\n",
              "    [theme=dark] .colab-df-convert:hover {\n",
              "      background-color: #434B5C;\n",
              "      box-shadow: 0px 1px 3px 1px rgba(0, 0, 0, 0.15);\n",
              "      filter: drop-shadow(0px 1px 2px rgba(0, 0, 0, 0.3));\n",
              "      fill: #FFFFFF;\n",
              "    }\n",
              "  </style>\n",
              "\n",
              "      <script>\n",
              "        const buttonEl =\n",
              "          document.querySelector('#df-0d828b5d-2104-407d-a464-363c94d6247c button.colab-df-convert');\n",
              "        buttonEl.style.display =\n",
              "          google.colab.kernel.accessAllowed ? 'block' : 'none';\n",
              "\n",
              "        async function convertToInteractive(key) {\n",
              "          const element = document.querySelector('#df-0d828b5d-2104-407d-a464-363c94d6247c');\n",
              "          const dataTable =\n",
              "            await google.colab.kernel.invokeFunction('convertToInteractive',\n",
              "                                                     [key], {});\n",
              "          if (!dataTable) return;\n",
              "\n",
              "          const docLinkHtml = 'Like what you see? Visit the ' +\n",
              "            '<a target=\"_blank\" href=https://colab.research.google.com/notebooks/data_table.ipynb>data table notebook</a>'\n",
              "            + ' to learn more about interactive tables.';\n",
              "          element.innerHTML = '';\n",
              "          dataTable['output_type'] = 'display_data';\n",
              "          await google.colab.output.renderOutput(dataTable, element);\n",
              "          const docLink = document.createElement('div');\n",
              "          docLink.innerHTML = docLinkHtml;\n",
              "          element.appendChild(docLink);\n",
              "        }\n",
              "      </script>\n",
              "    </div>\n",
              "  </div>\n",
              "  "
            ]
          },
          "metadata": {},
          "execution_count": 351
        }
      ]
    },
    {
      "cell_type": "code",
      "source": [
        "plt.figure(figsize=(12, 8))\n",
        "sns.distplot(df_train.price.values, bins=50, kde=True)\n",
        "plt.xlabel('price')\n",
        "plt.show()"
      ],
      "metadata": {
        "colab": {
          "base_uri": "https://localhost:8080/",
          "height": 562
        },
        "id": "Nv635cCNNCn9",
        "outputId": "196e5935-ca4f-4140-901a-0d3b160e1732"
      },
      "execution_count": null,
      "outputs": [
        {
          "output_type": "stream",
          "name": "stderr",
          "text": [
            "/usr/local/lib/python3.7/dist-packages/seaborn/distributions.py:2619: FutureWarning: `distplot` is a deprecated function and will be removed in a future version. Please adapt your code to use either `displot` (a figure-level function with similar flexibility) or `histplot` (an axes-level function for histograms).\n",
            "  warnings.warn(msg, FutureWarning)\n"
          ]
        },
        {
          "output_type": "display_data",
          "data": {
            "text/plain": [
              "<Figure size 864x576 with 1 Axes>"
            ],
            "image/png": "[encoded data removed]"
          },
          "metadata": {
            "needs_background": "light"
          }
        }
      ]
    },
    {
      "cell_type": "code",
      "source": [
        "df_train[df_train.full_sq < 1000].full_sq.hist(bins = 50)"
      ],
      "metadata": {
        "colab": {
          "base_uri": "https://localhost:8080/",
          "height": 282
        },
        "id": "eu6wOKBINg_g",
        "outputId": "7fc8930b-dad7-4e53-ce84-2e44a4d7059e"
      },
      "execution_count": null,
      "outputs": [
        {
          "output_type": "execute_result",
          "data": {
            "text/plain": [
              "<matplotlib.axes._subplots.AxesSubplot at 0x7f4cb3254990>"
            ]
          },
          "metadata": {},
          "execution_count": 353
        },
        {
          "output_type": "display_data",
          "data": {
            "text/plain": [
              "<Figure size 432x288 with 1 Axes>"
            ],
            "image/png": "[encoded data removed]"
          },
          "metadata": {
            "needs_background": "light"
          }
        }
      ]
    },
    {
      "cell_type": "code",
      "source": [
        "bins = [0, 30, 40, 50, 60, 70, 80, 90, 100,120,140,160,180,200, 5330]\n",
        "df_train['full_sq_bins'] = np.searchsorted(bins, df_train.full_sq.values)"
      ],
      "metadata": {
        "id": "_OeV4YnyOfh5"
      },
      "execution_count": null,
      "outputs": []
    },
    {
      "cell_type": "code",
      "source": [
        "df_train"
      ],
      "metadata": {
        "colab": {
          "base_uri": "https://localhost:8080/",
          "height": 419
        },
        "id": "wDfHAD50ONnj",
        "outputId": "77608e6d-5b95-47f4-8df0-3b75516f451f"
      },
      "execution_count": null,
      "outputs": [
        {
          "output_type": "execute_result",
          "data": {
            "text/plain": [
              "          id  timestamp  full_sq  life_sq  floor  max_floor  material  \\\n",
              "0      30392 2014-12-30       60     36.0    6.0        9.0       1.0   \n",
              "1      36540 2013-06-28       44     29.0    9.0        NaN       NaN   \n",
              "2      94669 2013-09-15       62     60.0    4.0        NaN       NaN   \n",
              "3      17531 2013-12-13       33     18.0    4.0        9.0       1.0   \n",
              "4      32159 2014-02-13       37     14.0    1.0       17.0       1.0   \n",
              "...      ...        ...      ...      ...    ...        ...       ...   \n",
              "28995  85589 2013-05-08       58      NaN    2.0        NaN       NaN   \n",
              "28996  11345 2014-04-12       38      NaN    9.0       17.0       1.0   \n",
              "28997  55519 2013-09-23       55     30.0    9.0       16.0       1.0   \n",
              "28998  17196 2013-11-19       37     19.0    3.0       16.0       5.0   \n",
              "28999  97330 2014-05-03       45     20.0   12.0       17.0       6.0   \n",
              "\n",
              "       build_year  num_room  kitch_sq  apartment condition  sub_area  \\\n",
              "0          1974.0       3.0       5.0                  3.0         9   \n",
              "1             NaN       NaN       NaN                  NaN        19   \n",
              "2             NaN       NaN       NaN                  NaN        80   \n",
              "3          1970.0       1.0       6.0                  2.0        15   \n",
              "4          1991.0       1.0       1.0                  2.0        74   \n",
              "...           ...       ...       ...                  ...       ...   \n",
              "28995         NaN       NaN       NaN                  NaN       101   \n",
              "28996         NaN       1.0       1.0                  NaN       134   \n",
              "28997      2002.0       2.0       8.0                  3.0        38   \n",
              "28998      1979.0       1.0       9.0                  3.0        43   \n",
              "28999      2011.0       1.0      10.0                  1.0       101   \n",
              "\n",
              "           price  year year_month  full_sq_bins  \n",
              "0      9711800.0  2014    2014_12             4  \n",
              "1      6643200.0  2013     2013_6             3  \n",
              "2      5698300.0  2013     2013_9             5  \n",
              "3      5055000.0  2013    2013_12             2  \n",
              "4      5425000.0  2014     2014_2             2  \n",
              "...          ...   ...        ...           ...  \n",
              "28995  4330300.0  2013     2013_5             4  \n",
              "28996  4779900.0  2014     2014_4             2  \n",
              "28997  7260000.0  2013     2013_9             4  \n",
              "28998  6018000.0  2013    2013_11             2  \n",
              "28999  2389000.0  2014     2014_5             3  \n",
              "\n",
              "[29000 rows x 16 columns]"
            ],
            "text/html": [
              "\n",
              "  <div id=\"df-39269b78-b590-41b9-8c7e-fac7cd0f6dd9\">\n",
              "    <div class=\"colab-df-container\">\n",
              "      <div>\n",
              "<style scoped>\n",
              "    .dataframe tbody tr th:only-of-type {\n",
              "        vertical-align: middle;\n",
              "    }\n",
              "\n",
              "    .dataframe tbody tr th {\n",
              "        vertical-align: top;\n",
              "    }\n",
              "\n",
              "    .dataframe thead th {\n",
              "        text-align: right;\n",
              "    }\n",
              "</style>\n",
              "<table border=\"1\" class=\"dataframe\">\n",
              "  <thead>\n",
              "    <tr style=\"text-align: right;\">\n",
              "      <th></th>\n",
              "      <th>id</th>\n",
              "      <th>timestamp</th>\n",
              "      <th>full_sq</th>\n",
              "      <th>life_sq</th>\n",
              "      <th>floor</th>\n",
              "      <th>max_floor</th>\n",
              "      <th>material</th>\n",
              "      <th>build_year</th>\n",
              "      <th>num_room</th>\n",
              "      <th>kitch_sq</th>\n",
              "      <th>apartment condition</th>\n",
              "      <th>sub_area</th>\n",
              "      <th>price</th>\n",
              "      <th>year</th>\n",
              "      <th>year_month</th>\n",
              "      <th>full_sq_bins</th>\n",
              "    </tr>\n",
              "  </thead>\n",
              "  <tbody>\n",
              "    <tr>\n",
              "      <th>0</th>\n",
              "      <td>30392</td>\n",
              "      <td>2014-12-30</td>\n",
              "      <td>60</td>\n",
              "      <td>36.0</td>\n",
              "      <td>6.0</td>\n",
              "      <td>9.0</td>\n",
              "      <td>1.0</td>\n",
              "      <td>1974.0</td>\n",
              "      <td>3.0</td>\n",
              "      <td>5.0</td>\n",
              "      <td>3.0</td>\n",
              "      <td>9</td>\n",
              "      <td>9711800.0</td>\n",
              "      <td>2014</td>\n",
              "      <td>2014_12</td>\n",
              "      <td>4</td>\n",
              "    </tr>\n",
              "    <tr>\n",
              "      <th>1</th>\n",
              "      <td>36540</td>\n",
              "      <td>2013-06-28</td>\n",
              "      <td>44</td>\n",
              "      <td>29.0</td>\n",
              "      <td>9.0</td>\n",
              "      <td>NaN</td>\n",
              "      <td>NaN</td>\n",
              "      <td>NaN</td>\n",
              "      <td>NaN</td>\n",
              "      <td>NaN</td>\n",
              "      <td>NaN</td>\n",
              "      <td>19</td>\n",
              "      <td>6643200.0</td>\n",
              "      <td>2013</td>\n",
              "      <td>2013_6</td>\n",
              "      <td>3</td>\n",
              "    </tr>\n",
              "    <tr>\n",
              "      <th>2</th>\n",
              "      <td>94669</td>\n",
              "      <td>2013-09-15</td>\n",
              "      <td>62</td>\n",
              "      <td>60.0</td>\n",
              "      <td>4.0</td>\n",
              "      <td>NaN</td>\n",
              "      <td>NaN</td>\n",
              "      <td>NaN</td>\n",
              "      <td>NaN</td>\n",
              "      <td>NaN</td>\n",
              "      <td>NaN</td>\n",
              "      <td>80</td>\n",
              "      <td>5698300.0</td>\n",
              "      <td>2013</td>\n",
              "      <td>2013_9</td>\n",
              "      <td>5</td>\n",
              "    </tr>\n",
              "    <tr>\n",
              "      <th>3</th>\n",
              "      <td>17531</td>\n",
              "      <td>2013-12-13</td>\n",
              "      <td>33</td>\n",
              "      <td>18.0</td>\n",
              "      <td>4.0</td>\n",
              "      <td>9.0</td>\n",
              "      <td>1.0</td>\n",
              "      <td>1970.0</td>\n",
              "      <td>1.0</td>\n",
              "      <td>6.0</td>\n",
              "      <td>2.0</td>\n",
              "      <td>15</td>\n",
              "      <td>5055000.0</td>\n",
              "      <td>2013</td>\n",
              "      <td>2013_12</td>\n",
              "      <td>2</td>\n",
              "    </tr>\n",
              "    <tr>\n",
              "      <th>4</th>\n",
              "      <td>32159</td>\n",
              "      <td>2014-02-13</td>\n",
              "      <td>37</td>\n",
              "      <td>14.0</td>\n",
              "      <td>1.0</td>\n",
              "      <td>17.0</td>\n",
              "      <td>1.0</td>\n",
              "      <td>1991.0</td>\n",
              "      <td>1.0</td>\n",
              "      <td>1.0</td>\n",
              "      <td>2.0</td>\n",
              "      <td>74</td>\n",
              "      <td>5425000.0</td>\n",
              "      <td>2014</td>\n",
              "      <td>2014_2</td>\n",
              "      <td>2</td>\n",
              "    </tr>\n",
              "    <tr>\n",
              "      <th>...</th>\n",
              "      <td>...</td>\n",
              "      <td>...</td>\n",
              "      <td>...</td>\n",
              "      <td>...</td>\n",
              "      <td>...</td>\n",
              "      <td>...</td>\n",
              "      <td>...</td>\n",
              "      <td>...</td>\n",
              "      <td>...</td>\n",
              "      <td>...</td>\n",
              "      <td>...</td>\n",
              "      <td>...</td>\n",
              "      <td>...</td>\n",
              "      <td>...</td>\n",
              "      <td>...</td>\n",
              "      <td>...</td>\n",
              "    </tr>\n",
              "    <tr>\n",
              "      <th>28995</th>\n",
              "      <td>85589</td>\n",
              "      <td>2013-05-08</td>\n",
              "      <td>58</td>\n",
              "      <td>NaN</td>\n",
              "      <td>2.0</td>\n",
              "      <td>NaN</td>\n",
              "      <td>NaN</td>\n",
              "      <td>NaN</td>\n",
              "      <td>NaN</td>\n",
              "      <td>NaN</td>\n",
              "      <td>NaN</td>\n",
              "      <td>101</td>\n",
              "      <td>4330300.0</td>\n",
              "      <td>2013</td>\n",
              "      <td>2013_5</td>\n",
              "      <td>4</td>\n",
              "    </tr>\n",
              "    <tr>\n",
              "      <th>28996</th>\n",
              "      <td>11345</td>\n",
              "      <td>2014-04-12</td>\n",
              "      <td>38</td>\n",
              "      <td>NaN</td>\n",
              "      <td>9.0</td>\n",
              "      <td>17.0</td>\n",
              "      <td>1.0</td>\n",
              "      <td>NaN</td>\n",
              "      <td>1.0</td>\n",
              "      <td>1.0</td>\n",
              "      <td>NaN</td>\n",
              "      <td>134</td>\n",
              "      <td>4779900.0</td>\n",
              "      <td>2014</td>\n",
              "      <td>2014_4</td>\n",
              "      <td>2</td>\n",
              "    </tr>\n",
              "    <tr>\n",
              "      <th>28997</th>\n",
              "      <td>55519</td>\n",
              "      <td>2013-09-23</td>\n",
              "      <td>55</td>\n",
              "      <td>30.0</td>\n",
              "      <td>9.0</td>\n",
              "      <td>16.0</td>\n",
              "      <td>1.0</td>\n",
              "      <td>2002.0</td>\n",
              "      <td>2.0</td>\n",
              "      <td>8.0</td>\n",
              "      <td>3.0</td>\n",
              "      <td>38</td>\n",
              "      <td>7260000.0</td>\n",
              "      <td>2013</td>\n",
              "      <td>2013_9</td>\n",
              "      <td>4</td>\n",
              "    </tr>\n",
              "    <tr>\n",
              "      <th>28998</th>\n",
              "      <td>17196</td>\n",
              "      <td>2013-11-19</td>\n",
              "      <td>37</td>\n",
              "      <td>19.0</td>\n",
              "      <td>3.0</td>\n",
              "      <td>16.0</td>\n",
              "      <td>5.0</td>\n",
              "      <td>1979.0</td>\n",
              "      <td>1.0</td>\n",
              "      <td>9.0</td>\n",
              "      <td>3.0</td>\n",
              "      <td>43</td>\n",
              "      <td>6018000.0</td>\n",
              "      <td>2013</td>\n",
              "      <td>2013_11</td>\n",
              "      <td>2</td>\n",
              "    </tr>\n",
              "    <tr>\n",
              "      <th>28999</th>\n",
              "      <td>97330</td>\n",
              "      <td>2014-05-03</td>\n",
              "      <td>45</td>\n",
              "      <td>20.0</td>\n",
              "      <td>12.0</td>\n",
              "      <td>17.0</td>\n",
              "      <td>6.0</td>\n",
              "      <td>2011.0</td>\n",
              "      <td>1.0</td>\n",
              "      <td>10.0</td>\n",
              "      <td>1.0</td>\n",
              "      <td>101</td>\n",
              "      <td>2389000.0</td>\n",
              "      <td>2014</td>\n",
              "      <td>2014_5</td>\n",
              "      <td>3</td>\n",
              "    </tr>\n",
              "  </tbody>\n",
              "</table>\n",
              "<p>29000 rows × 16 columns</p>\n",
              "</div>\n",
              "      <button class=\"colab-df-convert\" onclick=\"convertToInteractive('df-39269b78-b590-41b9-8c7e-fac7cd0f6dd9')\"\n",
              "              title=\"Convert this dataframe to an interactive table.\"\n",
              "              style=\"display:none;\">\n",
              "        \n",
              "  <svg xmlns=\"http://www.w3.org/2000/svg\" height=\"24px\"viewBox=\"0 0 24 24\"\n",
              "       width=\"24px\">\n",
              "    <path d=\"M0 0h24v24H0V0z\" fill=\"none\"/>\n",
              "    <path d=\"M18.56 5.44l.94 2.06.94-2.06 2.06-.94-2.06-.94-.94-2.06-.94 2.06-2.06.94zm-11 1L8.5 8.5l.94-2.06 2.06-.94-2.06-.94L8.5 2.5l-.94 2.06-2.06.94zm10 10l.94 2.06.94-2.06 2.06-.94-2.06-.94-.94-2.06-.94 2.06-2.06.94z\"/><path d=\"M17.41 7.96l-1.37-1.37c-.4-.4-.92-.59-1.43-.59-.52 0-1.04.2-1.43.59L10.3 9.45l-7.72 7.72c-.78.78-.78 2.05 0 2.83L4 21.41c.39.39.9.59 1.41.59.51 0 1.02-.2 1.41-.59l7.78-7.78 2.81-2.81c.8-.78.8-2.07 0-2.86zM5.41 20L4 18.59l7.72-7.72 1.47 1.35L5.41 20z\"/>\n",
              "  </svg>\n",
              "      </button>\n",
              "      \n",
              "  <style>\n",
              "    .colab-df-container {\n",
              "      display:flex;\n",
              "      flex-wrap:wrap;\n",
              "      gap: 12px;\n",
              "    }\n",
              "\n",
              "    .colab-df-convert {\n",
              "      background-color: #E8F0FE;\n",
              "      border: none;\n",
              "      border-radius: 50%;\n",
              "      cursor: pointer;\n",
              "      display: none;\n",
              "      fill: #1967D2;\n",
              "      height: 32px;\n",
              "      padding: 0 0 0 0;\n",
              "      width: 32px;\n",
              "    }\n",
              "\n",
              "    .colab-df-convert:hover {\n",
              "      background-color: #E2EBFA;\n",
              "      box-shadow: 0px 1px 2px rgba(60, 64, 67, 0.3), 0px 1px 3px 1px rgba(60, 64, 67, 0.15);\n",
              "      fill: #174EA6;\n",
              "    }\n",
              "\n",
              "    [theme=dark] .colab-df-convert {\n",
              "      background-color: #3B4455;\n",
              "      fill: #D2E3FC;\n",
              "    }\n",
              "\n",
              "    [theme=dark] .colab-df-convert:hover {\n",
              "      background-color: #434B5C;\n",
              "      box-shadow: 0px 1px 3px 1px rgba(0, 0, 0, 0.15);\n",
              "      filter: drop-shadow(0px 1px 2px rgba(0, 0, 0, 0.3));\n",
              "      fill: #FFFFFF;\n",
              "    }\n",
              "  </style>\n",
              "\n",
              "      <script>\n",
              "        const buttonEl =\n",
              "          document.querySelector('#df-39269b78-b590-41b9-8c7e-fac7cd0f6dd9 button.colab-df-convert');\n",
              "        buttonEl.style.display =\n",
              "          google.colab.kernel.accessAllowed ? 'block' : 'none';\n",
              "\n",
              "        async function convertToInteractive(key) {\n",
              "          const element = document.querySelector('#df-39269b78-b590-41b9-8c7e-fac7cd0f6dd9');\n",
              "          const dataTable =\n",
              "            await google.colab.kernel.invokeFunction('convertToInteractive',\n",
              "                                                     [key], {});\n",
              "          if (!dataTable) return;\n",
              "\n",
              "          const docLinkHtml = 'Like what you see? Visit the ' +\n",
              "            '<a target=\"_blank\" href=https://colab.research.google.com/notebooks/data_table.ipynb>data table notebook</a>'\n",
              "            + ' to learn more about interactive tables.';\n",
              "          element.innerHTML = '';\n",
              "          dataTable['output_type'] = 'display_data';\n",
              "          await google.colab.output.renderOutput(dataTable, element);\n",
              "          const docLink = document.createElement('div');\n",
              "          docLink.innerHTML = docLinkHtml;\n",
              "          element.appendChild(docLink);\n",
              "        }\n",
              "      </script>\n",
              "    </div>\n",
              "  </div>\n",
              "  "
            ]
          },
          "metadata": {},
          "execution_count": 355
        }
      ]
    },
    {
      "cell_type": "code",
      "source": [
        "for col in df_train.columns:\n",
        "  s = df_train[col].isna().sum()\n",
        "  p = df_train[col].isna().mean()\n",
        "  print(f\"{col} - {s} - {p}%\")\n"
      ],
      "metadata": {
        "colab": {
          "base_uri": "https://localhost:8080/"
        },
        "id": "C4YKMQyvPDmx",
        "outputId": "f351b3eb-b2dc-4e22-fa74-77813b017ab6"
      },
      "execution_count": null,
      "outputs": [
        {
          "output_type": "stream",
          "name": "stdout",
          "text": [
            "id - 0 - 0.0%\n",
            "timestamp - 0 - 0.0%\n",
            "full_sq - 0 - 0.0%\n",
            "life_sq - 6065 - 0.20913793103448275%\n",
            "floor - 157 - 0.005413793103448276%\n",
            "max_floor - 9113 - 0.31424137931034485%\n",
            "material - 9113 - 0.31424137931034485%\n",
            "build_year - 12941 - 0.44624137931034485%\n",
            "num_room - 9113 - 0.31424137931034485%\n",
            "kitch_sq - 9113 - 0.31424137931034485%\n",
            "apartment condition - 12912 - 0.44524137931034485%\n",
            "sub_area - 0 - 0.0%\n",
            "price - 0 - 0.0%\n",
            "year - 0 - 0.0%\n",
            "year_month - 0 - 0.0%\n",
            "full_sq_bins - 0 - 0.0%\n"
          ]
        }
      ]
    },
    {
      "cell_type": "code",
      "source": [
        "for col in df_train.columns:\n",
        "  df_train[col] = df_train[col].fillna(df_train[col].median())"
      ],
      "metadata": {
        "id": "G8aGtp00ngqZ"
      },
      "execution_count": null,
      "outputs": []
    },
    {
      "cell_type": "code",
      "source": [
        "drop_full_sq_index = df_train[\n",
        "    df_train.full_sq < 10\n",
        "].index.tolist()"
      ],
      "metadata": {
        "id": "YW30qb_gi7dA"
      },
      "execution_count": null,
      "outputs": []
    },
    {
      "cell_type": "code",
      "source": [
        "df_train = df_train.drop(axis = 0,index = drop_full_sq_index)"
      ],
      "metadata": {
        "id": "wOF_RjjFklyG"
      },
      "execution_count": null,
      "outputs": []
    },
    {
      "cell_type": "code",
      "source": [
        "drop_life_sq_index = df_train[\n",
        "    df_train.full_sq <= df_train.life_sq\n",
        "].index.tolist()"
      ],
      "metadata": {
        "id": "MTkkiXMkkv--"
      },
      "execution_count": null,
      "outputs": []
    },
    {
      "cell_type": "code",
      "source": [
        "drop_life_sq_index"
      ],
      "metadata": {
        "id": "1QEviRAplKb2"
      },
      "execution_count": null,
      "outputs": []
    },
    {
      "cell_type": "code",
      "source": [
        "df_train = df_train.drop(axis = 0,index = drop_life_sq_index)"
      ],
      "metadata": {
        "id": "U7E_imPDlOzI"
      },
      "execution_count": null,
      "outputs": []
    },
    {
      "cell_type": "code",
      "source": [
        "drop_kitchen_index = df_train[\n",
        "    df_train.full_sq <= df_train.kitch_sq\n",
        "].index.tolist()"
      ],
      "metadata": {
        "id": "pilkXVn5lXv4"
      },
      "execution_count": null,
      "outputs": []
    },
    {
      "cell_type": "code",
      "source": [
        "df_train = df_train.drop(axis = 0,index = drop_kitchen_index)"
      ],
      "metadata": {
        "id": "wfUuWIlplho_"
      },
      "execution_count": null,
      "outputs": []
    },
    {
      "cell_type": "code",
      "source": [
        "drop_l_k = df_train[\n",
        "    df_train.full_sq < (df_train.life_sq + df_train.kitch_sq)\n",
        "].index.tolist()"
      ],
      "metadata": {
        "id": "KC6_uwEflvHM"
      },
      "execution_count": null,
      "outputs": []
    },
    {
      "cell_type": "code",
      "source": [
        "df_train = df_train.drop(axis = 0,index = drop_l_k)"
      ],
      "metadata": {
        "id": "oxAPBCKTmAcK"
      },
      "execution_count": null,
      "outputs": []
    },
    {
      "cell_type": "code",
      "source": [
        "df_train"
      ],
      "metadata": {
        "colab": {
          "base_uri": "https://localhost:8080/",
          "height": 419
        },
        "id": "igvMvV50nPmy",
        "outputId": "a9b5a956-e5a5-418d-ba4c-fea1dc9cd09d"
      },
      "execution_count": null,
      "outputs": [
        {
          "output_type": "execute_result",
          "data": {
            "text/plain": [
              "          id  timestamp  full_sq  life_sq  floor  max_floor  material  \\\n",
              "0      30392 2014-12-30       60     36.0    6.0        9.0       1.0   \n",
              "1      36540 2013-06-28       44     29.0    9.0       12.0       1.0   \n",
              "3      17531 2013-12-13       33     18.0    4.0        9.0       1.0   \n",
              "4      32159 2014-02-13       37     14.0    1.0       17.0       1.0   \n",
              "5      63050 2014-05-08       44      1.0   10.0       25.0       2.0   \n",
              "...      ...        ...      ...      ...    ...        ...       ...   \n",
              "28995  85589 2013-05-08       58     30.0    2.0       12.0       1.0   \n",
              "28996  11345 2014-04-12       38     30.0    9.0       17.0       1.0   \n",
              "28997  55519 2013-09-23       55     30.0    9.0       16.0       1.0   \n",
              "28998  17196 2013-11-19       37     19.0    3.0       16.0       5.0   \n",
              "28999  97330 2014-05-03       45     20.0   12.0       17.0       6.0   \n",
              "\n",
              "       build_year  num_room  kitch_sq  apartment condition  sub_area  \\\n",
              "0          1974.0       3.0       5.0                  3.0         9   \n",
              "1          1979.0       2.0       6.0                  2.0        19   \n",
              "3          1970.0       1.0       6.0                  2.0        15   \n",
              "4          1991.0       1.0       1.0                  2.0        74   \n",
              "5          2014.0       1.0       1.0                  1.0       134   \n",
              "...           ...       ...       ...                  ...       ...   \n",
              "28995      1979.0       2.0       6.0                  2.0       101   \n",
              "28996      1979.0       1.0       1.0                  2.0       134   \n",
              "28997      2002.0       2.0       8.0                  3.0        38   \n",
              "28998      1979.0       1.0       9.0                  3.0        43   \n",
              "28999      2011.0       1.0      10.0                  1.0       101   \n",
              "\n",
              "           price  year year_month  full_sq_bins  \n",
              "0      9711800.0  2014    2014_12             4  \n",
              "1      6643200.0  2013     2013_6             3  \n",
              "3      5055000.0  2013    2013_12             2  \n",
              "4      5425000.0  2014     2014_2             2  \n",
              "5      5876100.0  2014     2014_5             3  \n",
              "...          ...   ...        ...           ...  \n",
              "28995  4330300.0  2013     2013_5             4  \n",
              "28996  4779900.0  2014     2014_4             2  \n",
              "28997  7260000.0  2013     2013_9             4  \n",
              "28998  6018000.0  2013    2013_11             2  \n",
              "28999  2389000.0  2014     2014_5             3  \n",
              "\n",
              "[26284 rows x 16 columns]"
            ],
            "text/html": [
              "\n",
              "  <div id=\"df-cf06d8b8-110f-4e3c-ae9c-909ac1d2cc98\">\n",
              "    <div class=\"colab-df-container\">\n",
              "      <div>\n",
              "<style scoped>\n",
              "    .dataframe tbody tr th:only-of-type {\n",
              "        vertical-align: middle;\n",
              "    }\n",
              "\n",
              "    .dataframe tbody tr th {\n",
              "        vertical-align: top;\n",
              "    }\n",
              "\n",
              "    .dataframe thead th {\n",
              "        text-align: right;\n",
              "    }\n",
              "</style>\n",
              "<table border=\"1\" class=\"dataframe\">\n",
              "  <thead>\n",
              "    <tr style=\"text-align: right;\">\n",
              "      <th></th>\n",
              "      <th>id</th>\n",
              "      <th>timestamp</th>\n",
              "      <th>full_sq</th>\n",
              "      <th>life_sq</th>\n",
              "      <th>floor</th>\n",
              "      <th>max_floor</th>\n",
              "      <th>material</th>\n",
              "      <th>build_year</th>\n",
              "      <th>num_room</th>\n",
              "      <th>kitch_sq</th>\n",
              "      <th>apartment condition</th>\n",
              "      <th>sub_area</th>\n",
              "      <th>price</th>\n",
              "      <th>year</th>\n",
              "      <th>year_month</th>\n",
              "      <th>full_sq_bins</th>\n",
              "    </tr>\n",
              "  </thead>\n",
              "  <tbody>\n",
              "    <tr>\n",
              "      <th>0</th>\n",
              "      <td>30392</td>\n",
              "      <td>2014-12-30</td>\n",
              "      <td>60</td>\n",
              "      <td>36.0</td>\n",
              "      <td>6.0</td>\n",
              "      <td>9.0</td>\n",
              "      <td>1.0</td>\n",
              "      <td>1974.0</td>\n",
              "      <td>3.0</td>\n",
              "      <td>5.0</td>\n",
              "      <td>3.0</td>\n",
              "      <td>9</td>\n",
              "      <td>9711800.0</td>\n",
              "      <td>2014</td>\n",
              "      <td>2014_12</td>\n",
              "      <td>4</td>\n",
              "    </tr>\n",
              "    <tr>\n",
              "      <th>1</th>\n",
              "      <td>36540</td>\n",
              "      <td>2013-06-28</td>\n",
              "      <td>44</td>\n",
              "      <td>29.0</td>\n",
              "      <td>9.0</td>\n",
              "      <td>12.0</td>\n",
              "      <td>1.0</td>\n",
              "      <td>1979.0</td>\n",
              "      <td>2.0</td>\n",
              "      <td>6.0</td>\n",
              "      <td>2.0</td>\n",
              "      <td>19</td>\n",
              "      <td>6643200.0</td>\n",
              "      <td>2013</td>\n",
              "      <td>2013_6</td>\n",
              "      <td>3</td>\n",
              "    </tr>\n",
              "    <tr>\n",
              "      <th>3</th>\n",
              "      <td>17531</td>\n",
              "      <td>2013-12-13</td>\n",
              "      <td>33</td>\n",
              "      <td>18.0</td>\n",
              "      <td>4.0</td>\n",
              "      <td>9.0</td>\n",
              "      <td>1.0</td>\n",
              "      <td>1970.0</td>\n",
              "      <td>1.0</td>\n",
              "      <td>6.0</td>\n",
              "      <td>2.0</td>\n",
              "      <td>15</td>\n",
              "      <td>5055000.0</td>\n",
              "      <td>2013</td>\n",
              "      <td>2013_12</td>\n",
              "      <td>2</td>\n",
              "    </tr>\n",
              "    <tr>\n",
              "      <th>4</th>\n",
              "      <td>32159</td>\n",
              "      <td>2014-02-13</td>\n",
              "      <td>37</td>\n",
              "      <td>14.0</td>\n",
              "      <td>1.0</td>\n",
              "      <td>17.0</td>\n",
              "      <td>1.0</td>\n",
              "      <td>1991.0</td>\n",
              "      <td>1.0</td>\n",
              "      <td>1.0</td>\n",
              "      <td>2.0</td>\n",
              "      <td>74</td>\n",
              "      <td>5425000.0</td>\n",
              "      <td>2014</td>\n",
              "      <td>2014_2</td>\n",
              "      <td>2</td>\n",
              "    </tr>\n",
              "    <tr>\n",
              "      <th>5</th>\n",
              "      <td>63050</td>\n",
              "      <td>2014-05-08</td>\n",
              "      <td>44</td>\n",
              "      <td>1.0</td>\n",
              "      <td>10.0</td>\n",
              "      <td>25.0</td>\n",
              "      <td>2.0</td>\n",
              "      <td>2014.0</td>\n",
              "      <td>1.0</td>\n",
              "      <td>1.0</td>\n",
              "      <td>1.0</td>\n",
              "      <td>134</td>\n",
              "      <td>5876100.0</td>\n",
              "      <td>2014</td>\n",
              "      <td>2014_5</td>\n",
              "      <td>3</td>\n",
              "    </tr>\n",
              "    <tr>\n",
              "      <th>...</th>\n",
              "      <td>...</td>\n",
              "      <td>...</td>\n",
              "      <td>...</td>\n",
              "      <td>...</td>\n",
              "      <td>...</td>\n",
              "      <td>...</td>\n",
              "      <td>...</td>\n",
              "      <td>...</td>\n",
              "      <td>...</td>\n",
              "      <td>...</td>\n",
              "      <td>...</td>\n",
              "      <td>...</td>\n",
              "      <td>...</td>\n",
              "      <td>...</td>\n",
              "      <td>...</td>\n",
              "      <td>...</td>\n",
              "    </tr>\n",
              "    <tr>\n",
              "      <th>28995</th>\n",
              "      <td>85589</td>\n",
              "      <td>2013-05-08</td>\n",
              "      <td>58</td>\n",
              "      <td>30.0</td>\n",
              "      <td>2.0</td>\n",
              "      <td>12.0</td>\n",
              "      <td>1.0</td>\n",
              "      <td>1979.0</td>\n",
              "      <td>2.0</td>\n",
              "      <td>6.0</td>\n",
              "      <td>2.0</td>\n",
              "      <td>101</td>\n",
              "      <td>4330300.0</td>\n",
              "      <td>2013</td>\n",
              "      <td>2013_5</td>\n",
              "      <td>4</td>\n",
              "    </tr>\n",
              "    <tr>\n",
              "      <th>28996</th>\n",
              "      <td>11345</td>\n",
              "      <td>2014-04-12</td>\n",
              "      <td>38</td>\n",
              "      <td>30.0</td>\n",
              "      <td>9.0</td>\n",
              "      <td>17.0</td>\n",
              "      <td>1.0</td>\n",
              "      <td>1979.0</td>\n",
              "      <td>1.0</td>\n",
              "      <td>1.0</td>\n",
              "      <td>2.0</td>\n",
              "      <td>134</td>\n",
              "      <td>4779900.0</td>\n",
              "      <td>2014</td>\n",
              "      <td>2014_4</td>\n",
              "      <td>2</td>\n",
              "    </tr>\n",
              "    <tr>\n",
              "      <th>28997</th>\n",
              "      <td>55519</td>\n",
              "      <td>2013-09-23</td>\n",
              "      <td>55</td>\n",
              "      <td>30.0</td>\n",
              "      <td>9.0</td>\n",
              "      <td>16.0</td>\n",
              "      <td>1.0</td>\n",
              "      <td>2002.0</td>\n",
              "      <td>2.0</td>\n",
              "      <td>8.0</td>\n",
              "      <td>3.0</td>\n",
              "      <td>38</td>\n",
              "      <td>7260000.0</td>\n",
              "      <td>2013</td>\n",
              "      <td>2013_9</td>\n",
              "      <td>4</td>\n",
              "    </tr>\n",
              "    <tr>\n",
              "      <th>28998</th>\n",
              "      <td>17196</td>\n",
              "      <td>2013-11-19</td>\n",
              "      <td>37</td>\n",
              "      <td>19.0</td>\n",
              "      <td>3.0</td>\n",
              "      <td>16.0</td>\n",
              "      <td>5.0</td>\n",
              "      <td>1979.0</td>\n",
              "      <td>1.0</td>\n",
              "      <td>9.0</td>\n",
              "      <td>3.0</td>\n",
              "      <td>43</td>\n",
              "      <td>6018000.0</td>\n",
              "      <td>2013</td>\n",
              "      <td>2013_11</td>\n",
              "      <td>2</td>\n",
              "    </tr>\n",
              "    <tr>\n",
              "      <th>28999</th>\n",
              "      <td>97330</td>\n",
              "      <td>2014-05-03</td>\n",
              "      <td>45</td>\n",
              "      <td>20.0</td>\n",
              "      <td>12.0</td>\n",
              "      <td>17.0</td>\n",
              "      <td>6.0</td>\n",
              "      <td>2011.0</td>\n",
              "      <td>1.0</td>\n",
              "      <td>10.0</td>\n",
              "      <td>1.0</td>\n",
              "      <td>101</td>\n",
              "      <td>2389000.0</td>\n",
              "      <td>2014</td>\n",
              "      <td>2014_5</td>\n",
              "      <td>3</td>\n",
              "    </tr>\n",
              "  </tbody>\n",
              "</table>\n",
              "<p>26284 rows × 16 columns</p>\n",
              "</div>\n",
              "      <button class=\"colab-df-convert\" onclick=\"convertToInteractive('df-cf06d8b8-110f-4e3c-ae9c-909ac1d2cc98')\"\n",
              "              title=\"Convert this dataframe to an interactive table.\"\n",
              "              style=\"display:none;\">\n",
              "        \n",
              "  <svg xmlns=\"http://www.w3.org/2000/svg\" height=\"24px\"viewBox=\"0 0 24 24\"\n",
              "       width=\"24px\">\n",
              "    <path d=\"M0 0h24v24H0V0z\" fill=\"none\"/>\n",
              "    <path d=\"M18.56 5.44l.94 2.06.94-2.06 2.06-.94-2.06-.94-.94-2.06-.94 2.06-2.06.94zm-11 1L8.5 8.5l.94-2.06 2.06-.94-2.06-.94L8.5 2.5l-.94 2.06-2.06.94zm10 10l.94 2.06.94-2.06 2.06-.94-2.06-.94-.94-2.06-.94 2.06-2.06.94z\"/><path d=\"M17.41 7.96l-1.37-1.37c-.4-.4-.92-.59-1.43-.59-.52 0-1.04.2-1.43.59L10.3 9.45l-7.72 7.72c-.78.78-.78 2.05 0 2.83L4 21.41c.39.39.9.59 1.41.59.51 0 1.02-.2 1.41-.59l7.78-7.78 2.81-2.81c.8-.78.8-2.07 0-2.86zM5.41 20L4 18.59l7.72-7.72 1.47 1.35L5.41 20z\"/>\n",
              "  </svg>\n",
              "      </button>\n",
              "      \n",
              "  <style>\n",
              "    .colab-df-container {\n",
              "      display:flex;\n",
              "      flex-wrap:wrap;\n",
              "      gap: 12px;\n",
              "    }\n",
              "\n",
              "    .colab-df-convert {\n",
              "      background-color: #E8F0FE;\n",
              "      border: none;\n",
              "      border-radius: 50%;\n",
              "      cursor: pointer;\n",
              "      display: none;\n",
              "      fill: #1967D2;\n",
              "      height: 32px;\n",
              "      padding: 0 0 0 0;\n",
              "      width: 32px;\n",
              "    }\n",
              "\n",
              "    .colab-df-convert:hover {\n",
              "      background-color: #E2EBFA;\n",
              "      box-shadow: 0px 1px 2px rgba(60, 64, 67, 0.3), 0px 1px 3px 1px rgba(60, 64, 67, 0.15);\n",
              "      fill: #174EA6;\n",
              "    }\n",
              "\n",
              "    [theme=dark] .colab-df-convert {\n",
              "      background-color: #3B4455;\n",
              "      fill: #D2E3FC;\n",
              "    }\n",
              "\n",
              "    [theme=dark] .colab-df-convert:hover {\n",
              "      background-color: #434B5C;\n",
              "      box-shadow: 0px 1px 3px 1px rgba(0, 0, 0, 0.15);\n",
              "      filter: drop-shadow(0px 1px 2px rgba(0, 0, 0, 0.3));\n",
              "      fill: #FFFFFF;\n",
              "    }\n",
              "  </style>\n",
              "\n",
              "      <script>\n",
              "        const buttonEl =\n",
              "          document.querySelector('#df-cf06d8b8-110f-4e3c-ae9c-909ac1d2cc98 button.colab-df-convert');\n",
              "        buttonEl.style.display =\n",
              "          google.colab.kernel.accessAllowed ? 'block' : 'none';\n",
              "\n",
              "        async function convertToInteractive(key) {\n",
              "          const element = document.querySelector('#df-cf06d8b8-110f-4e3c-ae9c-909ac1d2cc98');\n",
              "          const dataTable =\n",
              "            await google.colab.kernel.invokeFunction('convertToInteractive',\n",
              "                                                     [key], {});\n",
              "          if (!dataTable) return;\n",
              "\n",
              "          const docLinkHtml = 'Like what you see? Visit the ' +\n",
              "            '<a target=\"_blank\" href=https://colab.research.google.com/notebooks/data_table.ipynb>data table notebook</a>'\n",
              "            + ' to learn more about interactive tables.';\n",
              "          element.innerHTML = '';\n",
              "          dataTable['output_type'] = 'display_data';\n",
              "          await google.colab.output.renderOutput(dataTable, element);\n",
              "          const docLink = document.createElement('div');\n",
              "          docLink.innerHTML = docLinkHtml;\n",
              "          element.appendChild(docLink);\n",
              "        }\n",
              "      </script>\n",
              "    </div>\n",
              "  </div>\n",
              "  "
            ]
          },
          "metadata": {},
          "execution_count": 367
        }
      ]
    },
    {
      "cell_type": "code",
      "source": [
        "drop_f = df_train[\n",
        "    df_train.floor > df_train.max_floor].index.tolist()"
      ],
      "metadata": {
        "id": "SM0WbOrymc_L"
      },
      "execution_count": null,
      "outputs": []
    },
    {
      "cell_type": "code",
      "source": [
        "df_train = df_train.drop(axis = 0,index = drop_f)"
      ],
      "metadata": {
        "id": "a-ylqMSXnVZW"
      },
      "execution_count": null,
      "outputs": []
    },
    {
      "cell_type": "code",
      "source": [
        "df_train.describe()"
      ],
      "metadata": {
        "colab": {
          "base_uri": "https://localhost:8080/",
          "height": 297
        },
        "id": "eM7ty7I5oYGz",
        "outputId": "765902fa-e6b0-49e2-a0e1-b81115f62910"
      },
      "execution_count": null,
      "outputs": [
        {
          "output_type": "execute_result",
          "data": {
            "text/plain": [
              "                 id       full_sq       life_sq         floor     max_floor  \\\n",
              "count  23467.000000  23467.000000  23467.000000  23467.000000  23467.000000   \n",
              "mean   54748.636639     54.166617     30.919802      6.934973     12.980398   \n",
              "std    25971.267469     22.491026     14.078316      4.764427      5.170992   \n",
              "min    10001.000000     12.000000      0.000000      0.000000      0.000000   \n",
              "25%    32105.500000     39.000000     20.000000      3.000000      9.000000   \n",
              "50%    54768.000000     49.000000     30.000000      6.000000     12.000000   \n",
              "75%    77195.000000     63.000000     34.000000     10.000000     17.000000   \n",
              "max    99999.000000    731.000000    232.000000     44.000000     99.000000   \n",
              "\n",
              "           material    build_year      num_room      kitch_sq  \\\n",
              "count  23467.000000  2.346700e+04  23467.000000  23467.000000   \n",
              "mean       1.608088  2.797410e+03      1.943921      6.153322   \n",
              "std        1.307502  1.308844e+05      0.733121      3.340849   \n",
              "min        1.000000  0.000000e+00      0.000000      0.000000   \n",
              "25%        1.000000  1.973000e+03      1.000000      5.000000   \n",
              "50%        1.000000  1.979000e+03      2.000000      6.000000   \n",
              "75%        1.000000  1.985000e+03      2.000000      8.000000   \n",
              "max        6.000000  2.005201e+07     19.000000     58.000000   \n",
              "\n",
              "       apartment condition      sub_area         price          year  \\\n",
              "count         23467.000000  23467.000000  2.346700e+04  23467.000000   \n",
              "mean              2.124260     74.585801  7.500357e+06   2013.565049   \n",
              "std               0.673608     40.466533  4.949359e+06      0.963173   \n",
              "min               1.000000      0.000000  1.085000e+05   2011.000000   \n",
              "25%               2.000000     40.000000  5.105800e+06   2013.000000   \n",
              "50%               2.000000     72.000000  6.654300e+06   2014.000000   \n",
              "75%               2.000000    105.000000  8.753500e+06   2014.000000   \n",
              "max              33.000000    145.000000  1.124444e+08   2015.000000   \n",
              "\n",
              "       full_sq_bins  \n",
              "count   23467.00000  \n",
              "mean        3.82469  \n",
              "std         1.90088  \n",
              "min         1.00000  \n",
              "25%         2.00000  \n",
              "50%         3.00000  \n",
              "75%         5.00000  \n",
              "max        14.00000  "
            ],
            "text/html": [
              "\n",
              "  <div id=\"df-d4143084-9495-47e5-a7e1-4bfc31d76026\">\n",
              "    <div class=\"colab-df-container\">\n",
              "      <div>\n",
              "<style scoped>\n",
              "    .dataframe tbody tr th:only-of-type {\n",
              "        vertical-align: middle;\n",
              "    }\n",
              "\n",
              "    .dataframe tbody tr th {\n",
              "        vertical-align: top;\n",
              "    }\n",
              "\n",
              "    .dataframe thead th {\n",
              "        text-align: right;\n",
              "    }\n",
              "</style>\n",
              "<table border=\"1\" class=\"dataframe\">\n",
              "  <thead>\n",
              "    <tr style=\"text-align: right;\">\n",
              "      <th></th>\n",
              "      <th>id</th>\n",
              "      <th>full_sq</th>\n",
              "      <th>life_sq</th>\n",
              "      <th>floor</th>\n",
              "      <th>max_floor</th>\n",
              "      <th>material</th>\n",
              "      <th>build_year</th>\n",
              "      <th>num_room</th>\n",
              "      <th>kitch_sq</th>\n",
              "      <th>apartment condition</th>\n",
              "      <th>sub_area</th>\n",
              "      <th>price</th>\n",
              "      <th>year</th>\n",
              "      <th>full_sq_bins</th>\n",
              "    </tr>\n",
              "  </thead>\n",
              "  <tbody>\n",
              "    <tr>\n",
              "      <th>count</th>\n",
              "      <td>23467.000000</td>\n",
              "      <td>23467.000000</td>\n",
              "      <td>23467.000000</td>\n",
              "      <td>23467.000000</td>\n",
              "      <td>23467.000000</td>\n",
              "      <td>23467.000000</td>\n",
              "      <td>2.346700e+04</td>\n",
              "      <td>23467.000000</td>\n",
              "      <td>23467.000000</td>\n",
              "      <td>23467.000000</td>\n",
              "      <td>23467.000000</td>\n",
              "      <td>2.346700e+04</td>\n",
              "      <td>23467.000000</td>\n",
              "      <td>23467.00000</td>\n",
              "    </tr>\n",
              "    <tr>\n",
              "      <th>mean</th>\n",
              "      <td>54748.636639</td>\n",
              "      <td>54.166617</td>\n",
              "      <td>30.919802</td>\n",
              "      <td>6.934973</td>\n",
              "      <td>12.980398</td>\n",
              "      <td>1.608088</td>\n",
              "      <td>2.797410e+03</td>\n",
              "      <td>1.943921</td>\n",
              "      <td>6.153322</td>\n",
              "      <td>2.124260</td>\n",
              "      <td>74.585801</td>\n",
              "      <td>7.500357e+06</td>\n",
              "      <td>2013.565049</td>\n",
              "      <td>3.82469</td>\n",
              "    </tr>\n",
              "    <tr>\n",
              "      <th>std</th>\n",
              "      <td>25971.267469</td>\n",
              "      <td>22.491026</td>\n",
              "      <td>14.078316</td>\n",
              "      <td>4.764427</td>\n",
              "      <td>5.170992</td>\n",
              "      <td>1.307502</td>\n",
              "      <td>1.308844e+05</td>\n",
              "      <td>0.733121</td>\n",
              "      <td>3.340849</td>\n",
              "      <td>0.673608</td>\n",
              "      <td>40.466533</td>\n",
              "      <td>4.949359e+06</td>\n",
              "      <td>0.963173</td>\n",
              "      <td>1.90088</td>\n",
              "    </tr>\n",
              "    <tr>\n",
              "      <th>min</th>\n",
              "      <td>10001.000000</td>\n",
              "      <td>12.000000</td>\n",
              "      <td>0.000000</td>\n",
              "      <td>0.000000</td>\n",
              "      <td>0.000000</td>\n",
              "      <td>1.000000</td>\n",
              "      <td>0.000000e+00</td>\n",
              "      <td>0.000000</td>\n",
              "      <td>0.000000</td>\n",
              "      <td>1.000000</td>\n",
              "      <td>0.000000</td>\n",
              "      <td>1.085000e+05</td>\n",
              "      <td>2011.000000</td>\n",
              "      <td>1.00000</td>\n",
              "    </tr>\n",
              "    <tr>\n",
              "      <th>25%</th>\n",
              "      <td>32105.500000</td>\n",
              "      <td>39.000000</td>\n",
              "      <td>20.000000</td>\n",
              "      <td>3.000000</td>\n",
              "      <td>9.000000</td>\n",
              "      <td>1.000000</td>\n",
              "      <td>1.973000e+03</td>\n",
              "      <td>1.000000</td>\n",
              "      <td>5.000000</td>\n",
              "      <td>2.000000</td>\n",
              "      <td>40.000000</td>\n",
              "      <td>5.105800e+06</td>\n",
              "      <td>2013.000000</td>\n",
              "      <td>2.00000</td>\n",
              "    </tr>\n",
              "    <tr>\n",
              "      <th>50%</th>\n",
              "      <td>54768.000000</td>\n",
              "      <td>49.000000</td>\n",
              "      <td>30.000000</td>\n",
              "      <td>6.000000</td>\n",
              "      <td>12.000000</td>\n",
              "      <td>1.000000</td>\n",
              "      <td>1.979000e+03</td>\n",
              "      <td>2.000000</td>\n",
              "      <td>6.000000</td>\n",
              "      <td>2.000000</td>\n",
              "      <td>72.000000</td>\n",
              "      <td>6.654300e+06</td>\n",
              "      <td>2014.000000</td>\n",
              "      <td>3.00000</td>\n",
              "    </tr>\n",
              "    <tr>\n",
              "      <th>75%</th>\n",
              "      <td>77195.000000</td>\n",
              "      <td>63.000000</td>\n",
              "      <td>34.000000</td>\n",
              "      <td>10.000000</td>\n",
              "      <td>17.000000</td>\n",
              "      <td>1.000000</td>\n",
              "      <td>1.985000e+03</td>\n",
              "      <td>2.000000</td>\n",
              "      <td>8.000000</td>\n",
              "      <td>2.000000</td>\n",
              "      <td>105.000000</td>\n",
              "      <td>8.753500e+06</td>\n",
              "      <td>2014.000000</td>\n",
              "      <td>5.00000</td>\n",
              "    </tr>\n",
              "    <tr>\n",
              "      <th>max</th>\n",
              "      <td>99999.000000</td>\n",
              "      <td>731.000000</td>\n",
              "      <td>232.000000</td>\n",
              "      <td>44.000000</td>\n",
              "      <td>99.000000</td>\n",
              "      <td>6.000000</td>\n",
              "      <td>2.005201e+07</td>\n",
              "      <td>19.000000</td>\n",
              "      <td>58.000000</td>\n",
              "      <td>33.000000</td>\n",
              "      <td>145.000000</td>\n",
              "      <td>1.124444e+08</td>\n",
              "      <td>2015.000000</td>\n",
              "      <td>14.00000</td>\n",
              "    </tr>\n",
              "  </tbody>\n",
              "</table>\n",
              "</div>\n",
              "      <button class=\"colab-df-convert\" onclick=\"convertToInteractive('df-d4143084-9495-47e5-a7e1-4bfc31d76026')\"\n",
              "              title=\"Convert this dataframe to an interactive table.\"\n",
              "              style=\"display:none;\">\n",
              "        \n",
              "  <svg xmlns=\"http://www.w3.org/2000/svg\" height=\"24px\"viewBox=\"0 0 24 24\"\n",
              "       width=\"24px\">\n",
              "    <path d=\"M0 0h24v24H0V0z\" fill=\"none\"/>\n",
              "    <path d=\"M18.56 5.44l.94 2.06.94-2.06 2.06-.94-2.06-.94-.94-2.06-.94 2.06-2.06.94zm-11 1L8.5 8.5l.94-2.06 2.06-.94-2.06-.94L8.5 2.5l-.94 2.06-2.06.94zm10 10l.94 2.06.94-2.06 2.06-.94-2.06-.94-.94-2.06-.94 2.06-2.06.94z\"/><path d=\"M17.41 7.96l-1.37-1.37c-.4-.4-.92-.59-1.43-.59-.52 0-1.04.2-1.43.59L10.3 9.45l-7.72 7.72c-.78.78-.78 2.05 0 2.83L4 21.41c.39.39.9.59 1.41.59.51 0 1.02-.2 1.41-.59l7.78-7.78 2.81-2.81c.8-.78.8-2.07 0-2.86zM5.41 20L4 18.59l7.72-7.72 1.47 1.35L5.41 20z\"/>\n",
              "  </svg>\n",
              "      </button>\n",
              "      \n",
              "  <style>\n",
              "    .colab-df-container {\n",
              "      display:flex;\n",
              "      flex-wrap:wrap;\n",
              "      gap: 12px;\n",
              "    }\n",
              "\n",
              "    .colab-df-convert {\n",
              "      background-color: #E8F0FE;\n",
              "      border: none;\n",
              "      border-radius: 50%;\n",
              "      cursor: pointer;\n",
              "      display: none;\n",
              "      fill: #1967D2;\n",
              "      height: 32px;\n",
              "      padding: 0 0 0 0;\n",
              "      width: 32px;\n",
              "    }\n",
              "\n",
              "    .colab-df-convert:hover {\n",
              "      background-color: #E2EBFA;\n",
              "      box-shadow: 0px 1px 2px rgba(60, 64, 67, 0.3), 0px 1px 3px 1px rgba(60, 64, 67, 0.15);\n",
              "      fill: #174EA6;\n",
              "    }\n",
              "\n",
              "    [theme=dark] .colab-df-convert {\n",
              "      background-color: #3B4455;\n",
              "      fill: #D2E3FC;\n",
              "    }\n",
              "\n",
              "    [theme=dark] .colab-df-convert:hover {\n",
              "      background-color: #434B5C;\n",
              "      box-shadow: 0px 1px 3px 1px rgba(0, 0, 0, 0.15);\n",
              "      filter: drop-shadow(0px 1px 2px rgba(0, 0, 0, 0.3));\n",
              "      fill: #FFFFFF;\n",
              "    }\n",
              "  </style>\n",
              "\n",
              "      <script>\n",
              "        const buttonEl =\n",
              "          document.querySelector('#df-d4143084-9495-47e5-a7e1-4bfc31d76026 button.colab-df-convert');\n",
              "        buttonEl.style.display =\n",
              "          google.colab.kernel.accessAllowed ? 'block' : 'none';\n",
              "\n",
              "        async function convertToInteractive(key) {\n",
              "          const element = document.querySelector('#df-d4143084-9495-47e5-a7e1-4bfc31d76026');\n",
              "          const dataTable =\n",
              "            await google.colab.kernel.invokeFunction('convertToInteractive',\n",
              "                                                     [key], {});\n",
              "          if (!dataTable) return;\n",
              "\n",
              "          const docLinkHtml = 'Like what you see? Visit the ' +\n",
              "            '<a target=\"_blank\" href=https://colab.research.google.com/notebooks/data_table.ipynb>data table notebook</a>'\n",
              "            + ' to learn more about interactive tables.';\n",
              "          element.innerHTML = '';\n",
              "          dataTable['output_type'] = 'display_data';\n",
              "          await google.colab.output.renderOutput(dataTable, element);\n",
              "          const docLink = document.createElement('div');\n",
              "          docLink.innerHTML = docLinkHtml;\n",
              "          element.appendChild(docLink);\n",
              "        }\n",
              "      </script>\n",
              "    </div>\n",
              "  </div>\n",
              "  "
            ]
          },
          "metadata": {},
          "execution_count": 370
        }
      ]
    },
    {
      "cell_type": "code",
      "source": [
        "drop_l = df_train[\n",
        "    df_train.life_sq < 5\n",
        "].index.tolist()"
      ],
      "metadata": {
        "id": "ZJverwuaoouT"
      },
      "execution_count": null,
      "outputs": []
    },
    {
      "cell_type": "code",
      "source": [
        "df_train = df_train.drop(axis = 0,index = drop_l)"
      ],
      "metadata": {
        "id": "wu8rZUFOpArn"
      },
      "execution_count": null,
      "outputs": []
    },
    {
      "cell_type": "code",
      "source": [
        "drop_k = df_train[\n",
        "    df_train.kitch_sq < 5\n",
        "].index.tolist()"
      ],
      "metadata": {
        "id": "YbMyeTKxpOzs"
      },
      "execution_count": null,
      "outputs": []
    },
    {
      "cell_type": "code",
      "source": [
        "df_train = df_train.drop(axis = 0,index = drop_k)"
      ],
      "metadata": {
        "id": "1fB2WnS2pT7B"
      },
      "execution_count": null,
      "outputs": []
    },
    {
      "cell_type": "code",
      "source": [
        "drop_f_l = df_train[\n",
        "    df_train.floor == 0\n",
        "].index.tolist()"
      ],
      "metadata": {
        "id": "AOl_QP0kpVwD"
      },
      "execution_count": null,
      "outputs": []
    },
    {
      "cell_type": "code",
      "source": [
        "drop_f_m = df_train[\n",
        "    df_train.max_floor == 0\n",
        "].index.tolist()"
      ],
      "metadata": {
        "id": "5bfk-MnYpdC4"
      },
      "execution_count": null,
      "outputs": []
    },
    {
      "cell_type": "code",
      "source": [
        "df_train = df_train.drop(axis = 0,index = drop_f_l)"
      ],
      "metadata": {
        "id": "Iskte8yupgZd"
      },
      "execution_count": null,
      "outputs": []
    },
    {
      "cell_type": "code",
      "source": [
        "df_train = df_train.drop(axis = 0,index = drop_f_m)"
      ],
      "metadata": {
        "id": "ToG4tc9XpjSu"
      },
      "execution_count": null,
      "outputs": []
    },
    {
      "cell_type": "code",
      "source": [],
      "metadata": {
        "id": "ntKefTGVtfEu"
      },
      "execution_count": null,
      "outputs": []
    },
    {
      "cell_type": "markdown",
      "source": [
        "# Моделирование\n"
      ],
      "metadata": {
        "id": "jSRBU4lAtfu5"
      }
    },
    {
      "cell_type": "code",
      "source": [
        "import xgboost as xgb"
      ],
      "metadata": {
        "id": "oJpYtQQ-pneV"
      },
      "execution_count": null,
      "outputs": []
    },
    {
      "cell_type": "code",
      "source": [
        "xgb_params = {\n",
        "    'eta': 0.05,\n",
        "    'max_depth': 4,\n",
        "    'subsample': 0.7,\n",
        "    'colsample_bytree': 0.7,\n",
        "    'objective': 'reg:linear',\n",
        "    'eval_metric': 'rmse',\n",
        "    'min_child_weight':1,\n",
        "    'silent': 1,\n",
        "    'seed':0\n",
        "}"
      ],
      "metadata": {
        "id": "EsXjlhRZqiR_"
      },
      "execution_count": null,
      "outputs": []
    },
    {
      "cell_type": "code",
      "source": [
        "df_train.timestamp.describe()"
      ],
      "metadata": {
        "colab": {
          "base_uri": "https://localhost:8080/"
        },
        "id": "xoh0xQdYqkec",
        "outputId": "456bb251-1262-459c-9b6d-550021dffbfb"
      },
      "execution_count": null,
      "outputs": [
        {
          "output_type": "stream",
          "name": "stderr",
          "text": [
            "/usr/local/lib/python3.7/dist-packages/ipykernel_launcher.py:1: FutureWarning: Treating datetime data as categorical rather than numeric in `.describe` is deprecated and will be removed in a future version of pandas. Specify `datetime_is_numeric=True` to silence this warning and adopt the future behavior now.\n",
            "  \"\"\"Entry point for launching an IPython kernel.\n"
          ]
        },
        {
          "output_type": "execute_result",
          "data": {
            "text/plain": [
              "count                   19173\n",
              "unique                   1403\n",
              "top       2014-12-21 00:00:00\n",
              "freq                       48\n",
              "first     2011-09-06 00:00:00\n",
              "last      2015-07-30 00:00:00\n",
              "Name: timestamp, dtype: object"
            ]
          },
          "metadata": {},
          "execution_count": 381
        }
      ]
    },
    {
      "cell_type": "code",
      "source": [
        "df_train= df_train.merge(df_train_ad,how = \"left\",on = \"id\")"
      ],
      "metadata": {
        "id": "yP1MbTqXrVmM"
      },
      "execution_count": null,
      "outputs": []
    },
    {
      "cell_type": "code",
      "source": [
        "train_X = df_train[df_train.timestamp < pd.to_datetime('2015-05-01')]\n",
        "train_y = df_train[df_train.timestamp < pd.to_datetime('2015-05-01')].price\n",
        "val_X = df_train.drop(['price','timestamp'], axis=1)[df_train.timestamp >= pd.to_datetime('2015-05-01')]\n",
        "val_y =df_train[df_train.timestamp >= pd.to_datetime('2015-05-01')].price"
      ],
      "metadata": {
        "id": "xmkkCzAOqsvG"
      },
      "execution_count": null,
      "outputs": []
    },
    {
      "cell_type": "code",
      "source": [
        "col_list = df_train.drop(axis = 1,columns = [\"id\",\"timestamp\",\"year_month\",\"price\"]).columns "
      ],
      "metadata": {
        "id": "AIyDtDK2rCh3"
      },
      "execution_count": null,
      "outputs": []
    },
    {
      "cell_type": "code",
      "source": [
        "xgb_train = xgb.DMatrix(train_X[col_list], train_y, feature_names = col_list)\n",
        "xgb_test = xgb.DMatrix(val_X[col_list], val_y, feature_names = col_list)"
      ],
      "metadata": {
        "id": "0XlyIyt4rLu7"
      },
      "execution_count": null,
      "outputs": []
    },
    {
      "cell_type": "code",
      "source": [
        "evallist = [(xgb_test, 'eval'), (xgb_train, 'train')]"
      ],
      "metadata": {
        "id": "XFifinJxrr35"
      },
      "execution_count": null,
      "outputs": []
    },
    {
      "cell_type": "code",
      "source": [
        "model = xgb.train(params = xgb_params,\n",
        "                  dtrain = xgb_train, \n",
        "                  num_boost_round = 600, \n",
        "                  evals = evallist, \n",
        "                  early_stopping_rounds = 10, \n",
        "                  verbose_eval = 10)"
      ],
      "metadata": {
        "colab": {
          "base_uri": "https://localhost:8080/"
        },
        "id": "tPSzzsU_rujM",
        "outputId": "6eb4bafb-7647-41c9-f5de-ab55461e9a91"
      },
      "execution_count": null,
      "outputs": [
        {
          "output_type": "stream",
          "name": "stdout",
          "text": [
            "[0]\teval-rmse:1.0718e+07\ttrain-rmse:8.78043e+06\n",
            "Multiple eval metrics have been passed: 'train-rmse' will be used for early stopping.\n",
            "\n",
            "Will train until train-rmse hasn't improved in 10 rounds.\n",
            "[10]\teval-rmse:7.44472e+06\ttrain-rmse:5.95710e+06\n",
            "[20]\teval-rmse:5.60621e+06\ttrain-rmse:4.45198e+06\n",
            "[30]\teval-rmse:4.63864e+06\ttrain-rmse:3.6977e+06\n",
            "[40]\teval-rmse:4.18896e+06\ttrain-rmse:3.33179e+06\n",
            "[50]\teval-rmse:3.9056e+06\ttrain-rmse:3.14621e+06\n",
            "[60]\teval-rmse:3.76949e+06\ttrain-rmse:3.04463e+06\n",
            "[70]\teval-rmse:3.69761e+06\ttrain-rmse:2.9839e+06\n",
            "[80]\teval-rmse:3.63549e+06\ttrain-rmse:2.94116e+06\n",
            "[90]\teval-rmse:3.58289e+06\ttrain-rmse:2.89944e+06\n",
            "[100]\teval-rmse:3.54792e+06\ttrain-rmse:2.86936e+06\n",
            "[110]\teval-rmse:3.49429e+06\ttrain-rmse:2.84098e+06\n",
            "[120]\teval-rmse:3.49307e+06\ttrain-rmse:2.81976e+06\n",
            "[130]\teval-rmse:3.46878e+06\ttrain-rmse:2.79906e+06\n",
            "[140]\teval-rmse:3.45515e+06\ttrain-rmse:2.78097e+06\n",
            "[150]\teval-rmse:3.44846e+06\ttrain-rmse:2.76513e+06\n",
            "[160]\teval-rmse:3.4387e+06\ttrain-rmse:2.75236e+06\n",
            "[170]\teval-rmse:3.42426e+06\ttrain-rmse:2.73528e+06\n",
            "[180]\teval-rmse:3.41293e+06\ttrain-rmse:2.71848e+06\n",
            "[190]\teval-rmse:3.40751e+06\ttrain-rmse:2.70576e+06\n",
            "[200]\teval-rmse:3.39114e+06\ttrain-rmse:2.69463e+06\n",
            "[210]\teval-rmse:3.38607e+06\ttrain-rmse:2.68352e+06\n",
            "[220]\teval-rmse:3.37519e+06\ttrain-rmse:2.67034e+06\n",
            "[230]\teval-rmse:3.36263e+06\ttrain-rmse:2.6577e+06\n",
            "[240]\teval-rmse:3.35794e+06\ttrain-rmse:2.6474e+06\n",
            "[250]\teval-rmse:3.35793e+06\ttrain-rmse:2.63632e+06\n",
            "[260]\teval-rmse:3.3528e+06\ttrain-rmse:2.62519e+06\n",
            "[270]\teval-rmse:3.35331e+06\ttrain-rmse:2.61503e+06\n",
            "[280]\teval-rmse:3.34128e+06\ttrain-rmse:2.60648e+06\n",
            "[290]\teval-rmse:3.33616e+06\ttrain-rmse:2.59734e+06\n",
            "[300]\teval-rmse:3.33003e+06\ttrain-rmse:2.58603e+06\n",
            "[310]\teval-rmse:3.32164e+06\ttrain-rmse:2.57636e+06\n",
            "[320]\teval-rmse:3.32828e+06\ttrain-rmse:2.56932e+06\n",
            "[330]\teval-rmse:3.31791e+06\ttrain-rmse:2.56148e+06\n",
            "[340]\teval-rmse:3.31666e+06\ttrain-rmse:2.55329e+06\n",
            "[350]\teval-rmse:3.32905e+06\ttrain-rmse:2.54098e+06\n",
            "[360]\teval-rmse:3.32216e+06\ttrain-rmse:2.53402e+06\n",
            "[370]\teval-rmse:3.32244e+06\ttrain-rmse:2.52746e+06\n",
            "[380]\teval-rmse:3.33103e+06\ttrain-rmse:2.51981e+06\n",
            "[390]\teval-rmse:3.32334e+06\ttrain-rmse:2.50592e+06\n",
            "[400]\teval-rmse:3.32396e+06\ttrain-rmse:2.49841e+06\n",
            "[410]\teval-rmse:3.31455e+06\ttrain-rmse:2.493e+06\n",
            "[420]\teval-rmse:3.30695e+06\ttrain-rmse:2.48503e+06\n",
            "[430]\teval-rmse:3.30403e+06\ttrain-rmse:2.47926e+06\n",
            "[440]\teval-rmse:3.31021e+06\ttrain-rmse:2.4735e+06\n",
            "[450]\teval-rmse:3.31744e+06\ttrain-rmse:2.46728e+06\n",
            "[460]\teval-rmse:3.3229e+06\ttrain-rmse:2.46136e+06\n",
            "[470]\teval-rmse:3.31504e+06\ttrain-rmse:2.4549e+06\n",
            "[480]\teval-rmse:3.31521e+06\ttrain-rmse:2.44967e+06\n",
            "[490]\teval-rmse:3.31379e+06\ttrain-rmse:2.44404e+06\n",
            "[500]\teval-rmse:3.31227e+06\ttrain-rmse:2.43688e+06\n",
            "[510]\teval-rmse:3.31084e+06\ttrain-rmse:2.43099e+06\n",
            "[520]\teval-rmse:3.3098e+06\ttrain-rmse:2.42450e+06\n",
            "[530]\teval-rmse:3.30017e+06\ttrain-rmse:2.41907e+06\n",
            "[540]\teval-rmse:3.29957e+06\ttrain-rmse:2.41317e+06\n",
            "[550]\teval-rmse:3.29407e+06\ttrain-rmse:2.40651e+06\n",
            "[560]\teval-rmse:3.28085e+06\ttrain-rmse:2.40226e+06\n",
            "[570]\teval-rmse:3.28524e+06\ttrain-rmse:2.39596e+06\n",
            "[580]\teval-rmse:3.28708e+06\ttrain-rmse:2.39006e+06\n",
            "[590]\teval-rmse:3.29099e+06\ttrain-rmse:2.38415e+06\n",
            "[599]\teval-rmse:3.2892e+06\ttrain-rmse:2.3803e+06\n"
          ]
        }
      ]
    },
    {
      "cell_type": "code",
      "source": [
        "from xgboost import plot_importance "
      ],
      "metadata": {
        "colab": {
          "base_uri": "https://localhost:8080/",
          "height": 426
        },
        "id": "h_E3k0knsd9k",
        "outputId": "713defb6-6ddd-45e8-9e96-866d873e0737"
      },
      "execution_count": null,
      "outputs": [
        {
          "output_type": "error",
          "ename": "TypeError",
          "evalue": "ignored",
          "traceback": [
            "\u001b[0;31m---------------------------------------------------------------------------\u001b[0m",
            "\u001b[0;31mValueError\u001b[0m                                Traceback (most recent call last)",
            "\u001b[0;32m/usr/local/lib/python3.7/dist-packages/pandas/core/nanops.py\u001b[0m in \u001b[0;36mnanmedian\u001b[0;34m(values, axis, skipna, mask)\u001b[0m\n\u001b[1;32m    719\u001b[0m         \u001b[0;32mtry\u001b[0m\u001b[0;34m:\u001b[0m\u001b[0;34m\u001b[0m\u001b[0;34m\u001b[0m\u001b[0m\n\u001b[0;32m--> 720\u001b[0;31m             \u001b[0mvalues\u001b[0m \u001b[0;34m=\u001b[0m \u001b[0mvalues\u001b[0m\u001b[0;34m.\u001b[0m\u001b[0mastype\u001b[0m\u001b[0;34m(\u001b[0m\u001b[0;34m\"f8\"\u001b[0m\u001b[0;34m)\u001b[0m\u001b[0;34m\u001b[0m\u001b[0;34m\u001b[0m\u001b[0m\n\u001b[0m\u001b[1;32m    721\u001b[0m         \u001b[0;32mexcept\u001b[0m \u001b[0mValueError\u001b[0m \u001b[0;32mas\u001b[0m \u001b[0merr\u001b[0m\u001b[0;34m:\u001b[0m\u001b[0;34m\u001b[0m\u001b[0;34m\u001b[0m\u001b[0m\n",
            "\u001b[0;31mValueError\u001b[0m: could not convert string to float: '2014-04-20'",
            "\nThe above exception was the direct cause of the following exception:\n",
            "\u001b[0;31mTypeError\u001b[0m                                 Traceback (most recent call last)",
            "\u001b[0;32m<ipython-input-388-7d481057707e>\u001b[0m in \u001b[0;36m<module>\u001b[0;34m\u001b[0m\n\u001b[1;32m      1\u001b[0m \u001b[0;32mfor\u001b[0m \u001b[0mcol\u001b[0m \u001b[0;32min\u001b[0m \u001b[0mdf_test\u001b[0m\u001b[0;34m.\u001b[0m\u001b[0mcolumns\u001b[0m\u001b[0;34m:\u001b[0m\u001b[0;34m\u001b[0m\u001b[0;34m\u001b[0m\u001b[0m\n\u001b[0;32m----> 2\u001b[0;31m   \u001b[0mdf_test\u001b[0m\u001b[0;34m[\u001b[0m\u001b[0mcol\u001b[0m\u001b[0;34m]\u001b[0m \u001b[0;34m=\u001b[0m \u001b[0mdf_test\u001b[0m\u001b[0;34m[\u001b[0m\u001b[0mcol\u001b[0m\u001b[0;34m]\u001b[0m\u001b[0;34m.\u001b[0m\u001b[0mfillna\u001b[0m\u001b[0;34m(\u001b[0m\u001b[0mdf_test\u001b[0m\u001b[0;34m[\u001b[0m\u001b[0mcol\u001b[0m\u001b[0;34m]\u001b[0m\u001b[0;34m.\u001b[0m\u001b[0mmedian\u001b[0m\u001b[0;34m(\u001b[0m\u001b[0;34m)\u001b[0m\u001b[0;34m)\u001b[0m\u001b[0;34m\u001b[0m\u001b[0;34m\u001b[0m\u001b[0m\n\u001b[0m",
            "\u001b[0;32m/usr/local/lib/python3.7/dist-packages/pandas/core/generic.py\u001b[0m in \u001b[0;36mmedian\u001b[0;34m(self, axis, skipna, level, numeric_only, **kwargs)\u001b[0m\n\u001b[1;32m  10800\u001b[0m             \u001b[0mself\u001b[0m\u001b[0;34m,\u001b[0m \u001b[0maxis\u001b[0m\u001b[0;34m=\u001b[0m\u001b[0;32mNone\u001b[0m\u001b[0;34m,\u001b[0m \u001b[0mskipna\u001b[0m\u001b[0;34m=\u001b[0m\u001b[0;32mNone\u001b[0m\u001b[0;34m,\u001b[0m \u001b[0mlevel\u001b[0m\u001b[0;34m=\u001b[0m\u001b[0;32mNone\u001b[0m\u001b[0;34m,\u001b[0m \u001b[0mnumeric_only\u001b[0m\u001b[0;34m=\u001b[0m\u001b[0;32mNone\u001b[0m\u001b[0;34m,\u001b[0m \u001b[0;34m**\u001b[0m\u001b[0mkwargs\u001b[0m\u001b[0;34m\u001b[0m\u001b[0;34m\u001b[0m\u001b[0m\n\u001b[1;32m  10801\u001b[0m         ):\n\u001b[0;32m> 10802\u001b[0;31m             \u001b[0;32mreturn\u001b[0m \u001b[0mNDFrame\u001b[0m\u001b[0;34m.\u001b[0m\u001b[0mmedian\u001b[0m\u001b[0;34m(\u001b[0m\u001b[0mself\u001b[0m\u001b[0;34m,\u001b[0m \u001b[0maxis\u001b[0m\u001b[0;34m,\u001b[0m \u001b[0mskipna\u001b[0m\u001b[0;34m,\u001b[0m \u001b[0mlevel\u001b[0m\u001b[0;34m,\u001b[0m \u001b[0mnumeric_only\u001b[0m\u001b[0;34m,\u001b[0m \u001b[0;34m**\u001b[0m\u001b[0mkwargs\u001b[0m\u001b[0;34m)\u001b[0m\u001b[0;34m\u001b[0m\u001b[0;34m\u001b[0m\u001b[0m\n\u001b[0m\u001b[1;32m  10803\u001b[0m \u001b[0;34m\u001b[0m\u001b[0m\n\u001b[1;32m  10804\u001b[0m         \u001b[0msetattr\u001b[0m\u001b[0;34m(\u001b[0m\u001b[0mcls\u001b[0m\u001b[0;34m,\u001b[0m \u001b[0;34m\"median\"\u001b[0m\u001b[0;34m,\u001b[0m \u001b[0mmedian\u001b[0m\u001b[0;34m)\u001b[0m\u001b[0;34m\u001b[0m\u001b[0;34m\u001b[0m\u001b[0m\n",
            "\u001b[0;32m/usr/local/lib/python3.7/dist-packages/pandas/core/generic.py\u001b[0m in \u001b[0;36mmedian\u001b[0;34m(self, axis, skipna, level, numeric_only, **kwargs)\u001b[0m\n\u001b[1;32m  10373\u001b[0m     \u001b[0;32mdef\u001b[0m \u001b[0mmedian\u001b[0m\u001b[0;34m(\u001b[0m\u001b[0mself\u001b[0m\u001b[0;34m,\u001b[0m \u001b[0maxis\u001b[0m\u001b[0;34m=\u001b[0m\u001b[0;32mNone\u001b[0m\u001b[0;34m,\u001b[0m \u001b[0mskipna\u001b[0m\u001b[0;34m=\u001b[0m\u001b[0;32mNone\u001b[0m\u001b[0;34m,\u001b[0m \u001b[0mlevel\u001b[0m\u001b[0;34m=\u001b[0m\u001b[0;32mNone\u001b[0m\u001b[0;34m,\u001b[0m \u001b[0mnumeric_only\u001b[0m\u001b[0;34m=\u001b[0m\u001b[0;32mNone\u001b[0m\u001b[0;34m,\u001b[0m \u001b[0;34m**\u001b[0m\u001b[0mkwargs\u001b[0m\u001b[0;34m)\u001b[0m\u001b[0;34m:\u001b[0m\u001b[0;34m\u001b[0m\u001b[0;34m\u001b[0m\u001b[0m\n\u001b[1;32m  10374\u001b[0m         return self._stat_function(\n\u001b[0;32m> 10375\u001b[0;31m             \u001b[0;34m\"median\"\u001b[0m\u001b[0;34m,\u001b[0m \u001b[0mnanops\u001b[0m\u001b[0;34m.\u001b[0m\u001b[0mnanmedian\u001b[0m\u001b[0;34m,\u001b[0m \u001b[0maxis\u001b[0m\u001b[0;34m,\u001b[0m \u001b[0mskipna\u001b[0m\u001b[0;34m,\u001b[0m \u001b[0mlevel\u001b[0m\u001b[0;34m,\u001b[0m \u001b[0mnumeric_only\u001b[0m\u001b[0;34m,\u001b[0m \u001b[0;34m**\u001b[0m\u001b[0mkwargs\u001b[0m\u001b[0;34m\u001b[0m\u001b[0;34m\u001b[0m\u001b[0m\n\u001b[0m\u001b[1;32m  10376\u001b[0m         )\n\u001b[1;32m  10377\u001b[0m \u001b[0;34m\u001b[0m\u001b[0m\n",
            "\u001b[0;32m/usr/local/lib/python3.7/dist-packages/pandas/core/generic.py\u001b[0m in \u001b[0;36m_stat_function\u001b[0;34m(self, name, func, axis, skipna, level, numeric_only, **kwargs)\u001b[0m\n\u001b[1;32m  10353\u001b[0m             )\n\u001b[1;32m  10354\u001b[0m         return self._reduce(\n\u001b[0;32m> 10355\u001b[0;31m             \u001b[0mfunc\u001b[0m\u001b[0;34m,\u001b[0m \u001b[0mname\u001b[0m\u001b[0;34m=\u001b[0m\u001b[0mname\u001b[0m\u001b[0;34m,\u001b[0m \u001b[0maxis\u001b[0m\u001b[0;34m=\u001b[0m\u001b[0maxis\u001b[0m\u001b[0;34m,\u001b[0m \u001b[0mskipna\u001b[0m\u001b[0;34m=\u001b[0m\u001b[0mskipna\u001b[0m\u001b[0;34m,\u001b[0m \u001b[0mnumeric_only\u001b[0m\u001b[0;34m=\u001b[0m\u001b[0mnumeric_only\u001b[0m\u001b[0;34m\u001b[0m\u001b[0;34m\u001b[0m\u001b[0m\n\u001b[0m\u001b[1;32m  10356\u001b[0m         )\n\u001b[1;32m  10357\u001b[0m \u001b[0;34m\u001b[0m\u001b[0m\n",
            "\u001b[0;32m/usr/local/lib/python3.7/dist-packages/pandas/core/series.py\u001b[0m in \u001b[0;36m_reduce\u001b[0;34m(self, op, name, axis, skipna, numeric_only, filter_type, **kwds)\u001b[0m\n\u001b[1;32m   4390\u001b[0m                 )\n\u001b[1;32m   4391\u001b[0m             \u001b[0;32mwith\u001b[0m \u001b[0mnp\u001b[0m\u001b[0;34m.\u001b[0m\u001b[0merrstate\u001b[0m\u001b[0;34m(\u001b[0m\u001b[0mall\u001b[0m\u001b[0;34m=\u001b[0m\u001b[0;34m\"ignore\"\u001b[0m\u001b[0;34m)\u001b[0m\u001b[0;34m:\u001b[0m\u001b[0;34m\u001b[0m\u001b[0;34m\u001b[0m\u001b[0m\n\u001b[0;32m-> 4392\u001b[0;31m                 \u001b[0;32mreturn\u001b[0m \u001b[0mop\u001b[0m\u001b[0;34m(\u001b[0m\u001b[0mdelegate\u001b[0m\u001b[0;34m,\u001b[0m \u001b[0mskipna\u001b[0m\u001b[0;34m=\u001b[0m\u001b[0mskipna\u001b[0m\u001b[0;34m,\u001b[0m \u001b[0;34m**\u001b[0m\u001b[0mkwds\u001b[0m\u001b[0;34m)\u001b[0m\u001b[0;34m\u001b[0m\u001b[0;34m\u001b[0m\u001b[0m\n\u001b[0m\u001b[1;32m   4393\u001b[0m \u001b[0;34m\u001b[0m\u001b[0m\n\u001b[1;32m   4394\u001b[0m     def _reindex_indexer(\n",
            "\u001b[0;32m/usr/local/lib/python3.7/dist-packages/pandas/core/nanops.py\u001b[0m in \u001b[0;36mf\u001b[0;34m(values, axis, skipna, **kwds)\u001b[0m\n\u001b[1;32m    154\u001b[0m                     \u001b[0mresult\u001b[0m \u001b[0;34m=\u001b[0m \u001b[0malt\u001b[0m\u001b[0;34m(\u001b[0m\u001b[0mvalues\u001b[0m\u001b[0;34m,\u001b[0m \u001b[0maxis\u001b[0m\u001b[0;34m=\u001b[0m\u001b[0maxis\u001b[0m\u001b[0;34m,\u001b[0m \u001b[0mskipna\u001b[0m\u001b[0;34m=\u001b[0m\u001b[0mskipna\u001b[0m\u001b[0;34m,\u001b[0m \u001b[0;34m**\u001b[0m\u001b[0mkwds\u001b[0m\u001b[0;34m)\u001b[0m\u001b[0;34m\u001b[0m\u001b[0;34m\u001b[0m\u001b[0m\n\u001b[1;32m    155\u001b[0m             \u001b[0;32melse\u001b[0m\u001b[0;34m:\u001b[0m\u001b[0;34m\u001b[0m\u001b[0;34m\u001b[0m\u001b[0m\n\u001b[0;32m--> 156\u001b[0;31m                 \u001b[0mresult\u001b[0m \u001b[0;34m=\u001b[0m \u001b[0malt\u001b[0m\u001b[0;34m(\u001b[0m\u001b[0mvalues\u001b[0m\u001b[0;34m,\u001b[0m \u001b[0maxis\u001b[0m\u001b[0;34m=\u001b[0m\u001b[0maxis\u001b[0m\u001b[0;34m,\u001b[0m \u001b[0mskipna\u001b[0m\u001b[0;34m=\u001b[0m\u001b[0mskipna\u001b[0m\u001b[0;34m,\u001b[0m \u001b[0;34m**\u001b[0m\u001b[0mkwds\u001b[0m\u001b[0;34m)\u001b[0m\u001b[0;34m\u001b[0m\u001b[0;34m\u001b[0m\u001b[0m\n\u001b[0m\u001b[1;32m    157\u001b[0m \u001b[0;34m\u001b[0m\u001b[0m\n\u001b[1;32m    158\u001b[0m             \u001b[0;32mreturn\u001b[0m \u001b[0mresult\u001b[0m\u001b[0;34m\u001b[0m\u001b[0;34m\u001b[0m\u001b[0m\n",
            "\u001b[0;32m/usr/local/lib/python3.7/dist-packages/pandas/core/nanops.py\u001b[0m in \u001b[0;36mnanmedian\u001b[0;34m(values, axis, skipna, mask)\u001b[0m\n\u001b[1;32m    721\u001b[0m         \u001b[0;32mexcept\u001b[0m \u001b[0mValueError\u001b[0m \u001b[0;32mas\u001b[0m \u001b[0merr\u001b[0m\u001b[0;34m:\u001b[0m\u001b[0;34m\u001b[0m\u001b[0;34m\u001b[0m\u001b[0m\n\u001b[1;32m    722\u001b[0m             \u001b[0;31m# e.g. \"could not convert string to float: 'a'\"\u001b[0m\u001b[0;34m\u001b[0m\u001b[0;34m\u001b[0m\u001b[0;34m\u001b[0m\u001b[0m\n\u001b[0;32m--> 723\u001b[0;31m             \u001b[0;32mraise\u001b[0m \u001b[0mTypeError\u001b[0m\u001b[0;34m(\u001b[0m\u001b[0mstr\u001b[0m\u001b[0;34m(\u001b[0m\u001b[0merr\u001b[0m\u001b[0;34m)\u001b[0m\u001b[0;34m)\u001b[0m \u001b[0;32mfrom\u001b[0m \u001b[0merr\u001b[0m\u001b[0;34m\u001b[0m\u001b[0;34m\u001b[0m\u001b[0m\n\u001b[0m\u001b[1;32m    724\u001b[0m         \u001b[0;32mif\u001b[0m \u001b[0mmask\u001b[0m \u001b[0;32mis\u001b[0m \u001b[0;32mnot\u001b[0m \u001b[0;32mNone\u001b[0m\u001b[0;34m:\u001b[0m\u001b[0;34m\u001b[0m\u001b[0;34m\u001b[0m\u001b[0m\n\u001b[1;32m    725\u001b[0m             \u001b[0mvalues\u001b[0m\u001b[0;34m[\u001b[0m\u001b[0mmask\u001b[0m\u001b[0;34m]\u001b[0m \u001b[0;34m=\u001b[0m \u001b[0mnp\u001b[0m\u001b[0;34m.\u001b[0m\u001b[0mnan\u001b[0m\u001b[0;34m\u001b[0m\u001b[0;34m\u001b[0m\u001b[0m\n",
            "\u001b[0;31mTypeError\u001b[0m: could not convert string to float: '2014-04-20'"
          ]
        }
      ]
    },
    {
      "cell_type": "code",
      "source": [
        "plot_importance(model,max_num_features=15, height=0.9)"
      ],
      "metadata": {
        "colab": {
          "base_uri": "https://localhost:8080/",
          "height": 312
        },
        "id": "4OiaeHoatRDw",
        "outputId": "f856b2d1-5127-486f-af0b-20548d1e6f1d"
      },
      "execution_count": null,
      "outputs": [
        {
          "output_type": "execute_result",
          "data": {
            "text/plain": [
              "<matplotlib.axes._subplots.AxesSubplot at 0x7f4cafe9e590>"
            ]
          },
          "metadata": {},
          "execution_count": 389
        },
        {
          "output_type": "display_data",
          "data": {
            "text/plain": [
              "<Figure size 432x288 with 1 Axes>"
            ],
            "image/png": "[encoded data removed]"
          },
          "metadata": {
            "needs_background": "light"
          }
        }
      ]
    }
  ],
  "metadata": {
    "kernelspec": {
      "display_name": "Python 3",
      "language": "python",
      "name": "python3"
    },
    "language_info": {
      "codemirror_mode": {
        "name": "ipython",
        "version": 3
      },
      "file_extension": ".py",
      "mimetype": "text/x-python",
      "name": "python",
      "nbconvert_exporter": "python",
      "pygments_lexer": "ipython3",
      "version": "3.6.7"
    },
    "colab": {
      "provenance": []
    }
  },
  "nbformat": 4,
  "nbformat_minor": 0
}